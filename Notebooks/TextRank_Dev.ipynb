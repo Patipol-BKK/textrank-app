{
 "cells": [
  {
   "cell_type": "code",
   "execution_count": 109,
   "id": "7cee52ed-c492-49e3-a405-4f4cbb9cc830",
   "metadata": {},
   "outputs": [],
   "source": [
    "import numpy as np\n",
    "import re\n",
    "import copy\n",
    "import string"
   ]
  },
  {
   "cell_type": "code",
   "execution_count": 110,
   "id": "e3e20388-73ba-4e4e-b472-1afac5f15e69",
   "metadata": {},
   "outputs": [],
   "source": [
    "from nltk.tokenize import sent_tokenize, word_tokenize"
   ]
  },
  {
   "cell_type": "code",
   "execution_count": 112,
   "id": "3e429998-24af-4dad-ab47-e26d6aa51c94",
   "metadata": {},
   "outputs": [
    {
     "name": "stdout",
     "output_type": "stream",
     "text": [
      "['Provide', 'some', 'illustrative', 'examples', 'to', 'your', 'problem', 'formulation', 'and', 'its', 'solution', '.']\n"
     ]
    }
   ],
   "source": [
    "with open('test.txt', 'r') as f:\n",
    "    text = f.read()\n",
    "    printable = set(string.printable)\n",
    "    text = ''.join(filter(lambda x: x in printable, text))\n",
    "    print(list(word_tokenize(text)))"
   ]
  },
  {
   "cell_type": "code",
   "execution_count": 113,
   "id": "472d8b4e-6bd3-4017-97f2-c833fa890da6",
   "metadata": {},
   "outputs": [],
   "source": [
    "import nltk\n",
    "from nltk.corpus import stopwords\n",
    "from nltk.tokenize import word_tokenize\n",
    "from nltk.tokenize import sent_tokenize\n",
    "from nltk.tag import pos_tag\n",
    "from nltk.corpus import wordnet as wn\n",
    "from nltk.stem import PorterStemmer\n",
    "\n",
    "import re\n",
    "import string\n",
    "\n",
    "from itertools import combinations"
   ]
  },
  {
   "cell_type": "code",
   "execution_count": 114,
   "id": "115470aa-be66-494e-af50-17b382f9334e",
   "metadata": {},
   "outputs": [
    {
     "name": "stderr",
     "output_type": "stream",
     "text": [
      "[nltk_data] Downloading package punkt to\n",
      "[nltk_data]     C:\\Users\\iraha\\AppData\\Roaming\\nltk_data...\n",
      "[nltk_data]   Package punkt is already up-to-date!\n",
      "[nltk_data] Downloading package averaged_perceptron_tagger to\n",
      "[nltk_data]     C:\\Users\\iraha\\AppData\\Roaming\\nltk_data...\n",
      "[nltk_data]   Package averaged_perceptron_tagger is already up-to-\n",
      "[nltk_data]       date!\n",
      "[nltk_data] Downloading package stopwords to\n",
      "[nltk_data]     C:\\Users\\iraha\\AppData\\Roaming\\nltk_data...\n",
      "[nltk_data]   Package stopwords is already up-to-date!\n",
      "[nltk_data] Downloading package wordnet to\n",
      "[nltk_data]     C:\\Users\\iraha\\AppData\\Roaming\\nltk_data...\n",
      "[nltk_data]   Package wordnet is already up-to-date!\n"
     ]
    }
   ],
   "source": [
    "class ArticleTokenizer:\n",
    "    def __init__(self):\n",
    "        # Download nltk data\n",
    "        nltk.download('punkt')\n",
    "        nltk.download('averaged_perceptron_tagger')\n",
    "        nltk.download('stopwords')\n",
    "        nltk.download('wordnet')\n",
    "        \n",
    "        self.stopwords = stopwords.words('english')\n",
    "        self.porter_stemmer = PorterStemmer()\n",
    "\n",
    "    def extract_words(self, text):\n",
    "        # Split text using phrase boundaries (except periods)\n",
    "        phrase_boundaries = [',', '!', '?', ';', ':', '\\'', '\\\"', '(', ')', '[', ']', '{', '}', '<', '>', '-', '\\n', '\\t']\n",
    "        split_pattern = '|'.join(re.escape(boundary) for boundary in phrase_boundaries)\n",
    "        splitted_text = re.split(split_pattern, text)\n",
    "        splitted_text = [phrase.strip(' ') for phrase in splitted_text if bool(phrase.strip(' '))]\n",
    "\n",
    "        # Split text by periods while keeping internal periods\n",
    "        new_splitted_text = []\n",
    "        for phrase in splitted_text:\n",
    "            splitted_phrase = phrase.split(' ')\n",
    "            for word in splitted_phrase:\n",
    "                # Check if word is at the end of a sentence (last character is a period but no internal period(s))\n",
    "                if word[-1] == '.' and word.count('.') == 1:\n",
    "                    if bool(word[:-1]):\n",
    "                        new_splitted_text.append(word[:-1].strip(' '))\n",
    "                else :\n",
    "                    if bool(word):\n",
    "                        new_splitted_text.append(word.strip(' '))\n",
    "        splitted_text = new_splitted_text\n",
    "        return list(word_tokenize(text))\n",
    "        \n",
    "    \n",
    "    # Keyword extraction based on the papers: \n",
    "    # Domain-Specific Keyphrase Extraction\n",
    "    # Improved Automatic Keyword Extraction Given More Linguistic Knowledge\n",
    "    def extract_keywords(self, text, max_keyword_length=3):\n",
    "        # Split text using phrase boundaries (except periods)\n",
    "        phrase_boundaries = [',', '!', '?', ';', ':', '\\'', '\\\"', '(', ')', '[', ']', '{', '}', '<', '>', '-', '\\n']\n",
    "        split_pattern = '|'.join(re.escape(boundary) for boundary in phrase_boundaries)\n",
    "        splitted_text = re.split(split_pattern, text)\n",
    "        splitted_text = [phrase.strip() for phrase in splitted_text if bool(phrase.strip())]\n",
    "\n",
    "        # Split text by periods while keeping internal periods + remove and split text by numbers and stopwords\n",
    "        new_splitted_text = []\n",
    "        for phrase in splitted_text:\n",
    "            splitted_phrase = phrase.split(' ')\n",
    "            new_phrase = ''\n",
    "            for word in splitted_phrase:\n",
    "                # Check if word is at the end of a sentence (last character is a period but no internal period(s))\n",
    "                if word[-1] == '.' and word.count('.') == 1:\n",
    "                    new_phrase += f' {word[:-1]}'\n",
    "                    if bool(new_phrase):\n",
    "                        new_splitted_text.append(new_phrase)\n",
    "                    new_phrase = ''\n",
    "                elif word.isnumeric() or word.lower() in self.stopwords:\n",
    "                    if bool(new_phrase):\n",
    "                        new_splitted_text.append(new_phrase)\n",
    "                    new_phrase = ''\n",
    "                else :\n",
    "                    new_phrase += f' {word}'\n",
    "            if bool(new_phrase):\n",
    "                new_splitted_text.append(new_phrase)\n",
    "        splitted_text = new_splitted_text\n",
    "        splitted_text = [phrase.strip() for phrase in splitted_text]\n",
    "\n",
    "        # Extract substrings of candidate phrases with 3 or less words + capitalize words\n",
    "        candidate_phrases = []\n",
    "        for phrase in splitted_text:\n",
    "            words = []\n",
    "            for word in phrase.split(' '):\n",
    "                if word.isalpha() and not word.isupper() and not word.islower():\n",
    "                    words.append(word.lower())\n",
    "                else:\n",
    "                    words.append(word)\n",
    "                    \n",
    "            for i in range(1, max_keyword_length + 1):\n",
    "                for j in range(len(words) - i + 1):\n",
    "                    if j - i == 1:\n",
    "                        candidate_phrases.append(words[j])\n",
    "                    else: \n",
    "                        candidate_phrases.append(' '.join(words[j: j+i]))\n",
    "        candidate_phrases = set(candidate_phrases)\n",
    "                \n",
    "        return [phrase.strip() for phrase in candidate_phrases]\n",
    "\n",
    "tokenizer = ArticleTokenizer()\n",
    "keywords = tokenizer.extract_keywords(text, 1)\n",
    "tagged_keywords = pos_tag(keywords)\n",
    "words_list = tokenizer.extract_words(text)"
   ]
  },
  {
   "cell_type": "code",
   "execution_count": 115,
   "id": "bf85f609-1f46-43d9-acec-21d3dda73a61",
   "metadata": {},
   "outputs": [
    {
     "data": {
      "text/plain": [
       "[('illustrative', 'JJ'),\n",
       " ('problem', 'NN'),\n",
       " ('solution', 'NN'),\n",
       " ('formulation', 'NN'),\n",
       " ('examples', 'NNS'),\n",
       " ('provide', 'VBP')]"
      ]
     },
     "execution_count": 115,
     "metadata": {},
     "output_type": "execute_result"
    }
   ],
   "source": [
    "tagged_keywords"
   ]
  },
  {
   "cell_type": "code",
   "execution_count": 116,
   "id": "96d957e6-8f26-464f-b264-7118b8a01495",
   "metadata": {},
   "outputs": [
    {
     "data": {
      "text/plain": [
       "[('examples', 'NNS'),\n",
       " ('formulation', 'NN'),\n",
       " ('illustrative', 'JJ'),\n",
       " ('problem', 'NN'),\n",
       " ('provide', 'VBP'),\n",
       " ('solution', 'NN')]"
      ]
     },
     "execution_count": 116,
     "metadata": {},
     "output_type": "execute_result"
    }
   ],
   "source": [
    "tagged_keywords = [tagged_keyword for tagged_keyword in tagged_keywords if tagged_keyword[1][0] == 'J' or tagged_keyword[1][0] == 'N' or tagged_keyword[1][:2] == 'VB']\n",
    "tagged_keywords.sort()\n",
    "tagged_keywords"
   ]
  },
  {
   "cell_type": "code",
   "execution_count": 127,
   "id": "e9be73b2-7c8d-4318-a64f-aafd3d914476",
   "metadata": {},
   "outputs": [],
   "source": [
    "def are_adjacent2(indices_1, indices_2):\n",
    "    i = 0\n",
    "    j = 0\n",
    "    while i < len(indices_1) and j < len(indices_2):\n",
    "        if indices_2[j] - indices_1[i] == 1:\n",
    "            return True\n",
    "        if indices_1[i] == min(indices_1[i], indices_2[j]):\n",
    "            i += 1\n",
    "        else:\n",
    "            j += 1\n",
    "    return False\n",
    "    \n",
    "def are_adjacent3(indices_1, indices_2, indices_3):\n",
    "    i = 0\n",
    "    j = 0\n",
    "    k = 0\n",
    "    while i < len(indices_1) and j < len(indices_2) and k < len(indices_3):\n",
    "        if indices_2[j] - indices_1[i] == 1 and indices_3[k] - indices_2[j] == 1:\n",
    "            return True\n",
    "        if indices_1[i] == min(indices_1[i], indices_2[j], indices_3[k]):\n",
    "            i += 1\n",
    "        elif indices_2[j] == min(indices_1[i], indices_2[j], indices_3[k]):\n",
    "            j += 1\n",
    "        else:\n",
    "            k += 1\n",
    "    return False\n",
    "\n",
    "def create_keyword_indices(keywords, words_list):\n",
    "    keyword_indices = {}\n",
    "    for keyword in keywords:\n",
    "        if keyword in keyword_indices:\n",
    "            keyword_indices[keyword] += [i for i in range(len(words_list)) if words_list[i].lower() == keyword.lower()]\n",
    "        else:\n",
    "            keyword_indices[keyword] = [i for i in range(len(words_list)) if words_list[i].lower() == keyword.lower()]\n",
    "    return keyword_indices\n",
    "\n",
    "def create_wordgraph(keyword_indices, max_distance=10, directed=False):\n",
    "    graph_size = len(keyword_indices.keys())\n",
    "    graph_matrix = np.zeros((graph_size, graph_size))\n",
    "\n",
    "    for idx_1, keyword_1 in enumerate(keyword_indices.keys()):\n",
    "        for idx_2, keyword_2 in enumerate(keyword_indices.keys()):\n",
    "            if keyword_1 == keyword_2:\n",
    "                continue\n",
    "            i = 0\n",
    "            j = 0\n",
    "            while i < len(keyword_indices[keyword_1]) and j < len(keyword_indices[keyword_2]):\n",
    "                distance = keyword_indices[keyword_2][j] - keyword_indices[keyword_1][i]\n",
    "                if distance < max_distance and distance > 0:\n",
    "                    if not directed:\n",
    "                        graph_matrix[idx_2][idx_1] = 1\n",
    "                    graph_matrix[idx_1][idx_2] = 1\n",
    "                    break\n",
    "                if keyword_indices[keyword_1][i] > keyword_indices[keyword_2][j]:\n",
    "                    j += 1\n",
    "                else:\n",
    "                    i += 1\n",
    "    return graph_matrix, list(keyword_indices.keys())\n",
    "\n",
    "keyword_indices = create_keyword_indices([tagged_keyword[0] for tagged_keyword in tagged_keywords], words_list)\n",
    "graph_matrix, keywords = create_wordgraph(keyword_indices, max_distance=4, directed=False)"
   ]
  },
  {
   "cell_type": "code",
   "execution_count": 128,
   "id": "4e492665-9a6c-4049-a561-2c057d50c4f0",
   "metadata": {},
   "outputs": [
    {
     "data": {
      "image/png": "[encoded data removed]",
      "text/plain": [
       "<Figure size 640x480 with 1 Axes>"
      ]
     },
     "metadata": {},
     "output_type": "display_data"
    }
   ],
   "source": [
    "import networkx as nx\n",
    "\n",
    "def plot_graph(adjacency_matrix, node_names):\n",
    "    # Create a graph from the adjacency matrix\n",
    "    G = nx.from_numpy_array(np.array(adjacency_matrix))\n",
    "\n",
    "    # Assign node names\n",
    "    mapping = {i: node_names[i] for i in range(len(node_names))}\n",
    "    G = nx.relabel_nodes(G, mapping)\n",
    "\n",
    "    # Draw the graph\n",
    "    pos = nx.spring_layout(G)  # or any other layout\n",
    "    nx.draw(G, pos, with_labels=True, node_size=1000, node_color='skyblue', font_size=8, font_weight='normal')\n",
    "    plt.title(\"Graph Visualization\")\n",
    "    plt.show()\n",
    "\n",
    "plot_graph(graph_matrix, keywords)"
   ]
  },
  {
   "cell_type": "code",
   "execution_count": 129,
   "id": "a689f96b-b5ba-4d73-94a6-c23bea65f21a",
   "metadata": {},
   "outputs": [
    {
     "data": {
      "text/plain": [
       "<matplotlib.image.AxesImage at 0x230c228e7d0>"
      ]
     },
     "execution_count": 129,
     "metadata": {},
     "output_type": "execute_result"
    },
    {
     "data": {
      "image/png": "[encoded data removed]",
      "text/plain": [
       "<Figure size 640x480 with 1 Axes>"
      ]
     },
     "metadata": {},
     "output_type": "display_data"
    }
   ],
   "source": [
    "def format_graphmatrix(graph_matrix):\n",
    "    num_branches = graph_matrix.sum(axis=0)\n",
    "    page_num = len(num_branches)\n",
    "    for u in range(page_num):\n",
    "        for v in range(page_num):\n",
    "            if num_branches[v] > 0:\n",
    "                pass\n",
    "                graph_matrix[u][v] *= 1/num_branches[v]\n",
    "    return graph_matrix\n",
    "plt.imshow(format_graphmatrix(graph_matrix))"
   ]
  },
  {
   "cell_type": "code",
   "execution_count": 130,
   "id": "6e8c24ed-1342-44a0-adf6-2ad916ec5ad1",
   "metadata": {},
   "outputs": [
    {
     "data": {
      "text/plain": [
       "1.0"
      ]
     },
     "execution_count": 130,
     "metadata": {},
     "output_type": "execute_result"
    }
   ],
   "source": [
    "# Iteratively calculate PageRank scores based on given transition matrix and given params. \n",
    "# Returns a list of PageRank scores over the iterations\n",
    "def calculate_pagerank(trans_mat, damp_factor=0.85, max_iter=2000, threshold=0.0001, use_taxation=True):\n",
    "    num_pages = trans_mat.shape[0]\n",
    "    \n",
    "    # Initialize PageRank scores\n",
    "    pr_scores = np.ones(num_pages)\n",
    "\n",
    "    # Create a log list for PageRank scores\n",
    "    pr_scores_list = [pr_scores]\n",
    "\n",
    "    # Copy input transition matrix\n",
    "    matrix = copy.deepcopy(trans_mat)\n",
    "\n",
    "    # Find and fill deadends as 1 / num_pages to teleport to another node\n",
    "    no_links_pages = np.where(~matrix.any(axis=0))[0]\n",
    "    matrix[:, no_links_pages] = 1 / num_pages\n",
    "\n",
    "    # Iteratively computes new PageRank scores\n",
    "    for i in range(max_iter):\n",
    "        new_pr_scores = np.zeros(num_pages)\n",
    "        \n",
    "        # Check if taxation is used or not\n",
    "        if use_taxation:\n",
    "            new_pr_scores = damp_factor * np.dot(matrix, pr_scores) + (1 - damp_factor) / num_pages * np.ones(num_pages)\n",
    "        else:\n",
    "            new_pr_scores = np.dot(matrix, pr_scores)\n",
    "\n",
    "        # Check if new PageRank score updates are smaller than thereshold\n",
    "        if np.max(np.abs(new_pr_scores - pr_scores)) < threshold:\n",
    "            break\n",
    "        pr_scores = new_pr_scores\n",
    "        pr_scores_list.append(new_pr_scores)\n",
    "\n",
    "    return pr_scores_list\n",
    "textrank_scores = calculate_pagerank(graph_matrix)\n",
    "np.max(graph_matrix)"
   ]
  },
  {
   "cell_type": "code",
   "execution_count": 123,
   "id": "5d763b45-dff6-4834-bdbe-0c8ae2c2cb30",
   "metadata": {},
   "outputs": [
    {
     "name": "stdout",
     "output_type": "stream",
     "text": [
      "[(0.28496683786219873, 'provide'), (0.2084497540777554, 'examples'), (0.1682527244790066, 'problem'), (0.1540099246929769, 'illustrative'), (0.12098111207893428, 'formulation'), (0.06538646109087684, 'solution')]\n"
     ]
    }
   ],
   "source": [
    "keyword_scores = []\n",
    "for i in range(len(keywords)):\n",
    "    keyword_scores.append((textrank_scores[-1][i], keywords[i]))\n",
    "keyword_scores.sort(reverse=True)\n",
    "print(keyword_scores)"
   ]
  },
  {
   "cell_type": "code",
   "execution_count": 131,
   "id": "a479dfbb-8735-496e-b75a-fac46b185401",
   "metadata": {},
   "outputs": [
    {
     "data": {
      "image/png": "[encoded data removed]",
      "text/plain": [
       "<Figure size 640x480 with 1 Axes>"
      ]
     },
     "metadata": {},
     "output_type": "display_data"
    }
   ],
   "source": [
    "for idx, node_name in enumerate(keywords):\n",
    "    node_pr_scores = []\n",
    "    for timeframe in textrank_scores:\n",
    "        node_pr_scores.append(timeframe[idx])\n",
    "    plt.plot(node_pr_scores, label=node_name)\n",
    "plt.title('Nodes TextRank Scores Over Iterations')\n",
    "plt.xlabel('Iterations')\n",
    "plt.ylabel('TextRank Score')\n",
    "plt.legend()\n",
    "plt.show()"
   ]
  },
  {
   "cell_type": "code",
   "execution_count": 135,
   "id": "0f2d9541-af85-466a-9cf3-16e022a0132e",
   "metadata": {},
   "outputs": [],
   "source": [
    "def postprocess_keywords(self, max_accepted_words):\n",
    "    final_keywords = set()\n",
    "    self.keyword_scores.sort(reverse=True)\n",
    "    accepted_keyword_scores = self.keyword_scores[:max_accepted_words]\n",
    "    for keyword_score_1 in accepted_keyword_scores:\n",
    "        found_2 = False\n",
    "        for keyword_score_2 in self.keyword_scores:\n",
    "            if keyword_score_1 == keyword_score_2:\n",
    "                continue\n",
    "            if self.are_adjacent2(self.keyword_indices[keyword_score_1[1]], self.keyword_indices[keyword_score_2[1]]):\n",
    "                found_2 = True\n",
    "                found_3 = False\n",
    "                for keyword_score_3 in self.keyword_scores:\n",
    "                    if keyword_score_2 == keyword_score_3 or keyword_score_1 == keyword_score_3:\n",
    "                        continue\n",
    "                    if self.are_adjacent3(self.keyword_indices[keyword_score_1[1]], self.keyword_indices[keyword_score_2[1]], self.keyword_indices[keyword_score_3[1]]):\n",
    "                            found_3 = True\n",
    "                            final_keywords.add(keyword_score_1[1] + ' ' + keyword_score_2[1] + ' ' + keyword_score_3[1])\n",
    "                if not found_3:\n",
    "                    final_keywords.add(keyword_score_1[1] + ' ' + keyword_score_2[1])\n",
    "        if not found_2:\n",
    "            final_keywords.add(keyword_score_1[1])\n",
    "\n",
    "                \n",
    "    return final_keywords\n",
    "\n",
    "def postprocess_keywords_chronological(self, max_accepted_words, max_keyword_length):\n",
    "    final_keywords = set()\n",
    "    self.keyword_scores.sort(reverse=True)\n",
    "    accepted_keyword_scores = self.keyword_scores[:max_accepted_words]\n",
    "    accepted_keywords = [accepted_keyword_score[1] for accepted_keyword_score in accepted_keyword_scores]\n",
    "\n",
    "    scores = {}\n",
    "    for keyword_score in self.keyword_scores:\n",
    "        scores[keyword_score[1].lower()] = keyword_score[0]\n",
    "\n",
    "    idx = 0\n",
    "    keyword_phrase = ''\n",
    "    score = 0\n",
    "    while idx < len(self.words_list):\n",
    "        word = self.words_list[idx]\n",
    "        # If current keyword phrase is empty\n",
    "        if not bool(keyword_phrase):\n",
    "            if word.lower() in accepted_keywords:\n",
    "                keyword_phrase = word\n",
    "        else:\n",
    "            if word.lower() in self.keywords:\n",
    "                keyword_phrase += f' {word}'\n",
    "            else:\n",
    "                final_keywords.add((scores[keyword_phrase.split(' ')[0].lower()], keyword_phrase))\n",
    "                keyword_phrase = ''\n",
    "        if len(keyword_phrase.split(' ')) >= max_keyword_length:\n",
    "            final_keywords.add((scores[keyword_phrase.split(' ')[0].lower()], keyword_phrase))\n",
    "            keyword_phrase = ''\n",
    "        idx += 1\n",
    "    final_keywords = list(final_keywords)\n",
    "    final_keywords.sort(reverse=True)\n",
    "    return [keyword[1] for keyword in final_keywords]"
   ]
  },
  {
   "cell_type": "code",
   "execution_count": 141,
   "id": "e8d7ae11-59b3-42fa-917f-6629dfb3b840",
   "metadata": {},
   "outputs": [
    {
     "name": "stdout",
     "output_type": "stream",
     "text": [
      "Provide some illustrative examples to your problem formulation and its solution.\n",
      "[array([1., 1., 1., 1., 1., 1.]), array([1.44166667, 1.44166667, 0.59166667, 0.59166667, 0.59166667,\n",
      "       0.59166667]), array([1.10402778, 1.10402778, 0.60111111, 0.60111111, 0.60111111,\n",
      "       0.60111111]), array([1.01906713, 1.01906713, 0.50812269, 0.50812269, 0.50812269,\n",
      "       0.50812269]), array([0.88960806, 0.88960806, 0.45770378, 0.45770378, 0.45770378,\n",
      "       0.45770378]), array([0.79578657, 0.79578657, 0.40673836, 0.40673836, 0.40673836,\n",
      "       0.40673836]), array([0.711443 , 0.711443 , 0.3657154, 0.3657154, 0.3657154, 0.3657154]), array([0.64105296, 0.64105296, 0.33019488, 0.33019488, 0.33019488,\n",
      "       0.33019488]), array([0.58085254, 0.58085254, 0.30018689, 0.30018689, 0.30018689,\n",
      "       0.30018689]), array([0.52978669, 0.52978669, 0.27462784, 0.27462784, 0.27462784,\n",
      "       0.27462784]), array([0.48635111, 0.48635111, 0.25291745, 0.25291745, 0.25291745,\n",
      "       0.25291745]), array([0.44943926, 0.44943926, 0.23445943, 0.23445943, 0.23445943,\n",
      "       0.23445943]), array([0.41806181, 0.41806181, 0.21877129, 0.21877129, 0.21877129,\n",
      "       0.21877129]), array([0.39139164, 0.39139164, 0.20543604, 0.20543604, 0.20543604,\n",
      "       0.20543604]), array([0.36872182, 0.36872182, 0.19410118, 0.19410118, 0.19410118,\n",
      "       0.19410118]), array([0.34945252, 0.34945252, 0.18446652, 0.18446652, 0.18446652,\n",
      "       0.18446652]), array([0.3330736 , 0.3330736 , 0.17627706, 0.17627706, 0.17627706,\n",
      "       0.17627706]), array([0.31915152, 0.31915152, 0.16931602, 0.16931602, 0.16931602,\n",
      "       0.16931602]), array([0.30731775, 0.30731775, 0.16339914, 0.16339914, 0.16339914,\n",
      "       0.16339914]), array([0.29725905, 0.29725905, 0.15836979, 0.15836979, 0.15836979,\n",
      "       0.15836979]), array([0.28870915, 0.28870915, 0.15409484, 0.15409484, 0.15409484,\n",
      "       0.15409484]), array([0.28144174, 0.28144174, 0.15046113, 0.15046113, 0.15046113,\n",
      "       0.15046113]), array([0.27526444, 0.27526444, 0.14737248, 0.14737248, 0.14737248,\n",
      "       0.14737248]), array([0.27001374, 0.27001374, 0.14474713, 0.14474713, 0.14474713,\n",
      "       0.14474713]), array([0.26555064, 0.26555064, 0.14251558, 0.14251558, 0.14251558,\n",
      "       0.14251558]), array([0.261757  , 0.261757  , 0.14061876, 0.14061876, 0.14061876,\n",
      "       0.14061876]), array([0.25853241, 0.25853241, 0.13900647, 0.13900647, 0.13900647,\n",
      "       0.13900647]), array([0.25579151, 0.25579151, 0.13763602, 0.13763602, 0.13763602,\n",
      "       0.13763602]), array([0.25346175, 0.25346175, 0.13647113, 0.13647113, 0.13647113,\n",
      "       0.13647113]), array([0.25148145, 0.25148145, 0.13548098, 0.13548098, 0.13548098,\n",
      "       0.13548098]), array([0.24979819, 0.24979819, 0.13463935, 0.13463935, 0.13463935,\n",
      "       0.13463935]), array([0.24836742, 0.24836742, 0.13392397, 0.13392397, 0.13392397,\n",
      "       0.13392397]), array([0.24715127, 0.24715127, 0.13331589, 0.13331589, 0.13331589,\n",
      "       0.13331589]), array([0.24611754, 0.24611754, 0.13279903, 0.13279903, 0.13279903,\n",
      "       0.13279903]), array([0.24523887, 0.24523887, 0.13235969, 0.13235969, 0.13235969,\n",
      "       0.13235969]), array([0.244492  , 0.244492  , 0.13198626, 0.13198626, 0.13198626,\n",
      "       0.13198626]), array([0.24385716, 0.24385716, 0.13166884, 0.13166884, 0.13166884,\n",
      "       0.13166884]), array([0.24331755, 0.24331755, 0.13139903, 0.13139903, 0.13139903,\n",
      "       0.13139903]), array([0.24285888, 0.24285888, 0.1311697 , 0.1311697 , 0.1311697 ,\n",
      "       0.1311697 ]), array([0.24246901, 0.24246901, 0.13097476, 0.13097476, 0.13097476,\n",
      "       0.13097476]), array([0.24213762, 0.24213762, 0.13080907, 0.13080907, 0.13080907,\n",
      "       0.13080907]), array([0.24185594, 0.24185594, 0.13066823, 0.13066823, 0.13066823,\n",
      "       0.13066823]), array([0.24161651, 0.24161651, 0.13054851, 0.13054851, 0.13054851,\n",
      "       0.13054851]), array([0.24141299, 0.24141299, 0.13044676, 0.13044676, 0.13044676,\n",
      "       0.13044676]), array([0.24124   , 0.24124   , 0.13036026, 0.13036026, 0.13036026,\n",
      "       0.13036026]), array([0.24109296, 0.24109296, 0.13028674, 0.13028674, 0.13028674,\n",
      "       0.13028674]), array([0.24096798, 0.24096798, 0.13022425, 0.13022425, 0.13022425,\n",
      "       0.13022425]), array([0.24086174, 0.24086174, 0.13017113, 0.13017113, 0.13017113,\n",
      "       0.13017113])]\n",
      "['Problem formulation', 'Solution', 'Illustrative examples']\n"
     ]
    },
    {
     "name": "stderr",
     "output_type": "stream",
     "text": [
      "[nltk_data] Downloading package punkt to\n",
      "[nltk_data]     C:\\Users\\iraha\\AppData\\Roaming\\nltk_data...\n",
      "[nltk_data]   Package punkt is already up-to-date!\n",
      "[nltk_data] Downloading package averaged_perceptron_tagger to\n",
      "[nltk_data]     C:\\Users\\iraha\\AppData\\Roaming\\nltk_data...\n",
      "[nltk_data]   Package averaged_perceptron_tagger is already up-to-\n",
      "[nltk_data]       date!\n",
      "[nltk_data] Downloading package stopwords to\n",
      "[nltk_data]     C:\\Users\\iraha\\AppData\\Roaming\\nltk_data...\n",
      "[nltk_data]   Package stopwords is already up-to-date!\n",
      "[nltk_data] Downloading package wordnet to\n",
      "[nltk_data]     C:\\Users\\iraha\\AppData\\Roaming\\nltk_data...\n",
      "[nltk_data]   Package wordnet is already up-to-date!\n"
     ]
    }
   ],
   "source": [
    "import importlib\n",
    "\n",
    "import text_rank\n",
    "importlib.reload(text_rank)\n",
    "\n",
    "import string\n",
    "\n",
    "with open('test.txt', 'r') as f:\n",
    "    text = f.read()\n",
    "    printable = set(string.printable)\n",
    "    text = ''.join(filter(lambda x: x in printable, text))\n",
    "    print(text)\n",
    "\n",
    "tokenizer = text_rank.ArticleTokenizer()\n",
    "keywords = tokenizer.extract_keywords(text, 1)\n",
    "tagged_keywords = tokenizer.tag_keywords(keywords)\n",
    "words_list = tokenizer.extract_words(text)\n",
    "\n",
    "word_graph = text_rank.WordGraph(keywords, words_list, max_distance=2, directed=True)\n",
    "word_graph.calculate_pagerank()\n",
    "\n",
    "final_keywords = [keyword.capitalize() for keyword in word_graph.postprocess_keywords_chronological(3, 3) if bool(keyword)]\n",
    "print(word_graph.calculate_pagerank())\n",
    "print(final_keywords)"
   ]
  },
  {
   "cell_type": "code",
   "execution_count": null,
   "id": "0ccd1d5a-e518-4c5e-b599-894678c071d8",
   "metadata": {},
   "outputs": [],
   "source": []
  }
 ],
 "metadata": {
  "kernelspec": {
   "display_name": "Python 3 (ipykernel)",
   "language": "python",
   "name": "python3"
  },
  "language_info": {
   "codemirror_mode": {
    "name": "ipython",
    "version": 3
   },
   "file_extension": ".py",
   "mimetype": "text/x-python",
   "name": "python",
   "nbconvert_exporter": "python",
   "pygments_lexer": "ipython3",
   "version": "3.10.13"
  }
 },
 "nbformat": 4,
 "nbformat_minor": 5
}
