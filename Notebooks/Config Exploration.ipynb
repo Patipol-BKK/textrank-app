{
 "cells": [
  {
   "cell_type": "code",
   "execution_count": 1,
   "id": "b0a4840d-ba7d-4391-9f7f-d07556a3be5e",
   "metadata": {},
   "outputs": [],
   "source": [
    "import importlib\n",
    "import text_rank\n",
    "importlib.reload(text_rank)\n",
    "import os\n",
    "import string\n",
    "from tqdm.notebook import tqdm"
   ]
  },
  {
   "cell_type": "code",
   "execution_count": 2,
   "id": "d670ed38-d3e8-44c9-a665-d415e22e84c3",
   "metadata": {},
   "outputs": [],
   "source": [
    "def evaluate_keywords(predicted_keywords, labeled_keywords):\n",
    "    tp = 0\n",
    "    fp = 0\n",
    "    fn = 0\n",
    "    labeled_keywords_lower = [keyword.lower().strip() for keyword in labeled_keywords]\n",
    "    predicted_keywords_lower = [keyword.lower().strip() for keyword in predicted_keywords]\n",
    "    for keyword in predicted_keywords_lower:\n",
    "        if keyword in labeled_keywords_lower:\n",
    "            tp += 1\n",
    "        else:\n",
    "            fp += 1\n",
    "    for keyword in labeled_keywords:\n",
    "        if not keyword in predicted_keywords_lower:\n",
    "            fn += 1\n",
    "    return tp, fp, fn\n",
    "\n",
    "def read_file(file_path):\n",
    "    with open(file_path, 'r') as f:\n",
    "        text = f.read()\n",
    "        printable = set(string.printable)\n",
    "        text = ''.join(filter(lambda x: x in printable, text))\n",
    "        return text"
   ]
  },
  {
   "cell_type": "code",
   "execution_count": 3,
   "id": "f435d7e1-af82-4399-a089-61c73a4895b9",
   "metadata": {},
   "outputs": [
    {
     "name": "stderr",
     "output_type": "stream",
     "text": [
      "[nltk_data] Downloading package punkt to\n",
      "[nltk_data]     C:\\Users\\iraha\\AppData\\Roaming\\nltk_data...\n",
      "[nltk_data]   Package punkt is already up-to-date!\n",
      "[nltk_data] Downloading package averaged_perceptron_tagger to\n",
      "[nltk_data]     C:\\Users\\iraha\\AppData\\Roaming\\nltk_data...\n",
      "[nltk_data]   Package averaged_perceptron_tagger is already up-to-\n",
      "[nltk_data]       date!\n",
      "[nltk_data] Downloading package stopwords to\n",
      "[nltk_data]     C:\\Users\\iraha\\AppData\\Roaming\\nltk_data...\n",
      "[nltk_data]   Package stopwords is already up-to-date!\n",
      "[nltk_data] Downloading package wordnet to\n",
      "[nltk_data]     C:\\Users\\iraha\\AppData\\Roaming\\nltk_data...\n",
      "[nltk_data]   Package wordnet is already up-to-date!\n"
     ]
    }
   ],
   "source": [
    "abstracts_dir = 'Inspec/docsutf8'\n",
    "keywords_dir = 'Inspec/keys'\n",
    "\n",
    "tokenizer = text_rank.ArticleTokenizer()\n",
    "\n",
    "def run_config_single(abstract_path, keywords_path, co_occurances, directed, max_keywords, max_keyword_length):\n",
    "    abstract = read_file(abstract_path)\n",
    "    labeled_keywords_raw = read_file(keywords_path)\n",
    "    labeled_keywords = [keyword.strip() for keyword in labeled_keywords_raw.split('\\n') if bool(keyword.strip())]\n",
    "\n",
    "    \n",
    "    candidate_keywords = tokenizer.extract_keywords(abstract, 1)\n",
    "    tagged_candidate_keywords = tokenizer.tag_keywords(candidate_keywords)\n",
    "    words_list = tokenizer.extract_words(abstract)\n",
    "\n",
    "    word_graph = text_rank.WordGraph(candidate_keywords, words_list, max_distance=co_occurances, directed=directed)\n",
    "    word_graph.calculate_pagerank()\n",
    "\n",
    "    predicted_keywords = word_graph.postprocess_keywords_chronological(max_keywords, max_keyword_length)\n",
    "\n",
    "    return predicted_keywords, labeled_keywords\n",
    "\n",
    "def test_config(co_occurances, directed, max_keywords, max_keyword_length):\n",
    "    tp = 0\n",
    "    fp = 0\n",
    "    fn = 0\n",
    "    file_names = [file_path.split('.')[0] for file_path in os.listdir(keywords_dir)]\n",
    "    for file_name in tqdm(file_names):\n",
    "        abstract_path = os.path.join(abstracts_dir, file_name + '.txt')\n",
    "        keywords_path = os.path.join(keywords_dir, file_name + '.key')\n",
    "\n",
    "        predicted_keywords, labeled_keywords = run_config_single(abstract_path, keywords_path, co_occurances, directed, max_keywords, max_keyword_length)\n",
    "        local_tp, local_fp, local_fn = evaluate_keywords(predicted_keywords, labeled_keywords)\n",
    "\n",
    "        tp += local_tp\n",
    "        fp += local_fp\n",
    "        fn += local_fn\n",
    "    return tp, fp, fn"
   ]
  },
  {
   "cell_type": "code",
   "execution_count": 84,
   "id": "5bc5aa97-651e-4cb8-951b-82273e7efe23",
   "metadata": {},
   "outputs": [
    {
     "data": {
      "application/vnd.jupyter.widget-view+json": {
       "model_id": "dab2663961634384afbc977483d6b4fd",
       "version_major": 2,
       "version_minor": 0
      },
      "text/plain": [
       "  0%|          | 0/2000 [00:00<?, ?it/s]"
      ]
     },
     "metadata": {},
     "output_type": "display_data"
    },
    {
     "data": {
      "application/vnd.jupyter.widget-view+json": {
       "model_id": "b524198716234d61bd98673fa1cc4d64",
       "version_major": 2,
       "version_minor": 0
      },
      "text/plain": [
       "  0%|          | 0/2000 [00:00<?, ?it/s]"
      ]
     },
     "metadata": {},
     "output_type": "display_data"
    },
    {
     "data": {
      "application/vnd.jupyter.widget-view+json": {
       "model_id": "e0061749586244faa4cd86cc47c66114",
       "version_major": 2,
       "version_minor": 0
      },
      "text/plain": [
       "  0%|          | 0/2000 [00:00<?, ?it/s]"
      ]
     },
     "metadata": {},
     "output_type": "display_data"
    },
    {
     "data": {
      "application/vnd.jupyter.widget-view+json": {
       "model_id": "12e05a2004fa4556aa172a4e5d56cde5",
       "version_major": 2,
       "version_minor": 0
      },
      "text/plain": [
       "  0%|          | 0/2000 [00:00<?, ?it/s]"
      ]
     },
     "metadata": {},
     "output_type": "display_data"
    },
    {
     "data": {
      "application/vnd.jupyter.widget-view+json": {
       "model_id": "d720aacd61604389a770c9ff6c091ab0",
       "version_major": 2,
       "version_minor": 0
      },
      "text/plain": [
       "  0%|          | 0/2000 [00:00<?, ?it/s]"
      ]
     },
     "metadata": {},
     "output_type": "display_data"
    },
    {
     "data": {
      "application/vnd.jupyter.widget-view+json": {
       "model_id": "e66c53e9b44244d58e3897fff292d1d9",
       "version_major": 2,
       "version_minor": 0
      },
      "text/plain": [
       "  0%|          | 0/2000 [00:00<?, ?it/s]"
      ]
     },
     "metadata": {},
     "output_type": "display_data"
    },
    {
     "data": {
      "application/vnd.jupyter.widget-view+json": {
       "model_id": "1bc069742e464b3196cccdb4aff0558d",
       "version_major": 2,
       "version_minor": 0
      },
      "text/plain": [
       "  0%|          | 0/2000 [00:00<?, ?it/s]"
      ]
     },
     "metadata": {},
     "output_type": "display_data"
    },
    {
     "data": {
      "application/vnd.jupyter.widget-view+json": {
       "model_id": "26cb54fa5d3047d8b8eb19ed8829eb11",
       "version_major": 2,
       "version_minor": 0
      },
      "text/plain": [
       "  0%|          | 0/2000 [00:00<?, ?it/s]"
      ]
     },
     "metadata": {},
     "output_type": "display_data"
    },
    {
     "data": {
      "application/vnd.jupyter.widget-view+json": {
       "model_id": "145f33e83b284777a044b7bea3495e66",
       "version_major": 2,
       "version_minor": 0
      },
      "text/plain": [
       "  0%|          | 0/2000 [00:00<?, ?it/s]"
      ]
     },
     "metadata": {},
     "output_type": "display_data"
    },
    {
     "data": {
      "application/vnd.jupyter.widget-view+json": {
       "model_id": "ccb944fb41ce4fb08d23bf5e7cc508cb",
       "version_major": 2,
       "version_minor": 0
      },
      "text/plain": [
       "  0%|          | 0/2000 [00:00<?, ?it/s]"
      ]
     },
     "metadata": {},
     "output_type": "display_data"
    },
    {
     "data": {
      "application/vnd.jupyter.widget-view+json": {
       "model_id": "bc7eb6e0da57486a98bd92824eb09c42",
       "version_major": 2,
       "version_minor": 0
      },
      "text/plain": [
       "  0%|          | 0/2000 [00:00<?, ?it/s]"
      ]
     },
     "metadata": {},
     "output_type": "display_data"
    },
    {
     "data": {
      "application/vnd.jupyter.widget-view+json": {
       "model_id": "813a765299624004ad858383cabb4d11",
       "version_major": 2,
       "version_minor": 0
      },
      "text/plain": [
       "  0%|          | 0/2000 [00:00<?, ?it/s]"
      ]
     },
     "metadata": {},
     "output_type": "display_data"
    },
    {
     "data": {
      "application/vnd.jupyter.widget-view+json": {
       "model_id": "5e512f58e78e46f2b885fa547a6849bc",
       "version_major": 2,
       "version_minor": 0
      },
      "text/plain": [
       "  0%|          | 0/2000 [00:00<?, ?it/s]"
      ]
     },
     "metadata": {},
     "output_type": "display_data"
    },
    {
     "data": {
      "application/vnd.jupyter.widget-view+json": {
       "model_id": "42f7b7904f9a47fdbd353d2afaf7598c",
       "version_major": 2,
       "version_minor": 0
      },
      "text/plain": [
       "  0%|          | 0/2000 [00:00<?, ?it/s]"
      ]
     },
     "metadata": {},
     "output_type": "display_data"
    },
    {
     "data": {
      "application/vnd.jupyter.widget-view+json": {
       "model_id": "0d91295f742846eea77fad713a5d97f2",
       "version_major": 2,
       "version_minor": 0
      },
      "text/plain": [
       "  0%|          | 0/2000 [00:00<?, ?it/s]"
      ]
     },
     "metadata": {},
     "output_type": "display_data"
    },
    {
     "data": {
      "application/vnd.jupyter.widget-view+json": {
       "model_id": "0bd96b50eb6047b2ade99e61d6186400",
       "version_major": 2,
       "version_minor": 0
      },
      "text/plain": [
       "  0%|          | 0/2000 [00:00<?, ?it/s]"
      ]
     },
     "metadata": {},
     "output_type": "display_data"
    },
    {
     "data": {
      "application/vnd.jupyter.widget-view+json": {
       "model_id": "257ae960cba24efc82af1aab033e831e",
       "version_major": 2,
       "version_minor": 0
      },
      "text/plain": [
       "  0%|          | 0/2000 [00:00<?, ?it/s]"
      ]
     },
     "metadata": {},
     "output_type": "display_data"
    },
    {
     "data": {
      "application/vnd.jupyter.widget-view+json": {
       "model_id": "9ba92d2340684148b093c077c3ddd21c",
       "version_major": 2,
       "version_minor": 0
      },
      "text/plain": [
       "  0%|          | 0/2000 [00:00<?, ?it/s]"
      ]
     },
     "metadata": {},
     "output_type": "display_data"
    },
    {
     "data": {
      "application/vnd.jupyter.widget-view+json": {
       "model_id": "3b64a3305e0c4fc2a4e9a3a252370855",
       "version_major": 2,
       "version_minor": 0
      },
      "text/plain": [
       "  0%|          | 0/2000 [00:00<?, ?it/s]"
      ]
     },
     "metadata": {},
     "output_type": "display_data"
    },
    {
     "data": {
      "application/vnd.jupyter.widget-view+json": {
       "model_id": "2c0ebb99f8654457be937a13c341f598",
       "version_major": 2,
       "version_minor": 0
      },
      "text/plain": [
       "  0%|          | 0/2000 [00:00<?, ?it/s]"
      ]
     },
     "metadata": {},
     "output_type": "display_data"
    },
    {
     "data": {
      "application/vnd.jupyter.widget-view+json": {
       "model_id": "c1e25abd85f34b7187b985963e6e6d28",
       "version_major": 2,
       "version_minor": 0
      },
      "text/plain": [
       "  0%|          | 0/2000 [00:00<?, ?it/s]"
      ]
     },
     "metadata": {},
     "output_type": "display_data"
    },
    {
     "data": {
      "application/vnd.jupyter.widget-view+json": {
       "model_id": "fb18b60b2bef472882a2347ae611d9fa",
       "version_major": 2,
       "version_minor": 0
      },
      "text/plain": [
       "  0%|          | 0/2000 [00:00<?, ?it/s]"
      ]
     },
     "metadata": {},
     "output_type": "display_data"
    },
    {
     "data": {
      "application/vnd.jupyter.widget-view+json": {
       "model_id": "9614efab74e249d5bf461a57345c2a54",
       "version_major": 2,
       "version_minor": 0
      },
      "text/plain": [
       "  0%|          | 0/2000 [00:00<?, ?it/s]"
      ]
     },
     "metadata": {},
     "output_type": "display_data"
    },
    {
     "data": {
      "application/vnd.jupyter.widget-view+json": {
       "model_id": "645254838cc34e6c8aa49f009412ca44",
       "version_major": 2,
       "version_minor": 0
      },
      "text/plain": [
       "  0%|          | 0/2000 [00:00<?, ?it/s]"
      ]
     },
     "metadata": {},
     "output_type": "display_data"
    },
    {
     "data": {
      "application/vnd.jupyter.widget-view+json": {
       "model_id": "cb91f66dc4d843778acf2cc9f14632ec",
       "version_major": 2,
       "version_minor": 0
      },
      "text/plain": [
       "  0%|          | 0/2000 [00:00<?, ?it/s]"
      ]
     },
     "metadata": {},
     "output_type": "display_data"
    },
    {
     "data": {
      "application/vnd.jupyter.widget-view+json": {
       "model_id": "5c1612975e144592bb9ddcbc6f82229c",
       "version_major": 2,
       "version_minor": 0
      },
      "text/plain": [
       "  0%|          | 0/2000 [00:00<?, ?it/s]"
      ]
     },
     "metadata": {},
     "output_type": "display_data"
    },
    {
     "data": {
      "application/vnd.jupyter.widget-view+json": {
       "model_id": "8e0712d3ff4646a2a6fa19d73ad1d7c5",
       "version_major": 2,
       "version_minor": 0
      },
      "text/plain": [
       "  0%|          | 0/2000 [00:00<?, ?it/s]"
      ]
     },
     "metadata": {},
     "output_type": "display_data"
    },
    {
     "data": {
      "application/vnd.jupyter.widget-view+json": {
       "model_id": "4946ac53e946474f8aec8e893cf61211",
       "version_major": 2,
       "version_minor": 0
      },
      "text/plain": [
       "  0%|          | 0/2000 [00:00<?, ?it/s]"
      ]
     },
     "metadata": {},
     "output_type": "display_data"
    },
    {
     "data": {
      "application/vnd.jupyter.widget-view+json": {
       "model_id": "ef85189db7c74ea7a6053c8852addab2",
       "version_major": 2,
       "version_minor": 0
      },
      "text/plain": [
       "  0%|          | 0/2000 [00:00<?, ?it/s]"
      ]
     },
     "metadata": {},
     "output_type": "display_data"
    },
    {
     "data": {
      "application/vnd.jupyter.widget-view+json": {
       "model_id": "89a5c7d06e2e45bc8e620a7d27bdd7bb",
       "version_major": 2,
       "version_minor": 0
      },
      "text/plain": [
       "  0%|          | 0/2000 [00:00<?, ?it/s]"
      ]
     },
     "metadata": {},
     "output_type": "display_data"
    },
    {
     "data": {
      "application/vnd.jupyter.widget-view+json": {
       "model_id": "7579633bf10b41c1872da02df1c68e0f",
       "version_major": 2,
       "version_minor": 0
      },
      "text/plain": [
       "  0%|          | 0/2000 [00:00<?, ?it/s]"
      ]
     },
     "metadata": {},
     "output_type": "display_data"
    },
    {
     "data": {
      "application/vnd.jupyter.widget-view+json": {
       "model_id": "afb9bccf124646539664286be85bfb0b",
       "version_major": 2,
       "version_minor": 0
      },
      "text/plain": [
       "  0%|          | 0/2000 [00:00<?, ?it/s]"
      ]
     },
     "metadata": {},
     "output_type": "display_data"
    },
    {
     "data": {
      "application/vnd.jupyter.widget-view+json": {
       "model_id": "e043e96f056f44a0b8fe56c873e8f2b0",
       "version_major": 2,
       "version_minor": 0
      },
      "text/plain": [
       "  0%|          | 0/2000 [00:00<?, ?it/s]"
      ]
     },
     "metadata": {},
     "output_type": "display_data"
    },
    {
     "data": {
      "application/vnd.jupyter.widget-view+json": {
       "model_id": "4f087ff6cea74bdd8c7f884840a38d5f",
       "version_major": 2,
       "version_minor": 0
      },
      "text/plain": [
       "  0%|          | 0/2000 [00:00<?, ?it/s]"
      ]
     },
     "metadata": {},
     "output_type": "display_data"
    },
    {
     "data": {
      "application/vnd.jupyter.widget-view+json": {
       "model_id": "14e86c64a3f5488fa6103b68109a3079",
       "version_major": 2,
       "version_minor": 0
      },
      "text/plain": [
       "  0%|          | 0/2000 [00:00<?, ?it/s]"
      ]
     },
     "metadata": {},
     "output_type": "display_data"
    },
    {
     "data": {
      "application/vnd.jupyter.widget-view+json": {
       "model_id": "485ebb516e634a5ba1c91550197ab530",
       "version_major": 2,
       "version_minor": 0
      },
      "text/plain": [
       "  0%|          | 0/2000 [00:00<?, ?it/s]"
      ]
     },
     "metadata": {},
     "output_type": "display_data"
    },
    {
     "data": {
      "application/vnd.jupyter.widget-view+json": {
       "model_id": "855ca1667fd54423b86ad2ce4ef6a54c",
       "version_major": 2,
       "version_minor": 0
      },
      "text/plain": [
       "  0%|          | 0/2000 [00:00<?, ?it/s]"
      ]
     },
     "metadata": {},
     "output_type": "display_data"
    },
    {
     "data": {
      "application/vnd.jupyter.widget-view+json": {
       "model_id": "f0aaa4eaed4e4a168b373ef8054a55b1",
       "version_major": 2,
       "version_minor": 0
      },
      "text/plain": [
       "  0%|          | 0/2000 [00:00<?, ?it/s]"
      ]
     },
     "metadata": {},
     "output_type": "display_data"
    },
    {
     "data": {
      "application/vnd.jupyter.widget-view+json": {
       "model_id": "678a7072b5df4c83911a56644e8af794",
       "version_major": 2,
       "version_minor": 0
      },
      "text/plain": [
       "  0%|          | 0/2000 [00:00<?, ?it/s]"
      ]
     },
     "metadata": {},
     "output_type": "display_data"
    },
    {
     "data": {
      "application/vnd.jupyter.widget-view+json": {
       "model_id": "4187a35777b44556b08082ca45053cb0",
       "version_major": 2,
       "version_minor": 0
      },
      "text/plain": [
       "  0%|          | 0/2000 [00:00<?, ?it/s]"
      ]
     },
     "metadata": {},
     "output_type": "display_data"
    },
    {
     "data": {
      "application/vnd.jupyter.widget-view+json": {
       "model_id": "7cc5b9ce45d94d878d07321d7def4599",
       "version_major": 2,
       "version_minor": 0
      },
      "text/plain": [
       "  0%|          | 0/2000 [00:00<?, ?it/s]"
      ]
     },
     "metadata": {},
     "output_type": "display_data"
    },
    {
     "data": {
      "application/vnd.jupyter.widget-view+json": {
       "model_id": "b580702f2ae34117b324663a56acd114",
       "version_major": 2,
       "version_minor": 0
      },
      "text/plain": [
       "  0%|          | 0/2000 [00:00<?, ?it/s]"
      ]
     },
     "metadata": {},
     "output_type": "display_data"
    },
    {
     "data": {
      "application/vnd.jupyter.widget-view+json": {
       "model_id": "6486dba84b2f47deb1488297d9a0056a",
       "version_major": 2,
       "version_minor": 0
      },
      "text/plain": [
       "  0%|          | 0/2000 [00:00<?, ?it/s]"
      ]
     },
     "metadata": {},
     "output_type": "display_data"
    },
    {
     "data": {
      "application/vnd.jupyter.widget-view+json": {
       "model_id": "58ac39966f81497caad281f8dd0ecbaf",
       "version_major": 2,
       "version_minor": 0
      },
      "text/plain": [
       "  0%|          | 0/2000 [00:00<?, ?it/s]"
      ]
     },
     "metadata": {},
     "output_type": "display_data"
    },
    {
     "data": {
      "application/vnd.jupyter.widget-view+json": {
       "model_id": "b6e5ae1b619c43b1b06286d3f22e990f",
       "version_major": 2,
       "version_minor": 0
      },
      "text/plain": [
       "  0%|          | 0/2000 [00:00<?, ?it/s]"
      ]
     },
     "metadata": {},
     "output_type": "display_data"
    },
    {
     "data": {
      "application/vnd.jupyter.widget-view+json": {
       "model_id": "e694ce5c2bf94c37b4b1fc506ac65011",
       "version_major": 2,
       "version_minor": 0
      },
      "text/plain": [
       "  0%|          | 0/2000 [00:00<?, ?it/s]"
      ]
     },
     "metadata": {},
     "output_type": "display_data"
    },
    {
     "data": {
      "application/vnd.jupyter.widget-view+json": {
       "model_id": "fc8bcfe34ca14c5eb34239f084d875b1",
       "version_major": 2,
       "version_minor": 0
      },
      "text/plain": [
       "  0%|          | 0/2000 [00:00<?, ?it/s]"
      ]
     },
     "metadata": {},
     "output_type": "display_data"
    },
    {
     "data": {
      "application/vnd.jupyter.widget-view+json": {
       "model_id": "027d39baeb4847e393e1ab0e26c2d49e",
       "version_major": 2,
       "version_minor": 0
      },
      "text/plain": [
       "  0%|          | 0/2000 [00:00<?, ?it/s]"
      ]
     },
     "metadata": {},
     "output_type": "display_data"
    },
    {
     "data": {
      "application/vnd.jupyter.widget-view+json": {
       "model_id": "95afcc3ed88640a6870d2966a713d80d",
       "version_major": 2,
       "version_minor": 0
      },
      "text/plain": [
       "  0%|          | 0/2000 [00:00<?, ?it/s]"
      ]
     },
     "metadata": {},
     "output_type": "display_data"
    },
    {
     "data": {
      "application/vnd.jupyter.widget-view+json": {
       "model_id": "461e9fe3e7644019beddc06069795a0d",
       "version_major": 2,
       "version_minor": 0
      },
      "text/plain": [
       "  0%|          | 0/2000 [00:00<?, ?it/s]"
      ]
     },
     "metadata": {},
     "output_type": "display_data"
    },
    {
     "data": {
      "application/vnd.jupyter.widget-view+json": {
       "model_id": "a53d57f662774016bdfdad3fd7f8fa1e",
       "version_major": 2,
       "version_minor": 0
      },
      "text/plain": [
       "  0%|          | 0/2000 [00:00<?, ?it/s]"
      ]
     },
     "metadata": {},
     "output_type": "display_data"
    },
    {
     "data": {
      "application/vnd.jupyter.widget-view+json": {
       "model_id": "a18d72a383ee49ad8ffeb41378919828",
       "version_major": 2,
       "version_minor": 0
      },
      "text/plain": [
       "  0%|          | 0/2000 [00:00<?, ?it/s]"
      ]
     },
     "metadata": {},
     "output_type": "display_data"
    },
    {
     "data": {
      "application/vnd.jupyter.widget-view+json": {
       "model_id": "ba8b093536b94a23b2b55e1106e6fd3d",
       "version_major": 2,
       "version_minor": 0
      },
      "text/plain": [
       "  0%|          | 0/2000 [00:00<?, ?it/s]"
      ]
     },
     "metadata": {},
     "output_type": "display_data"
    },
    {
     "data": {
      "application/vnd.jupyter.widget-view+json": {
       "model_id": "104003d26b71434c844d5d09f6fc1ff5",
       "version_major": 2,
       "version_minor": 0
      },
      "text/plain": [
       "  0%|          | 0/2000 [00:00<?, ?it/s]"
      ]
     },
     "metadata": {},
     "output_type": "display_data"
    },
    {
     "data": {
      "application/vnd.jupyter.widget-view+json": {
       "model_id": "581a6d96b5d244dbb6dced70b66b9adf",
       "version_major": 2,
       "version_minor": 0
      },
      "text/plain": [
       "  0%|          | 0/2000 [00:00<?, ?it/s]"
      ]
     },
     "metadata": {},
     "output_type": "display_data"
    },
    {
     "data": {
      "application/vnd.jupyter.widget-view+json": {
       "model_id": "e4512a42ac0d4af7a1b6486ed06d5f97",
       "version_major": 2,
       "version_minor": 0
      },
      "text/plain": [
       "  0%|          | 0/2000 [00:00<?, ?it/s]"
      ]
     },
     "metadata": {},
     "output_type": "display_data"
    }
   ],
   "source": [
    "tunable_params = {\n",
    "    'co_occurances': [2, 3, 5, 10],\n",
    "    'directed': [0, 1],\n",
    "    'max_keywords': [2, 3, 4, 5, 10, 15, 20],\n",
    "    'max_keyword_length': [3]\n",
    "}\n",
    "def generate_results_list(tunable_params, idx):\n",
    "    tmp_list = []\n",
    "    keys = list(tunable_params.keys())\n",
    "    for i in range(len(tunable_params[keys[idx]])):\n",
    "        if idx + 1 < len(tunable_params.keys()):\n",
    "            tmp_list.append(generate_results_list(tunable_params, idx + 1))\n",
    "    return tmp_list\n",
    "\n",
    "results = generate_results_list(tunable_params, 0)\n",
    "for i, co_occurances in enumerate(tunable_params['co_occurances']):\n",
    "    for j, directed in enumerate(tunable_params['directed']):\n",
    "        for k, max_keywords in enumerate(tunable_params['max_keywords']):\n",
    "            for l, max_keyword_length in enumerate(tunable_params['max_keyword_length']):\n",
    "                tp, fp, fn = test_config(co_occurances, directed, max_keywords, max_keyword_length)\n",
    "                results[i][j][k].append({\n",
    "                    'co_occurances': co_occurances,\n",
    "                    'directed': directed,\n",
    "                    'max_keywords': max_keywords,\n",
    "                    'max_keyword_length': max_keyword_length,\n",
    "                    'results': {\n",
    "                        'TP': tp,\n",
    "                        'FP': fp,\n",
    "                        'FN': fn\n",
    "                    }\n",
    "                })"
   ]
  },
  {
   "cell_type": "code",
   "execution_count": 85,
   "id": "364b84a6-e514-49a4-94f0-a807148a7fd8",
   "metadata": {},
   "outputs": [
    {
     "name": "stdout",
     "output_type": "stream",
     "text": [
      "[[[[{'co_occurances': 2, 'directed': 0, 'max_keywords': 2, 'max_keyword_length': 3, 'results': {'TP': 1329, 'FP': 7786, 'FN': 26980}}], [{'co_occurances': 2, 'directed': 0, 'max_keywords': 3, 'max_keyword_length': 3, 'results': {'TP': 1695, 'FP': 10334, 'FN': 26644}}], [{'co_occurances': 2, 'directed': 0, 'max_keywords': 4, 'max_keyword_length': 3, 'results': {'TP': 2039, 'FP': 12438, 'FN': 26329}}], [{'co_occurances': 2, 'directed': 0, 'max_keywords': 5, 'max_keyword_length': 3, 'results': {'TP': 2278, 'FP': 14320, 'FN': 26108}}], [{'co_occurances': 2, 'directed': 0, 'max_keywords': 10, 'max_keyword_length': 3, 'results': {'TP': 3265, 'FP': 21198, 'FN': 25180}}], [{'co_occurances': 2, 'directed': 0, 'max_keywords': 15, 'max_keyword_length': 3, 'results': {'TP': 4076, 'FP': 26036, 'FN': 24427}}], [{'co_occurances': 2, 'directed': 0, 'max_keywords': 20, 'max_keyword_length': 3, 'results': {'TP': 4790, 'FP': 30194, 'FN': 23761}}]], [[{'co_occurances': 2, 'directed': 1, 'max_keywords': 2, 'max_keyword_length': 3, 'results': {'TP': 1229, 'FP': 5957, 'FN': 27117}}], [{'co_occurances': 2, 'directed': 1, 'max_keywords': 3, 'max_keyword_length': 3, 'results': {'TP': 1677, 'FP': 7873, 'FN': 26706}}], [{'co_occurances': 2, 'directed': 1, 'max_keywords': 4, 'max_keyword_length': 3, 'results': {'TP': 2038, 'FP': 9683, 'FN': 26391}}], [{'co_occurances': 2, 'directed': 1, 'max_keywords': 5, 'max_keyword_length': 3, 'results': {'TP': 2376, 'FP': 11306, 'FN': 26074}}], [{'co_occurances': 2, 'directed': 1, 'max_keywords': 10, 'max_keyword_length': 3, 'results': {'TP': 3715, 'FP': 18423, 'FN': 24848}}], [{'co_occurances': 2, 'directed': 1, 'max_keywords': 15, 'max_keyword_length': 3, 'results': {'TP': 4794, 'FP': 24503, 'FN': 23839}}], [{'co_occurances': 2, 'directed': 1, 'max_keywords': 20, 'max_keyword_length': 3, 'results': {'TP': 5574, 'FP': 30042, 'FN': 23104}}]]], [[[{'co_occurances': 3, 'directed': 0, 'max_keywords': 2, 'max_keyword_length': 3, 'results': {'TP': 1444, 'FP': 7536, 'FN': 26925}}], [{'co_occurances': 3, 'directed': 0, 'max_keywords': 3, 'max_keyword_length': 3, 'results': {'TP': 1871, 'FP': 10065, 'FN': 26521}}], [{'co_occurances': 3, 'directed': 0, 'max_keywords': 4, 'max_keyword_length': 3, 'results': {'TP': 2233, 'FP': 12318, 'FN': 26182}}], [{'co_occurances': 3, 'directed': 0, 'max_keywords': 5, 'max_keyword_length': 3, 'results': {'TP': 2514, 'FP': 14359, 'FN': 25913}}], [{'co_occurances': 3, 'directed': 0, 'max_keywords': 10, 'max_keyword_length': 3, 'results': {'TP': 3608, 'FP': 22364, 'FN': 24883}}], [{'co_occurances': 3, 'directed': 0, 'max_keywords': 15, 'max_keyword_length': 3, 'results': {'TP': 4396, 'FP': 28342, 'FN': 24157}}], [{'co_occurances': 3, 'directed': 0, 'max_keywords': 20, 'max_keyword_length': 3, 'results': {'TP': 5033, 'FP': 33493, 'FN': 23575}}]], [[{'co_occurances': 3, 'directed': 1, 'max_keywords': 2, 'max_keyword_length': 3, 'results': {'TP': 1198, 'FP': 6392, 'FN': 27170}}], [{'co_occurances': 3, 'directed': 1, 'max_keywords': 3, 'max_keyword_length': 3, 'results': {'TP': 1579, 'FP': 8525, 'FN': 26831}}], [{'co_occurances': 3, 'directed': 1, 'max_keywords': 4, 'max_keyword_length': 3, 'results': {'TP': 1903, 'FP': 10436, 'FN': 26526}}], [{'co_occurances': 3, 'directed': 1, 'max_keywords': 5, 'max_keyword_length': 3, 'results': {'TP': 2182, 'FP': 12189, 'FN': 26263}}], [{'co_occurances': 3, 'directed': 1, 'max_keywords': 10, 'max_keyword_length': 3, 'results': {'TP': 3268, 'FP': 19958, 'FN': 25265}}], [{'co_occurances': 3, 'directed': 1, 'max_keywords': 15, 'max_keyword_length': 3, 'results': {'TP': 4097, 'FP': 26574, 'FN': 24493}}], [{'co_occurances': 3, 'directed': 1, 'max_keywords': 20, 'max_keyword_length': 3, 'results': {'TP': 4816, 'FP': 32477, 'FN': 23827}}]]], [[[{'co_occurances': 5, 'directed': 0, 'max_keywords': 2, 'max_keyword_length': 3, 'results': {'TP': 1378, 'FP': 7454, 'FN': 26989}}], [{'co_occurances': 5, 'directed': 0, 'max_keywords': 3, 'max_keyword_length': 3, 'results': {'TP': 1850, 'FP': 9883, 'FN': 26572}}], [{'co_occurances': 5, 'directed': 0, 'max_keywords': 4, 'max_keyword_length': 3, 'results': {'TP': 2254, 'FP': 12113, 'FN': 26202}}], [{'co_occurances': 5, 'directed': 0, 'max_keywords': 5, 'max_keyword_length': 3, 'results': {'TP': 2560, 'FP': 14212, 'FN': 25920}}], [{'co_occurances': 5, 'directed': 0, 'max_keywords': 10, 'max_keyword_length': 3, 'results': {'TP': 3788, 'FP': 22396, 'FN': 24774}}], [{'co_occurances': 5, 'directed': 0, 'max_keywords': 15, 'max_keyword_length': 3, 'results': {'TP': 4541, 'FP': 28870, 'FN': 24081}}], [{'co_occurances': 5, 'directed': 0, 'max_keywords': 20, 'max_keyword_length': 3, 'results': {'TP': 5137, 'FP': 34170, 'FN': 23534}}]], [[{'co_occurances': 5, 'directed': 1, 'max_keywords': 2, 'max_keyword_length': 3, 'results': {'TP': 1237, 'FP': 7002, 'FN': 27132}}], [{'co_occurances': 5, 'directed': 1, 'max_keywords': 3, 'max_keyword_length': 3, 'results': {'TP': 1691, 'FP': 9543, 'FN': 26727}}], [{'co_occurances': 5, 'directed': 1, 'max_keywords': 4, 'max_keyword_length': 3, 'results': {'TP': 2093, 'FP': 11786, 'FN': 26377}}], [{'co_occurances': 5, 'directed': 1, 'max_keywords': 5, 'max_keyword_length': 3, 'results': {'TP': 2419, 'FP': 13907, 'FN': 26084}}], [{'co_occurances': 5, 'directed': 1, 'max_keywords': 10, 'max_keyword_length': 3, 'results': {'TP': 3521, 'FP': 22783, 'FN': 25063}}], [{'co_occurances': 5, 'directed': 1, 'max_keywords': 15, 'max_keyword_length': 3, 'results': {'TP': 4345, 'FP': 30223, 'FN': 24288}}], [{'co_occurances': 5, 'directed': 1, 'max_keywords': 20, 'max_keyword_length': 3, 'results': {'TP': 4992, 'FP': 36555, 'FN': 23671}}]]], [[[{'co_occurances': 10, 'directed': 0, 'max_keywords': 2, 'max_keyword_length': 3, 'results': {'TP': 1339, 'FP': 7096, 'FN': 27039}}], [{'co_occurances': 10, 'directed': 0, 'max_keywords': 3, 'max_keyword_length': 3, 'results': {'TP': 1822, 'FP': 9553, 'FN': 26613}}], [{'co_occurances': 10, 'directed': 0, 'max_keywords': 4, 'max_keyword_length': 3, 'results': {'TP': 2212, 'FP': 11752, 'FN': 26256}}], [{'co_occurances': 10, 'directed': 0, 'max_keywords': 5, 'max_keyword_length': 3, 'results': {'TP': 2557, 'FP': 13770, 'FN': 25935}}], [{'co_occurances': 10, 'directed': 0, 'max_keywords': 10, 'max_keyword_length': 3, 'results': {'TP': 3796, 'FP': 22083, 'FN': 24784}}], [{'co_occurances': 10, 'directed': 0, 'max_keywords': 15, 'max_keyword_length': 3, 'results': {'TP': 4574, 'FP': 28528, 'FN': 24061}}], [{'co_occurances': 10, 'directed': 0, 'max_keywords': 20, 'max_keyword_length': 3, 'results': {'TP': 5126, 'FP': 33999, 'FN': 23534}}]], [[{'co_occurances': 10, 'directed': 1, 'max_keywords': 2, 'max_keyword_length': 3, 'results': {'TP': 1424, 'FP': 6882, 'FN': 27001}}], [{'co_occurances': 10, 'directed': 1, 'max_keywords': 3, 'max_keyword_length': 3, 'results': {'TP': 1921, 'FP': 9294, 'FN': 26560}}], [{'co_occurances': 10, 'directed': 1, 'max_keywords': 4, 'max_keyword_length': 3, 'results': {'TP': 2334, 'FP': 11461, 'FN': 26177}}], [{'co_occurances': 10, 'directed': 1, 'max_keywords': 5, 'max_keyword_length': 3, 'results': {'TP': 2677, 'FP': 13363, 'FN': 25867}}], [{'co_occurances': 10, 'directed': 1, 'max_keywords': 10, 'max_keyword_length': 3, 'results': {'TP': 3867, 'FP': 21917, 'FN': 24736}}], [{'co_occurances': 10, 'directed': 1, 'max_keywords': 15, 'max_keyword_length': 3, 'results': {'TP': 4626, 'FP': 29177, 'FN': 24019}}], [{'co_occurances': 10, 'directed': 1, 'max_keywords': 20, 'max_keyword_length': 3, 'results': {'TP': 5232, 'FP': 35452, 'FN': 23437}}]]]]\n"
     ]
    }
   ],
   "source": [
    "print(results)"
   ]
  },
  {
   "cell_type": "code",
   "execution_count": 15,
   "id": "6e3c59f5-caa8-49dd-9b70-e442e054da27",
   "metadata": {},
   "outputs": [],
   "source": [
    "import pandas as pd\n",
    "import numpy as np"
   ]
  },
  {
   "cell_type": "code",
   "execution_count": 87,
   "id": "21c997a8-9b3d-4dd1-a685-2eb4e036ec7e",
   "metadata": {},
   "outputs": [
    {
     "data": {
      "text/plain": [
       "array([{'co_occurances': 2, 'directed': 0, 'max_keywords': 2, 'max_keyword_length': 3, 'results': {'TP': 1329, 'FP': 7786, 'FN': 26980}},\n",
       "       {'co_occurances': 2, 'directed': 0, 'max_keywords': 3, 'max_keyword_length': 3, 'results': {'TP': 1695, 'FP': 10334, 'FN': 26644}},\n",
       "       {'co_occurances': 2, 'directed': 0, 'max_keywords': 4, 'max_keyword_length': 3, 'results': {'TP': 2039, 'FP': 12438, 'FN': 26329}},\n",
       "       {'co_occurances': 2, 'directed': 0, 'max_keywords': 5, 'max_keyword_length': 3, 'results': {'TP': 2278, 'FP': 14320, 'FN': 26108}},\n",
       "       {'co_occurances': 2, 'directed': 0, 'max_keywords': 10, 'max_keyword_length': 3, 'results': {'TP': 3265, 'FP': 21198, 'FN': 25180}},\n",
       "       {'co_occurances': 2, 'directed': 0, 'max_keywords': 15, 'max_keyword_length': 3, 'results': {'TP': 4076, 'FP': 26036, 'FN': 24427}},\n",
       "       {'co_occurances': 2, 'directed': 0, 'max_keywords': 20, 'max_keyword_length': 3, 'results': {'TP': 4790, 'FP': 30194, 'FN': 23761}},\n",
       "       {'co_occurances': 2, 'directed': 1, 'max_keywords': 2, 'max_keyword_length': 3, 'results': {'TP': 1229, 'FP': 5957, 'FN': 27117}},\n",
       "       {'co_occurances': 2, 'directed': 1, 'max_keywords': 3, 'max_keyword_length': 3, 'results': {'TP': 1677, 'FP': 7873, 'FN': 26706}},\n",
       "       {'co_occurances': 2, 'directed': 1, 'max_keywords': 4, 'max_keyword_length': 3, 'results': {'TP': 2038, 'FP': 9683, 'FN': 26391}},\n",
       "       {'co_occurances': 2, 'directed': 1, 'max_keywords': 5, 'max_keyword_length': 3, 'results': {'TP': 2376, 'FP': 11306, 'FN': 26074}},\n",
       "       {'co_occurances': 2, 'directed': 1, 'max_keywords': 10, 'max_keyword_length': 3, 'results': {'TP': 3715, 'FP': 18423, 'FN': 24848}},\n",
       "       {'co_occurances': 2, 'directed': 1, 'max_keywords': 15, 'max_keyword_length': 3, 'results': {'TP': 4794, 'FP': 24503, 'FN': 23839}},\n",
       "       {'co_occurances': 2, 'directed': 1, 'max_keywords': 20, 'max_keyword_length': 3, 'results': {'TP': 5574, 'FP': 30042, 'FN': 23104}},\n",
       "       {'co_occurances': 3, 'directed': 0, 'max_keywords': 2, 'max_keyword_length': 3, 'results': {'TP': 1444, 'FP': 7536, 'FN': 26925}},\n",
       "       {'co_occurances': 3, 'directed': 0, 'max_keywords': 3, 'max_keyword_length': 3, 'results': {'TP': 1871, 'FP': 10065, 'FN': 26521}},\n",
       "       {'co_occurances': 3, 'directed': 0, 'max_keywords': 4, 'max_keyword_length': 3, 'results': {'TP': 2233, 'FP': 12318, 'FN': 26182}},\n",
       "       {'co_occurances': 3, 'directed': 0, 'max_keywords': 5, 'max_keyword_length': 3, 'results': {'TP': 2514, 'FP': 14359, 'FN': 25913}},\n",
       "       {'co_occurances': 3, 'directed': 0, 'max_keywords': 10, 'max_keyword_length': 3, 'results': {'TP': 3608, 'FP': 22364, 'FN': 24883}},\n",
       "       {'co_occurances': 3, 'directed': 0, 'max_keywords': 15, 'max_keyword_length': 3, 'results': {'TP': 4396, 'FP': 28342, 'FN': 24157}},\n",
       "       {'co_occurances': 3, 'directed': 0, 'max_keywords': 20, 'max_keyword_length': 3, 'results': {'TP': 5033, 'FP': 33493, 'FN': 23575}},\n",
       "       {'co_occurances': 3, 'directed': 1, 'max_keywords': 2, 'max_keyword_length': 3, 'results': {'TP': 1198, 'FP': 6392, 'FN': 27170}},\n",
       "       {'co_occurances': 3, 'directed': 1, 'max_keywords': 3, 'max_keyword_length': 3, 'results': {'TP': 1579, 'FP': 8525, 'FN': 26831}},\n",
       "       {'co_occurances': 3, 'directed': 1, 'max_keywords': 4, 'max_keyword_length': 3, 'results': {'TP': 1903, 'FP': 10436, 'FN': 26526}},\n",
       "       {'co_occurances': 3, 'directed': 1, 'max_keywords': 5, 'max_keyword_length': 3, 'results': {'TP': 2182, 'FP': 12189, 'FN': 26263}},\n",
       "       {'co_occurances': 3, 'directed': 1, 'max_keywords': 10, 'max_keyword_length': 3, 'results': {'TP': 3268, 'FP': 19958, 'FN': 25265}},\n",
       "       {'co_occurances': 3, 'directed': 1, 'max_keywords': 15, 'max_keyword_length': 3, 'results': {'TP': 4097, 'FP': 26574, 'FN': 24493}},\n",
       "       {'co_occurances': 3, 'directed': 1, 'max_keywords': 20, 'max_keyword_length': 3, 'results': {'TP': 4816, 'FP': 32477, 'FN': 23827}},\n",
       "       {'co_occurances': 5, 'directed': 0, 'max_keywords': 2, 'max_keyword_length': 3, 'results': {'TP': 1378, 'FP': 7454, 'FN': 26989}},\n",
       "       {'co_occurances': 5, 'directed': 0, 'max_keywords': 3, 'max_keyword_length': 3, 'results': {'TP': 1850, 'FP': 9883, 'FN': 26572}},\n",
       "       {'co_occurances': 5, 'directed': 0, 'max_keywords': 4, 'max_keyword_length': 3, 'results': {'TP': 2254, 'FP': 12113, 'FN': 26202}},\n",
       "       {'co_occurances': 5, 'directed': 0, 'max_keywords': 5, 'max_keyword_length': 3, 'results': {'TP': 2560, 'FP': 14212, 'FN': 25920}},\n",
       "       {'co_occurances': 5, 'directed': 0, 'max_keywords': 10, 'max_keyword_length': 3, 'results': {'TP': 3788, 'FP': 22396, 'FN': 24774}},\n",
       "       {'co_occurances': 5, 'directed': 0, 'max_keywords': 15, 'max_keyword_length': 3, 'results': {'TP': 4541, 'FP': 28870, 'FN': 24081}},\n",
       "       {'co_occurances': 5, 'directed': 0, 'max_keywords': 20, 'max_keyword_length': 3, 'results': {'TP': 5137, 'FP': 34170, 'FN': 23534}},\n",
       "       {'co_occurances': 5, 'directed': 1, 'max_keywords': 2, 'max_keyword_length': 3, 'results': {'TP': 1237, 'FP': 7002, 'FN': 27132}},\n",
       "       {'co_occurances': 5, 'directed': 1, 'max_keywords': 3, 'max_keyword_length': 3, 'results': {'TP': 1691, 'FP': 9543, 'FN': 26727}},\n",
       "       {'co_occurances': 5, 'directed': 1, 'max_keywords': 4, 'max_keyword_length': 3, 'results': {'TP': 2093, 'FP': 11786, 'FN': 26377}},\n",
       "       {'co_occurances': 5, 'directed': 1, 'max_keywords': 5, 'max_keyword_length': 3, 'results': {'TP': 2419, 'FP': 13907, 'FN': 26084}},\n",
       "       {'co_occurances': 5, 'directed': 1, 'max_keywords': 10, 'max_keyword_length': 3, 'results': {'TP': 3521, 'FP': 22783, 'FN': 25063}},\n",
       "       {'co_occurances': 5, 'directed': 1, 'max_keywords': 15, 'max_keyword_length': 3, 'results': {'TP': 4345, 'FP': 30223, 'FN': 24288}},\n",
       "       {'co_occurances': 5, 'directed': 1, 'max_keywords': 20, 'max_keyword_length': 3, 'results': {'TP': 4992, 'FP': 36555, 'FN': 23671}},\n",
       "       {'co_occurances': 10, 'directed': 0, 'max_keywords': 2, 'max_keyword_length': 3, 'results': {'TP': 1339, 'FP': 7096, 'FN': 27039}},\n",
       "       {'co_occurances': 10, 'directed': 0, 'max_keywords': 3, 'max_keyword_length': 3, 'results': {'TP': 1822, 'FP': 9553, 'FN': 26613}},\n",
       "       {'co_occurances': 10, 'directed': 0, 'max_keywords': 4, 'max_keyword_length': 3, 'results': {'TP': 2212, 'FP': 11752, 'FN': 26256}},\n",
       "       {'co_occurances': 10, 'directed': 0, 'max_keywords': 5, 'max_keyword_length': 3, 'results': {'TP': 2557, 'FP': 13770, 'FN': 25935}},\n",
       "       {'co_occurances': 10, 'directed': 0, 'max_keywords': 10, 'max_keyword_length': 3, 'results': {'TP': 3796, 'FP': 22083, 'FN': 24784}},\n",
       "       {'co_occurances': 10, 'directed': 0, 'max_keywords': 15, 'max_keyword_length': 3, 'results': {'TP': 4574, 'FP': 28528, 'FN': 24061}},\n",
       "       {'co_occurances': 10, 'directed': 0, 'max_keywords': 20, 'max_keyword_length': 3, 'results': {'TP': 5126, 'FP': 33999, 'FN': 23534}},\n",
       "       {'co_occurances': 10, 'directed': 1, 'max_keywords': 2, 'max_keyword_length': 3, 'results': {'TP': 1424, 'FP': 6882, 'FN': 27001}},\n",
       "       {'co_occurances': 10, 'directed': 1, 'max_keywords': 3, 'max_keyword_length': 3, 'results': {'TP': 1921, 'FP': 9294, 'FN': 26560}},\n",
       "       {'co_occurances': 10, 'directed': 1, 'max_keywords': 4, 'max_keyword_length': 3, 'results': {'TP': 2334, 'FP': 11461, 'FN': 26177}},\n",
       "       {'co_occurances': 10, 'directed': 1, 'max_keywords': 5, 'max_keyword_length': 3, 'results': {'TP': 2677, 'FP': 13363, 'FN': 25867}},\n",
       "       {'co_occurances': 10, 'directed': 1, 'max_keywords': 10, 'max_keyword_length': 3, 'results': {'TP': 3867, 'FP': 21917, 'FN': 24736}},\n",
       "       {'co_occurances': 10, 'directed': 1, 'max_keywords': 15, 'max_keyword_length': 3, 'results': {'TP': 4626, 'FP': 29177, 'FN': 24019}},\n",
       "       {'co_occurances': 10, 'directed': 1, 'max_keywords': 20, 'max_keyword_length': 3, 'results': {'TP': 5232, 'FP': 35452, 'FN': 23437}}],\n",
       "      dtype=object)"
      ]
     },
     "execution_count": 87,
     "metadata": {},
     "output_type": "execute_result"
    }
   ],
   "source": [
    "results_array = np.array(results).flatten()\n",
    "results_array"
   ]
  },
  {
   "cell_type": "code",
   "execution_count": 88,
   "id": "a638b260-4fd5-4ad3-a0a5-b8a1f59b9e29",
   "metadata": {},
   "outputs": [
    {
     "data": {
      "text/html": [
       "<div>\n",
       "<style scoped>\n",
       "    .dataframe tbody tr th:only-of-type {\n",
       "        vertical-align: middle;\n",
       "    }\n",
       "\n",
       "    .dataframe tbody tr th {\n",
       "        vertical-align: top;\n",
       "    }\n",
       "\n",
       "    .dataframe thead th {\n",
       "        text-align: right;\n",
       "    }\n",
       "</style>\n",
       "<table border=\"1\" class=\"dataframe\">\n",
       "  <thead>\n",
       "    <tr style=\"text-align: right;\">\n",
       "      <th></th>\n",
       "      <th>Co-Occurances</th>\n",
       "      <th>Directed Graph</th>\n",
       "      <th>Top N Keywords</th>\n",
       "      <th>Max Keyword Phrase Length</th>\n",
       "      <th>True Positives</th>\n",
       "      <th>False Positives</th>\n",
       "      <th>False Negatives</th>\n",
       "      <th>Precision</th>\n",
       "      <th>Recall</th>\n",
       "      <th>F-Score</th>\n",
       "    </tr>\n",
       "  </thead>\n",
       "  <tbody>\n",
       "    <tr>\n",
       "      <th>0</th>\n",
       "      <td>2</td>\n",
       "      <td>No</td>\n",
       "      <td>2</td>\n",
       "      <td>3</td>\n",
       "      <td>1329</td>\n",
       "      <td>7786</td>\n",
       "      <td>26980</td>\n",
       "      <td>14.580362</td>\n",
       "      <td>4.694620</td>\n",
       "      <td>0.071024</td>\n",
       "    </tr>\n",
       "    <tr>\n",
       "      <th>1</th>\n",
       "      <td>2</td>\n",
       "      <td>No</td>\n",
       "      <td>3</td>\n",
       "      <td>3</td>\n",
       "      <td>1695</td>\n",
       "      <td>10334</td>\n",
       "      <td>26644</td>\n",
       "      <td>14.090947</td>\n",
       "      <td>5.981157</td>\n",
       "      <td>0.083977</td>\n",
       "    </tr>\n",
       "    <tr>\n",
       "      <th>2</th>\n",
       "      <td>2</td>\n",
       "      <td>No</td>\n",
       "      <td>4</td>\n",
       "      <td>3</td>\n",
       "      <td>2039</td>\n",
       "      <td>12438</td>\n",
       "      <td>26329</td>\n",
       "      <td>14.084410</td>\n",
       "      <td>7.187676</td>\n",
       "      <td>0.095180</td>\n",
       "    </tr>\n",
       "    <tr>\n",
       "      <th>3</th>\n",
       "      <td>2</td>\n",
       "      <td>No</td>\n",
       "      <td>5</td>\n",
       "      <td>3</td>\n",
       "      <td>2278</td>\n",
       "      <td>14320</td>\n",
       "      <td>26108</td>\n",
       "      <td>13.724545</td>\n",
       "      <td>8.025083</td>\n",
       "      <td>0.101280</td>\n",
       "    </tr>\n",
       "    <tr>\n",
       "      <th>4</th>\n",
       "      <td>2</td>\n",
       "      <td>No</td>\n",
       "      <td>10</td>\n",
       "      <td>3</td>\n",
       "      <td>3265</td>\n",
       "      <td>21198</td>\n",
       "      <td>25180</td>\n",
       "      <td>13.346687</td>\n",
       "      <td>11.478291</td>\n",
       "      <td>0.123422</td>\n",
       "    </tr>\n",
       "    <tr>\n",
       "      <th>5</th>\n",
       "      <td>2</td>\n",
       "      <td>No</td>\n",
       "      <td>15</td>\n",
       "      <td>3</td>\n",
       "      <td>4076</td>\n",
       "      <td>26036</td>\n",
       "      <td>24427</td>\n",
       "      <td>13.536132</td>\n",
       "      <td>14.300249</td>\n",
       "      <td>0.139077</td>\n",
       "    </tr>\n",
       "    <tr>\n",
       "      <th>6</th>\n",
       "      <td>2</td>\n",
       "      <td>No</td>\n",
       "      <td>20</td>\n",
       "      <td>3</td>\n",
       "      <td>4790</td>\n",
       "      <td>30194</td>\n",
       "      <td>23761</td>\n",
       "      <td>13.691973</td>\n",
       "      <td>16.776996</td>\n",
       "      <td>0.150783</td>\n",
       "    </tr>\n",
       "    <tr>\n",
       "      <th>7</th>\n",
       "      <td>2</td>\n",
       "      <td>Yes</td>\n",
       "      <td>2</td>\n",
       "      <td>3</td>\n",
       "      <td>1229</td>\n",
       "      <td>5957</td>\n",
       "      <td>27117</td>\n",
       "      <td>17.102700</td>\n",
       "      <td>4.335709</td>\n",
       "      <td>0.069177</td>\n",
       "    </tr>\n",
       "    <tr>\n",
       "      <th>8</th>\n",
       "      <td>2</td>\n",
       "      <td>Yes</td>\n",
       "      <td>3</td>\n",
       "      <td>3</td>\n",
       "      <td>1677</td>\n",
       "      <td>7873</td>\n",
       "      <td>26706</td>\n",
       "      <td>17.560209</td>\n",
       "      <td>5.908466</td>\n",
       "      <td>0.088419</td>\n",
       "    </tr>\n",
       "    <tr>\n",
       "      <th>9</th>\n",
       "      <td>2</td>\n",
       "      <td>Yes</td>\n",
       "      <td>4</td>\n",
       "      <td>3</td>\n",
       "      <td>2038</td>\n",
       "      <td>9683</td>\n",
       "      <td>26391</td>\n",
       "      <td>17.387595</td>\n",
       "      <td>7.168736</td>\n",
       "      <td>0.101519</td>\n",
       "    </tr>\n",
       "    <tr>\n",
       "      <th>10</th>\n",
       "      <td>2</td>\n",
       "      <td>Yes</td>\n",
       "      <td>5</td>\n",
       "      <td>3</td>\n",
       "      <td>2376</td>\n",
       "      <td>11306</td>\n",
       "      <td>26074</td>\n",
       "      <td>17.365882</td>\n",
       "      <td>8.351494</td>\n",
       "      <td>0.112788</td>\n",
       "    </tr>\n",
       "    <tr>\n",
       "      <th>11</th>\n",
       "      <td>2</td>\n",
       "      <td>Yes</td>\n",
       "      <td>10</td>\n",
       "      <td>3</td>\n",
       "      <td>3715</td>\n",
       "      <td>18423</td>\n",
       "      <td>24848</td>\n",
       "      <td>16.781100</td>\n",
       "      <td>13.006337</td>\n",
       "      <td>0.146545</td>\n",
       "    </tr>\n",
       "    <tr>\n",
       "      <th>12</th>\n",
       "      <td>2</td>\n",
       "      <td>Yes</td>\n",
       "      <td>15</td>\n",
       "      <td>3</td>\n",
       "      <td>4794</td>\n",
       "      <td>24503</td>\n",
       "      <td>23839</td>\n",
       "      <td>16.363450</td>\n",
       "      <td>16.742919</td>\n",
       "      <td>0.165510</td>\n",
       "    </tr>\n",
       "    <tr>\n",
       "      <th>13</th>\n",
       "      <td>2</td>\n",
       "      <td>Yes</td>\n",
       "      <td>20</td>\n",
       "      <td>3</td>\n",
       "      <td>5574</td>\n",
       "      <td>30042</td>\n",
       "      <td>23104</td>\n",
       "      <td>15.650270</td>\n",
       "      <td>19.436502</td>\n",
       "      <td>0.173391</td>\n",
       "    </tr>\n",
       "    <tr>\n",
       "      <th>14</th>\n",
       "      <td>3</td>\n",
       "      <td>No</td>\n",
       "      <td>2</td>\n",
       "      <td>3</td>\n",
       "      <td>1444</td>\n",
       "      <td>7536</td>\n",
       "      <td>26925</td>\n",
       "      <td>16.080178</td>\n",
       "      <td>5.090063</td>\n",
       "      <td>0.077325</td>\n",
       "    </tr>\n",
       "    <tr>\n",
       "      <th>15</th>\n",
       "      <td>3</td>\n",
       "      <td>No</td>\n",
       "      <td>3</td>\n",
       "      <td>3</td>\n",
       "      <td>1871</td>\n",
       "      <td>10065</td>\n",
       "      <td>26521</td>\n",
       "      <td>15.675268</td>\n",
       "      <td>6.589884</td>\n",
       "      <td>0.092789</td>\n",
       "    </tr>\n",
       "    <tr>\n",
       "      <th>16</th>\n",
       "      <td>3</td>\n",
       "      <td>No</td>\n",
       "      <td>4</td>\n",
       "      <td>3</td>\n",
       "      <td>2233</td>\n",
       "      <td>12318</td>\n",
       "      <td>26182</td>\n",
       "      <td>15.346024</td>\n",
       "      <td>7.858525</td>\n",
       "      <td>0.103943</td>\n",
       "    </tr>\n",
       "    <tr>\n",
       "      <th>17</th>\n",
       "      <td>3</td>\n",
       "      <td>No</td>\n",
       "      <td>5</td>\n",
       "      <td>3</td>\n",
       "      <td>2514</td>\n",
       "      <td>14359</td>\n",
       "      <td>25913</td>\n",
       "      <td>14.899544</td>\n",
       "      <td>8.843705</td>\n",
       "      <td>0.110993</td>\n",
       "    </tr>\n",
       "    <tr>\n",
       "      <th>18</th>\n",
       "      <td>3</td>\n",
       "      <td>No</td>\n",
       "      <td>10</td>\n",
       "      <td>3</td>\n",
       "      <td>3608</td>\n",
       "      <td>22364</td>\n",
       "      <td>24883</td>\n",
       "      <td>13.891884</td>\n",
       "      <td>12.663648</td>\n",
       "      <td>0.132494</td>\n",
       "    </tr>\n",
       "    <tr>\n",
       "      <th>19</th>\n",
       "      <td>3</td>\n",
       "      <td>No</td>\n",
       "      <td>15</td>\n",
       "      <td>3</td>\n",
       "      <td>4396</td>\n",
       "      <td>28342</td>\n",
       "      <td>24157</td>\n",
       "      <td>13.427821</td>\n",
       "      <td>15.395930</td>\n",
       "      <td>0.143447</td>\n",
       "    </tr>\n",
       "    <tr>\n",
       "      <th>20</th>\n",
       "      <td>3</td>\n",
       "      <td>No</td>\n",
       "      <td>20</td>\n",
       "      <td>3</td>\n",
       "      <td>5033</td>\n",
       "      <td>33493</td>\n",
       "      <td>23575</td>\n",
       "      <td>13.063905</td>\n",
       "      <td>17.592981</td>\n",
       "      <td>0.149939</td>\n",
       "    </tr>\n",
       "    <tr>\n",
       "      <th>21</th>\n",
       "      <td>3</td>\n",
       "      <td>Yes</td>\n",
       "      <td>2</td>\n",
       "      <td>3</td>\n",
       "      <td>1198</td>\n",
       "      <td>6392</td>\n",
       "      <td>27170</td>\n",
       "      <td>15.783926</td>\n",
       "      <td>4.223068</td>\n",
       "      <td>0.066633</td>\n",
       "    </tr>\n",
       "    <tr>\n",
       "      <th>22</th>\n",
       "      <td>3</td>\n",
       "      <td>Yes</td>\n",
       "      <td>3</td>\n",
       "      <td>3</td>\n",
       "      <td>1579</td>\n",
       "      <td>8525</td>\n",
       "      <td>26831</td>\n",
       "      <td>15.627474</td>\n",
       "      <td>5.557902</td>\n",
       "      <td>0.081996</td>\n",
       "    </tr>\n",
       "    <tr>\n",
       "      <th>23</th>\n",
       "      <td>3</td>\n",
       "      <td>Yes</td>\n",
       "      <td>4</td>\n",
       "      <td>3</td>\n",
       "      <td>1903</td>\n",
       "      <td>10436</td>\n",
       "      <td>26526</td>\n",
       "      <td>15.422644</td>\n",
       "      <td>6.693869</td>\n",
       "      <td>0.093358</td>\n",
       "    </tr>\n",
       "    <tr>\n",
       "      <th>24</th>\n",
       "      <td>3</td>\n",
       "      <td>Yes</td>\n",
       "      <td>5</td>\n",
       "      <td>3</td>\n",
       "      <td>2182</td>\n",
       "      <td>12189</td>\n",
       "      <td>26263</td>\n",
       "      <td>15.183355</td>\n",
       "      <td>7.670944</td>\n",
       "      <td>0.101925</td>\n",
       "    </tr>\n",
       "    <tr>\n",
       "      <th>25</th>\n",
       "      <td>3</td>\n",
       "      <td>Yes</td>\n",
       "      <td>10</td>\n",
       "      <td>3</td>\n",
       "      <td>3268</td>\n",
       "      <td>19958</td>\n",
       "      <td>25265</td>\n",
       "      <td>14.070438</td>\n",
       "      <td>11.453405</td>\n",
       "      <td>0.126278</td>\n",
       "    </tr>\n",
       "    <tr>\n",
       "      <th>26</th>\n",
       "      <td>3</td>\n",
       "      <td>Yes</td>\n",
       "      <td>15</td>\n",
       "      <td>3</td>\n",
       "      <td>4097</td>\n",
       "      <td>26574</td>\n",
       "      <td>24493</td>\n",
       "      <td>13.357895</td>\n",
       "      <td>14.330185</td>\n",
       "      <td>0.138270</td>\n",
       "    </tr>\n",
       "    <tr>\n",
       "      <th>27</th>\n",
       "      <td>3</td>\n",
       "      <td>Yes</td>\n",
       "      <td>20</td>\n",
       "      <td>3</td>\n",
       "      <td>4816</td>\n",
       "      <td>32477</td>\n",
       "      <td>23827</td>\n",
       "      <td>12.913952</td>\n",
       "      <td>16.813881</td>\n",
       "      <td>0.146081</td>\n",
       "    </tr>\n",
       "    <tr>\n",
       "      <th>28</th>\n",
       "      <td>5</td>\n",
       "      <td>No</td>\n",
       "      <td>2</td>\n",
       "      <td>3</td>\n",
       "      <td>1378</td>\n",
       "      <td>7454</td>\n",
       "      <td>26989</td>\n",
       "      <td>15.602355</td>\n",
       "      <td>4.857757</td>\n",
       "      <td>0.074088</td>\n",
       "    </tr>\n",
       "    <tr>\n",
       "      <th>29</th>\n",
       "      <td>5</td>\n",
       "      <td>No</td>\n",
       "      <td>3</td>\n",
       "      <td>3</td>\n",
       "      <td>1850</td>\n",
       "      <td>9883</td>\n",
       "      <td>26572</td>\n",
       "      <td>15.767493</td>\n",
       "      <td>6.509042</td>\n",
       "      <td>0.092143</td>\n",
       "    </tr>\n",
       "    <tr>\n",
       "      <th>30</th>\n",
       "      <td>5</td>\n",
       "      <td>No</td>\n",
       "      <td>4</td>\n",
       "      <td>3</td>\n",
       "      <td>2254</td>\n",
       "      <td>12113</td>\n",
       "      <td>26202</td>\n",
       "      <td>15.688731</td>\n",
       "      <td>7.921001</td>\n",
       "      <td>0.105271</td>\n",
       "    </tr>\n",
       "    <tr>\n",
       "      <th>31</th>\n",
       "      <td>5</td>\n",
       "      <td>No</td>\n",
       "      <td>5</td>\n",
       "      <td>3</td>\n",
       "      <td>2560</td>\n",
       "      <td>14212</td>\n",
       "      <td>25920</td>\n",
       "      <td>15.263534</td>\n",
       "      <td>8.988764</td>\n",
       "      <td>0.113144</td>\n",
       "    </tr>\n",
       "    <tr>\n",
       "      <th>32</th>\n",
       "      <td>5</td>\n",
       "      <td>No</td>\n",
       "      <td>10</td>\n",
       "      <td>3</td>\n",
       "      <td>3788</td>\n",
       "      <td>22396</td>\n",
       "      <td>24774</td>\n",
       "      <td>14.466850</td>\n",
       "      <td>13.262377</td>\n",
       "      <td>0.138385</td>\n",
       "    </tr>\n",
       "    <tr>\n",
       "      <th>33</th>\n",
       "      <td>5</td>\n",
       "      <td>No</td>\n",
       "      <td>15</td>\n",
       "      <td>3</td>\n",
       "      <td>4541</td>\n",
       "      <td>28870</td>\n",
       "      <td>24081</td>\n",
       "      <td>13.591332</td>\n",
       "      <td>15.865418</td>\n",
       "      <td>0.146406</td>\n",
       "    </tr>\n",
       "    <tr>\n",
       "      <th>34</th>\n",
       "      <td>5</td>\n",
       "      <td>No</td>\n",
       "      <td>20</td>\n",
       "      <td>3</td>\n",
       "      <td>5137</td>\n",
       "      <td>34170</td>\n",
       "      <td>23534</td>\n",
       "      <td>13.068919</td>\n",
       "      <td>17.917059</td>\n",
       "      <td>0.151137</td>\n",
       "    </tr>\n",
       "    <tr>\n",
       "      <th>35</th>\n",
       "      <td>5</td>\n",
       "      <td>Yes</td>\n",
       "      <td>2</td>\n",
       "      <td>3</td>\n",
       "      <td>1237</td>\n",
       "      <td>7002</td>\n",
       "      <td>27132</td>\n",
       "      <td>15.013958</td>\n",
       "      <td>4.360393</td>\n",
       "      <td>0.067581</td>\n",
       "    </tr>\n",
       "    <tr>\n",
       "      <th>36</th>\n",
       "      <td>5</td>\n",
       "      <td>Yes</td>\n",
       "      <td>3</td>\n",
       "      <td>3</td>\n",
       "      <td>1691</td>\n",
       "      <td>9543</td>\n",
       "      <td>26727</td>\n",
       "      <td>15.052519</td>\n",
       "      <td>5.950454</td>\n",
       "      <td>0.085292</td>\n",
       "    </tr>\n",
       "    <tr>\n",
       "      <th>37</th>\n",
       "      <td>5</td>\n",
       "      <td>Yes</td>\n",
       "      <td>4</td>\n",
       "      <td>3</td>\n",
       "      <td>2093</td>\n",
       "      <td>11786</td>\n",
       "      <td>26377</td>\n",
       "      <td>15.080337</td>\n",
       "      <td>7.351598</td>\n",
       "      <td>0.098845</td>\n",
       "    </tr>\n",
       "    <tr>\n",
       "      <th>38</th>\n",
       "      <td>5</td>\n",
       "      <td>Yes</td>\n",
       "      <td>5</td>\n",
       "      <td>3</td>\n",
       "      <td>2419</td>\n",
       "      <td>13907</td>\n",
       "      <td>26084</td>\n",
       "      <td>14.816857</td>\n",
       "      <td>8.486826</td>\n",
       "      <td>0.107921</td>\n",
       "    </tr>\n",
       "    <tr>\n",
       "      <th>39</th>\n",
       "      <td>5</td>\n",
       "      <td>Yes</td>\n",
       "      <td>10</td>\n",
       "      <td>3</td>\n",
       "      <td>3521</td>\n",
       "      <td>22783</td>\n",
       "      <td>25063</td>\n",
       "      <td>13.385797</td>\n",
       "      <td>12.318080</td>\n",
       "      <td>0.128298</td>\n",
       "    </tr>\n",
       "    <tr>\n",
       "      <th>40</th>\n",
       "      <td>5</td>\n",
       "      <td>Yes</td>\n",
       "      <td>15</td>\n",
       "      <td>3</td>\n",
       "      <td>4345</td>\n",
       "      <td>30223</td>\n",
       "      <td>24288</td>\n",
       "      <td>12.569428</td>\n",
       "      <td>15.174798</td>\n",
       "      <td>0.137498</td>\n",
       "    </tr>\n",
       "    <tr>\n",
       "      <th>41</th>\n",
       "      <td>5</td>\n",
       "      <td>Yes</td>\n",
       "      <td>20</td>\n",
       "      <td>3</td>\n",
       "      <td>4992</td>\n",
       "      <td>36555</td>\n",
       "      <td>23671</td>\n",
       "      <td>12.015308</td>\n",
       "      <td>17.416181</td>\n",
       "      <td>0.142202</td>\n",
       "    </tr>\n",
       "    <tr>\n",
       "      <th>42</th>\n",
       "      <td>10</td>\n",
       "      <td>No</td>\n",
       "      <td>2</td>\n",
       "      <td>3</td>\n",
       "      <td>1339</td>\n",
       "      <td>7096</td>\n",
       "      <td>27039</td>\n",
       "      <td>15.874333</td>\n",
       "      <td>4.718444</td>\n",
       "      <td>0.072746</td>\n",
       "    </tr>\n",
       "    <tr>\n",
       "      <th>43</th>\n",
       "      <td>10</td>\n",
       "      <td>No</td>\n",
       "      <td>3</td>\n",
       "      <td>3</td>\n",
       "      <td>1822</td>\n",
       "      <td>9553</td>\n",
       "      <td>26613</td>\n",
       "      <td>16.017582</td>\n",
       "      <td>6.407596</td>\n",
       "      <td>0.091535</td>\n",
       "    </tr>\n",
       "    <tr>\n",
       "      <th>44</th>\n",
       "      <td>10</td>\n",
       "      <td>No</td>\n",
       "      <td>4</td>\n",
       "      <td>3</td>\n",
       "      <td>2212</td>\n",
       "      <td>11752</td>\n",
       "      <td>26256</td>\n",
       "      <td>15.840733</td>\n",
       "      <td>7.770128</td>\n",
       "      <td>0.104261</td>\n",
       "    </tr>\n",
       "    <tr>\n",
       "      <th>45</th>\n",
       "      <td>10</td>\n",
       "      <td>No</td>\n",
       "      <td>5</td>\n",
       "      <td>3</td>\n",
       "      <td>2557</td>\n",
       "      <td>13770</td>\n",
       "      <td>25935</td>\n",
       "      <td>15.661175</td>\n",
       "      <td>8.974449</td>\n",
       "      <td>0.114103</td>\n",
       "    </tr>\n",
       "    <tr>\n",
       "      <th>46</th>\n",
       "      <td>10</td>\n",
       "      <td>No</td>\n",
       "      <td>10</td>\n",
       "      <td>3</td>\n",
       "      <td>3796</td>\n",
       "      <td>22083</td>\n",
       "      <td>24784</td>\n",
       "      <td>14.668264</td>\n",
       "      <td>13.282015</td>\n",
       "      <td>0.139408</td>\n",
       "    </tr>\n",
       "    <tr>\n",
       "      <th>47</th>\n",
       "      <td>10</td>\n",
       "      <td>No</td>\n",
       "      <td>15</td>\n",
       "      <td>3</td>\n",
       "      <td>4574</td>\n",
       "      <td>28528</td>\n",
       "      <td>24061</td>\n",
       "      <td>13.817896</td>\n",
       "      <td>15.973459</td>\n",
       "      <td>0.148177</td>\n",
       "    </tr>\n",
       "    <tr>\n",
       "      <th>48</th>\n",
       "      <td>10</td>\n",
       "      <td>No</td>\n",
       "      <td>20</td>\n",
       "      <td>3</td>\n",
       "      <td>5126</td>\n",
       "      <td>33999</td>\n",
       "      <td>23534</td>\n",
       "      <td>13.101597</td>\n",
       "      <td>17.885555</td>\n",
       "      <td>0.151243</td>\n",
       "    </tr>\n",
       "    <tr>\n",
       "      <th>49</th>\n",
       "      <td>10</td>\n",
       "      <td>Yes</td>\n",
       "      <td>2</td>\n",
       "      <td>3</td>\n",
       "      <td>1424</td>\n",
       "      <td>6882</td>\n",
       "      <td>27001</td>\n",
       "      <td>17.144233</td>\n",
       "      <td>5.009675</td>\n",
       "      <td>0.077537</td>\n",
       "    </tr>\n",
       "    <tr>\n",
       "      <th>50</th>\n",
       "      <td>10</td>\n",
       "      <td>Yes</td>\n",
       "      <td>3</td>\n",
       "      <td>3</td>\n",
       "      <td>1921</td>\n",
       "      <td>9294</td>\n",
       "      <td>26560</td>\n",
       "      <td>17.128845</td>\n",
       "      <td>6.744847</td>\n",
       "      <td>0.096786</td>\n",
       "    </tr>\n",
       "    <tr>\n",
       "      <th>51</th>\n",
       "      <td>10</td>\n",
       "      <td>Yes</td>\n",
       "      <td>4</td>\n",
       "      <td>3</td>\n",
       "      <td>2334</td>\n",
       "      <td>11461</td>\n",
       "      <td>26177</td>\n",
       "      <td>16.919174</td>\n",
       "      <td>8.186314</td>\n",
       "      <td>0.110339</td>\n",
       "    </tr>\n",
       "    <tr>\n",
       "      <th>52</th>\n",
       "      <td>10</td>\n",
       "      <td>Yes</td>\n",
       "      <td>5</td>\n",
       "      <td>3</td>\n",
       "      <td>2677</td>\n",
       "      <td>13363</td>\n",
       "      <td>25867</td>\n",
       "      <td>16.689526</td>\n",
       "      <td>9.378503</td>\n",
       "      <td>0.120088</td>\n",
       "    </tr>\n",
       "    <tr>\n",
       "      <th>53</th>\n",
       "      <td>10</td>\n",
       "      <td>Yes</td>\n",
       "      <td>10</td>\n",
       "      <td>3</td>\n",
       "      <td>3867</td>\n",
       "      <td>21917</td>\n",
       "      <td>24736</td>\n",
       "      <td>14.997673</td>\n",
       "      <td>13.519561</td>\n",
       "      <td>0.142203</td>\n",
       "    </tr>\n",
       "    <tr>\n",
       "      <th>54</th>\n",
       "      <td>10</td>\n",
       "      <td>Yes</td>\n",
       "      <td>15</td>\n",
       "      <td>3</td>\n",
       "      <td>4626</td>\n",
       "      <td>29177</td>\n",
       "      <td>24019</td>\n",
       "      <td>13.685176</td>\n",
       "      <td>16.149415</td>\n",
       "      <td>0.148155</td>\n",
       "    </tr>\n",
       "    <tr>\n",
       "      <th>55</th>\n",
       "      <td>10</td>\n",
       "      <td>Yes</td>\n",
       "      <td>20</td>\n",
       "      <td>3</td>\n",
       "      <td>5232</td>\n",
       "      <td>35452</td>\n",
       "      <td>23437</td>\n",
       "      <td>12.860092</td>\n",
       "      <td>18.249677</td>\n",
       "      <td>0.150880</td>\n",
       "    </tr>\n",
       "  </tbody>\n",
       "</table>\n",
       "</div>"
      ],
      "text/plain": [
       "    Co-Occurances Directed Graph  Top N Keywords  Max Keyword Phrase Length  \\\n",
       "0               2             No               2                          3   \n",
       "1               2             No               3                          3   \n",
       "2               2             No               4                          3   \n",
       "3               2             No               5                          3   \n",
       "4               2             No              10                          3   \n",
       "5               2             No              15                          3   \n",
       "6               2             No              20                          3   \n",
       "7               2            Yes               2                          3   \n",
       "8               2            Yes               3                          3   \n",
       "9               2            Yes               4                          3   \n",
       "10              2            Yes               5                          3   \n",
       "11              2            Yes              10                          3   \n",
       "12              2            Yes              15                          3   \n",
       "13              2            Yes              20                          3   \n",
       "14              3             No               2                          3   \n",
       "15              3             No               3                          3   \n",
       "16              3             No               4                          3   \n",
       "17              3             No               5                          3   \n",
       "18              3             No              10                          3   \n",
       "19              3             No              15                          3   \n",
       "20              3             No              20                          3   \n",
       "21              3            Yes               2                          3   \n",
       "22              3            Yes               3                          3   \n",
       "23              3            Yes               4                          3   \n",
       "24              3            Yes               5                          3   \n",
       "25              3            Yes              10                          3   \n",
       "26              3            Yes              15                          3   \n",
       "27              3            Yes              20                          3   \n",
       "28              5             No               2                          3   \n",
       "29              5             No               3                          3   \n",
       "30              5             No               4                          3   \n",
       "31              5             No               5                          3   \n",
       "32              5             No              10                          3   \n",
       "33              5             No              15                          3   \n",
       "34              5             No              20                          3   \n",
       "35              5            Yes               2                          3   \n",
       "36              5            Yes               3                          3   \n",
       "37              5            Yes               4                          3   \n",
       "38              5            Yes               5                          3   \n",
       "39              5            Yes              10                          3   \n",
       "40              5            Yes              15                          3   \n",
       "41              5            Yes              20                          3   \n",
       "42             10             No               2                          3   \n",
       "43             10             No               3                          3   \n",
       "44             10             No               4                          3   \n",
       "45             10             No               5                          3   \n",
       "46             10             No              10                          3   \n",
       "47             10             No              15                          3   \n",
       "48             10             No              20                          3   \n",
       "49             10            Yes               2                          3   \n",
       "50             10            Yes               3                          3   \n",
       "51             10            Yes               4                          3   \n",
       "52             10            Yes               5                          3   \n",
       "53             10            Yes              10                          3   \n",
       "54             10            Yes              15                          3   \n",
       "55             10            Yes              20                          3   \n",
       "\n",
       "    True Positives  False Positives  False Negatives  Precision     Recall  \\\n",
       "0             1329             7786            26980  14.580362   4.694620   \n",
       "1             1695            10334            26644  14.090947   5.981157   \n",
       "2             2039            12438            26329  14.084410   7.187676   \n",
       "3             2278            14320            26108  13.724545   8.025083   \n",
       "4             3265            21198            25180  13.346687  11.478291   \n",
       "5             4076            26036            24427  13.536132  14.300249   \n",
       "6             4790            30194            23761  13.691973  16.776996   \n",
       "7             1229             5957            27117  17.102700   4.335709   \n",
       "8             1677             7873            26706  17.560209   5.908466   \n",
       "9             2038             9683            26391  17.387595   7.168736   \n",
       "10            2376            11306            26074  17.365882   8.351494   \n",
       "11            3715            18423            24848  16.781100  13.006337   \n",
       "12            4794            24503            23839  16.363450  16.742919   \n",
       "13            5574            30042            23104  15.650270  19.436502   \n",
       "14            1444             7536            26925  16.080178   5.090063   \n",
       "15            1871            10065            26521  15.675268   6.589884   \n",
       "16            2233            12318            26182  15.346024   7.858525   \n",
       "17            2514            14359            25913  14.899544   8.843705   \n",
       "18            3608            22364            24883  13.891884  12.663648   \n",
       "19            4396            28342            24157  13.427821  15.395930   \n",
       "20            5033            33493            23575  13.063905  17.592981   \n",
       "21            1198             6392            27170  15.783926   4.223068   \n",
       "22            1579             8525            26831  15.627474   5.557902   \n",
       "23            1903            10436            26526  15.422644   6.693869   \n",
       "24            2182            12189            26263  15.183355   7.670944   \n",
       "25            3268            19958            25265  14.070438  11.453405   \n",
       "26            4097            26574            24493  13.357895  14.330185   \n",
       "27            4816            32477            23827  12.913952  16.813881   \n",
       "28            1378             7454            26989  15.602355   4.857757   \n",
       "29            1850             9883            26572  15.767493   6.509042   \n",
       "30            2254            12113            26202  15.688731   7.921001   \n",
       "31            2560            14212            25920  15.263534   8.988764   \n",
       "32            3788            22396            24774  14.466850  13.262377   \n",
       "33            4541            28870            24081  13.591332  15.865418   \n",
       "34            5137            34170            23534  13.068919  17.917059   \n",
       "35            1237             7002            27132  15.013958   4.360393   \n",
       "36            1691             9543            26727  15.052519   5.950454   \n",
       "37            2093            11786            26377  15.080337   7.351598   \n",
       "38            2419            13907            26084  14.816857   8.486826   \n",
       "39            3521            22783            25063  13.385797  12.318080   \n",
       "40            4345            30223            24288  12.569428  15.174798   \n",
       "41            4992            36555            23671  12.015308  17.416181   \n",
       "42            1339             7096            27039  15.874333   4.718444   \n",
       "43            1822             9553            26613  16.017582   6.407596   \n",
       "44            2212            11752            26256  15.840733   7.770128   \n",
       "45            2557            13770            25935  15.661175   8.974449   \n",
       "46            3796            22083            24784  14.668264  13.282015   \n",
       "47            4574            28528            24061  13.817896  15.973459   \n",
       "48            5126            33999            23534  13.101597  17.885555   \n",
       "49            1424             6882            27001  17.144233   5.009675   \n",
       "50            1921             9294            26560  17.128845   6.744847   \n",
       "51            2334            11461            26177  16.919174   8.186314   \n",
       "52            2677            13363            25867  16.689526   9.378503   \n",
       "53            3867            21917            24736  14.997673  13.519561   \n",
       "54            4626            29177            24019  13.685176  16.149415   \n",
       "55            5232            35452            23437  12.860092  18.249677   \n",
       "\n",
       "     F-Score  \n",
       "0   0.071024  \n",
       "1   0.083977  \n",
       "2   0.095180  \n",
       "3   0.101280  \n",
       "4   0.123422  \n",
       "5   0.139077  \n",
       "6   0.150783  \n",
       "7   0.069177  \n",
       "8   0.088419  \n",
       "9   0.101519  \n",
       "10  0.112788  \n",
       "11  0.146545  \n",
       "12  0.165510  \n",
       "13  0.173391  \n",
       "14  0.077325  \n",
       "15  0.092789  \n",
       "16  0.103943  \n",
       "17  0.110993  \n",
       "18  0.132494  \n",
       "19  0.143447  \n",
       "20  0.149939  \n",
       "21  0.066633  \n",
       "22  0.081996  \n",
       "23  0.093358  \n",
       "24  0.101925  \n",
       "25  0.126278  \n",
       "26  0.138270  \n",
       "27  0.146081  \n",
       "28  0.074088  \n",
       "29  0.092143  \n",
       "30  0.105271  \n",
       "31  0.113144  \n",
       "32  0.138385  \n",
       "33  0.146406  \n",
       "34  0.151137  \n",
       "35  0.067581  \n",
       "36  0.085292  \n",
       "37  0.098845  \n",
       "38  0.107921  \n",
       "39  0.128298  \n",
       "40  0.137498  \n",
       "41  0.142202  \n",
       "42  0.072746  \n",
       "43  0.091535  \n",
       "44  0.104261  \n",
       "45  0.114103  \n",
       "46  0.139408  \n",
       "47  0.148177  \n",
       "48  0.151243  \n",
       "49  0.077537  \n",
       "50  0.096786  \n",
       "51  0.110339  \n",
       "52  0.120088  \n",
       "53  0.142203  \n",
       "54  0.148155  \n",
       "55  0.150880  "
      ]
     },
     "execution_count": 88,
     "metadata": {},
     "output_type": "execute_result"
    }
   ],
   "source": [
    "df = pd.DataFrame(columns=['Co-Occurances', 'Directed Graph', 'Top N Keywords', 'Max Keyword Phrase Length', 'True Positives', 'False Positives', 'False Negatives', 'Precision', 'Recall', 'F-Score'])\n",
    "for i, result in enumerate(results_array):\n",
    "    if result['directed']:\n",
    "        directed = 'Yes'\n",
    "    else:\n",
    "        directed = 'No'\n",
    "    precision = result['results']['TP'] / (result['results']['TP'] + result['results']['FP'])\n",
    "    recall = result['results']['TP'] / (result['results']['TP'] + result['results']['FN'])\n",
    "    f_score = 2 * precision * recall / (precision + recall)\n",
    "    df.loc[i] = [\n",
    "        result['co_occurances'],\n",
    "        directed,\n",
    "        result['max_keywords'],\n",
    "        result['max_keyword_length'],\n",
    "        result['results']['TP'],\n",
    "        result['results']['FP'],\n",
    "        result['results']['FN'],\n",
    "        precision * 100,\n",
    "        recall * 100,\n",
    "        f_score\n",
    "    ]\n",
    "df"
   ]
  },
  {
   "cell_type": "code",
   "execution_count": 89,
   "id": "f957c555-c596-495a-b55e-a9c5dea38a5c",
   "metadata": {},
   "outputs": [],
   "source": [
    "df.to_excel(\"no_filter.xlsx\") "
   ]
  },
  {
   "cell_type": "code",
   "execution_count": 90,
   "id": "b0a918e4-1455-48db-9e7e-6dce1fe72167",
   "metadata": {},
   "outputs": [
    {
     "data": {
      "application/vnd.jupyter.widget-view+json": {
       "model_id": "7efd26dd2e0d42e2bb8b80e9747bcc74",
       "version_major": 2,
       "version_minor": 0
      },
      "text/plain": [
       "  0%|          | 0/2000 [00:00<?, ?it/s]"
      ]
     },
     "metadata": {},
     "output_type": "display_data"
    },
    {
     "data": {
      "application/vnd.jupyter.widget-view+json": {
       "model_id": "852c928b951a4138a559f70bc4045654",
       "version_major": 2,
       "version_minor": 0
      },
      "text/plain": [
       "  0%|          | 0/2000 [00:00<?, ?it/s]"
      ]
     },
     "metadata": {},
     "output_type": "display_data"
    },
    {
     "data": {
      "application/vnd.jupyter.widget-view+json": {
       "model_id": "28ccbd9b2069484ba0b4142f5e5f5e71",
       "version_major": 2,
       "version_minor": 0
      },
      "text/plain": [
       "  0%|          | 0/2000 [00:00<?, ?it/s]"
      ]
     },
     "metadata": {},
     "output_type": "display_data"
    },
    {
     "data": {
      "application/vnd.jupyter.widget-view+json": {
       "model_id": "cf4b8d3814754f3c9cc7f1463cbf44c2",
       "version_major": 2,
       "version_minor": 0
      },
      "text/plain": [
       "  0%|          | 0/2000 [00:00<?, ?it/s]"
      ]
     },
     "metadata": {},
     "output_type": "display_data"
    },
    {
     "data": {
      "application/vnd.jupyter.widget-view+json": {
       "model_id": "6687723698964bab88a9ed5af37b6b33",
       "version_major": 2,
       "version_minor": 0
      },
      "text/plain": [
       "  0%|          | 0/2000 [00:00<?, ?it/s]"
      ]
     },
     "metadata": {},
     "output_type": "display_data"
    },
    {
     "data": {
      "application/vnd.jupyter.widget-view+json": {
       "model_id": "6e5971d8bb844c4ea82e4fac346aa568",
       "version_major": 2,
       "version_minor": 0
      },
      "text/plain": [
       "  0%|          | 0/2000 [00:00<?, ?it/s]"
      ]
     },
     "metadata": {},
     "output_type": "display_data"
    },
    {
     "data": {
      "application/vnd.jupyter.widget-view+json": {
       "model_id": "2fedd8c0c8914c0c8bf15fede02cd7b4",
       "version_major": 2,
       "version_minor": 0
      },
      "text/plain": [
       "  0%|          | 0/2000 [00:00<?, ?it/s]"
      ]
     },
     "metadata": {},
     "output_type": "display_data"
    },
    {
     "data": {
      "application/vnd.jupyter.widget-view+json": {
       "model_id": "afb561ffa20e4833819b2b0e14d8165c",
       "version_major": 2,
       "version_minor": 0
      },
      "text/plain": [
       "  0%|          | 0/2000 [00:00<?, ?it/s]"
      ]
     },
     "metadata": {},
     "output_type": "display_data"
    },
    {
     "data": {
      "application/vnd.jupyter.widget-view+json": {
       "model_id": "b0a90c2a11314717832e01d34445ffd1",
       "version_major": 2,
       "version_minor": 0
      },
      "text/plain": [
       "  0%|          | 0/2000 [00:00<?, ?it/s]"
      ]
     },
     "metadata": {},
     "output_type": "display_data"
    },
    {
     "data": {
      "application/vnd.jupyter.widget-view+json": {
       "model_id": "533dcf57eabd4697bf4c9dc5c5afc2a1",
       "version_major": 2,
       "version_minor": 0
      },
      "text/plain": [
       "  0%|          | 0/2000 [00:00<?, ?it/s]"
      ]
     },
     "metadata": {},
     "output_type": "display_data"
    },
    {
     "data": {
      "application/vnd.jupyter.widget-view+json": {
       "model_id": "f8664da5fe614fd49a05b6b8ddb63c84",
       "version_major": 2,
       "version_minor": 0
      },
      "text/plain": [
       "  0%|          | 0/2000 [00:00<?, ?it/s]"
      ]
     },
     "metadata": {},
     "output_type": "display_data"
    },
    {
     "data": {
      "application/vnd.jupyter.widget-view+json": {
       "model_id": "9419003617744cb38beeccef197d606c",
       "version_major": 2,
       "version_minor": 0
      },
      "text/plain": [
       "  0%|          | 0/2000 [00:00<?, ?it/s]"
      ]
     },
     "metadata": {},
     "output_type": "display_data"
    },
    {
     "data": {
      "application/vnd.jupyter.widget-view+json": {
       "model_id": "4d19844542f0462887e318b31dcba1e0",
       "version_major": 2,
       "version_minor": 0
      },
      "text/plain": [
       "  0%|          | 0/2000 [00:00<?, ?it/s]"
      ]
     },
     "metadata": {},
     "output_type": "display_data"
    },
    {
     "data": {
      "application/vnd.jupyter.widget-view+json": {
       "model_id": "ee7da58d30224bdfbaf9dc87b99126cf",
       "version_major": 2,
       "version_minor": 0
      },
      "text/plain": [
       "  0%|          | 0/2000 [00:00<?, ?it/s]"
      ]
     },
     "metadata": {},
     "output_type": "display_data"
    },
    {
     "data": {
      "application/vnd.jupyter.widget-view+json": {
       "model_id": "ad112af863334349be49cd7f41ad5dd0",
       "version_major": 2,
       "version_minor": 0
      },
      "text/plain": [
       "  0%|          | 0/2000 [00:00<?, ?it/s]"
      ]
     },
     "metadata": {},
     "output_type": "display_data"
    },
    {
     "data": {
      "application/vnd.jupyter.widget-view+json": {
       "model_id": "f9a8a78819a1422c856777e723f2c3eb",
       "version_major": 2,
       "version_minor": 0
      },
      "text/plain": [
       "  0%|          | 0/2000 [00:00<?, ?it/s]"
      ]
     },
     "metadata": {},
     "output_type": "display_data"
    },
    {
     "data": {
      "application/vnd.jupyter.widget-view+json": {
       "model_id": "0d0f69957f644778a75e9dc8e2cbf494",
       "version_major": 2,
       "version_minor": 0
      },
      "text/plain": [
       "  0%|          | 0/2000 [00:00<?, ?it/s]"
      ]
     },
     "metadata": {},
     "output_type": "display_data"
    },
    {
     "data": {
      "application/vnd.jupyter.widget-view+json": {
       "model_id": "175f7e066c00410c95aa7986d0704fea",
       "version_major": 2,
       "version_minor": 0
      },
      "text/plain": [
       "  0%|          | 0/2000 [00:00<?, ?it/s]"
      ]
     },
     "metadata": {},
     "output_type": "display_data"
    },
    {
     "data": {
      "application/vnd.jupyter.widget-view+json": {
       "model_id": "64d211453fcf4770a23b65017211be28",
       "version_major": 2,
       "version_minor": 0
      },
      "text/plain": [
       "  0%|          | 0/2000 [00:00<?, ?it/s]"
      ]
     },
     "metadata": {},
     "output_type": "display_data"
    },
    {
     "data": {
      "application/vnd.jupyter.widget-view+json": {
       "model_id": "7de5f71be2914c8e9d2a63b07ddb9674",
       "version_major": 2,
       "version_minor": 0
      },
      "text/plain": [
       "  0%|          | 0/2000 [00:00<?, ?it/s]"
      ]
     },
     "metadata": {},
     "output_type": "display_data"
    },
    {
     "data": {
      "application/vnd.jupyter.widget-view+json": {
       "model_id": "0c41aa1040544102901d511621f852b8",
       "version_major": 2,
       "version_minor": 0
      },
      "text/plain": [
       "  0%|          | 0/2000 [00:00<?, ?it/s]"
      ]
     },
     "metadata": {},
     "output_type": "display_data"
    },
    {
     "data": {
      "application/vnd.jupyter.widget-view+json": {
       "model_id": "5ba8bc8a7d9546539209e2ca66089405",
       "version_major": 2,
       "version_minor": 0
      },
      "text/plain": [
       "  0%|          | 0/2000 [00:00<?, ?it/s]"
      ]
     },
     "metadata": {},
     "output_type": "display_data"
    },
    {
     "data": {
      "application/vnd.jupyter.widget-view+json": {
       "model_id": "4a7b0c308d6d400591051d6f3be3a11d",
       "version_major": 2,
       "version_minor": 0
      },
      "text/plain": [
       "  0%|          | 0/2000 [00:00<?, ?it/s]"
      ]
     },
     "metadata": {},
     "output_type": "display_data"
    },
    {
     "data": {
      "application/vnd.jupyter.widget-view+json": {
       "model_id": "fd1a09ab2f86470489428358febad18f",
       "version_major": 2,
       "version_minor": 0
      },
      "text/plain": [
       "  0%|          | 0/2000 [00:00<?, ?it/s]"
      ]
     },
     "metadata": {},
     "output_type": "display_data"
    },
    {
     "data": {
      "application/vnd.jupyter.widget-view+json": {
       "model_id": "d49c02fd94c54e8aa2d9902f0b7488fc",
       "version_major": 2,
       "version_minor": 0
      },
      "text/plain": [
       "  0%|          | 0/2000 [00:00<?, ?it/s]"
      ]
     },
     "metadata": {},
     "output_type": "display_data"
    },
    {
     "data": {
      "application/vnd.jupyter.widget-view+json": {
       "model_id": "9545b510ecc74fcbb5a0e656096d5853",
       "version_major": 2,
       "version_minor": 0
      },
      "text/plain": [
       "  0%|          | 0/2000 [00:00<?, ?it/s]"
      ]
     },
     "metadata": {},
     "output_type": "display_data"
    },
    {
     "data": {
      "application/vnd.jupyter.widget-view+json": {
       "model_id": "ef28af550fc24f9ca642ec6105b4f82c",
       "version_major": 2,
       "version_minor": 0
      },
      "text/plain": [
       "  0%|          | 0/2000 [00:00<?, ?it/s]"
      ]
     },
     "metadata": {},
     "output_type": "display_data"
    },
    {
     "data": {
      "application/vnd.jupyter.widget-view+json": {
       "model_id": "449af42509ba4017a4f53cc9d48e5ec2",
       "version_major": 2,
       "version_minor": 0
      },
      "text/plain": [
       "  0%|          | 0/2000 [00:00<?, ?it/s]"
      ]
     },
     "metadata": {},
     "output_type": "display_data"
    },
    {
     "data": {
      "application/vnd.jupyter.widget-view+json": {
       "model_id": "4672c4d756bc4c72af28ad1160a2f5ea",
       "version_major": 2,
       "version_minor": 0
      },
      "text/plain": [
       "  0%|          | 0/2000 [00:00<?, ?it/s]"
      ]
     },
     "metadata": {},
     "output_type": "display_data"
    },
    {
     "data": {
      "application/vnd.jupyter.widget-view+json": {
       "model_id": "9966298f7a034dbcb72c6ce6ec70676e",
       "version_major": 2,
       "version_minor": 0
      },
      "text/plain": [
       "  0%|          | 0/2000 [00:00<?, ?it/s]"
      ]
     },
     "metadata": {},
     "output_type": "display_data"
    },
    {
     "data": {
      "application/vnd.jupyter.widget-view+json": {
       "model_id": "d9a33bf23a944170afe3222897fd14e4",
       "version_major": 2,
       "version_minor": 0
      },
      "text/plain": [
       "  0%|          | 0/2000 [00:00<?, ?it/s]"
      ]
     },
     "metadata": {},
     "output_type": "display_data"
    },
    {
     "data": {
      "application/vnd.jupyter.widget-view+json": {
       "model_id": "1f2b9f25eab14b48be54f6d68ecf274a",
       "version_major": 2,
       "version_minor": 0
      },
      "text/plain": [
       "  0%|          | 0/2000 [00:00<?, ?it/s]"
      ]
     },
     "metadata": {},
     "output_type": "display_data"
    },
    {
     "data": {
      "application/vnd.jupyter.widget-view+json": {
       "model_id": "a6425b2c83cc446e9c1de41d4b198b03",
       "version_major": 2,
       "version_minor": 0
      },
      "text/plain": [
       "  0%|          | 0/2000 [00:00<?, ?it/s]"
      ]
     },
     "metadata": {},
     "output_type": "display_data"
    },
    {
     "data": {
      "application/vnd.jupyter.widget-view+json": {
       "model_id": "d6f0af60c63c4915bad9ba7cdb289f6a",
       "version_major": 2,
       "version_minor": 0
      },
      "text/plain": [
       "  0%|          | 0/2000 [00:00<?, ?it/s]"
      ]
     },
     "metadata": {},
     "output_type": "display_data"
    },
    {
     "data": {
      "application/vnd.jupyter.widget-view+json": {
       "model_id": "f7f32184ca134e74b515049108b78acc",
       "version_major": 2,
       "version_minor": 0
      },
      "text/plain": [
       "  0%|          | 0/2000 [00:00<?, ?it/s]"
      ]
     },
     "metadata": {},
     "output_type": "display_data"
    },
    {
     "data": {
      "application/vnd.jupyter.widget-view+json": {
       "model_id": "379373771a2340a38c48b8744ef1b8de",
       "version_major": 2,
       "version_minor": 0
      },
      "text/plain": [
       "  0%|          | 0/2000 [00:00<?, ?it/s]"
      ]
     },
     "metadata": {},
     "output_type": "display_data"
    },
    {
     "data": {
      "application/vnd.jupyter.widget-view+json": {
       "model_id": "13e0d02ea99d43c6a2c4247e998322fc",
       "version_major": 2,
       "version_minor": 0
      },
      "text/plain": [
       "  0%|          | 0/2000 [00:00<?, ?it/s]"
      ]
     },
     "metadata": {},
     "output_type": "display_data"
    },
    {
     "data": {
      "application/vnd.jupyter.widget-view+json": {
       "model_id": "1c559a6318a34ce2ba4fed5c96520c1f",
       "version_major": 2,
       "version_minor": 0
      },
      "text/plain": [
       "  0%|          | 0/2000 [00:00<?, ?it/s]"
      ]
     },
     "metadata": {},
     "output_type": "display_data"
    },
    {
     "data": {
      "application/vnd.jupyter.widget-view+json": {
       "model_id": "e6db246ed31c48fbabec7e3de82c7595",
       "version_major": 2,
       "version_minor": 0
      },
      "text/plain": [
       "  0%|          | 0/2000 [00:00<?, ?it/s]"
      ]
     },
     "metadata": {},
     "output_type": "display_data"
    },
    {
     "data": {
      "application/vnd.jupyter.widget-view+json": {
       "model_id": "855719594e0a4e1580baaedf75d3d99a",
       "version_major": 2,
       "version_minor": 0
      },
      "text/plain": [
       "  0%|          | 0/2000 [00:00<?, ?it/s]"
      ]
     },
     "metadata": {},
     "output_type": "display_data"
    },
    {
     "data": {
      "application/vnd.jupyter.widget-view+json": {
       "model_id": "a20ba6fd9b5e44f6902ece25a0e2b0c5",
       "version_major": 2,
       "version_minor": 0
      },
      "text/plain": [
       "  0%|          | 0/2000 [00:00<?, ?it/s]"
      ]
     },
     "metadata": {},
     "output_type": "display_data"
    },
    {
     "data": {
      "application/vnd.jupyter.widget-view+json": {
       "model_id": "73a41bf008284d3daa89859e475fd4d4",
       "version_major": 2,
       "version_minor": 0
      },
      "text/plain": [
       "  0%|          | 0/2000 [00:00<?, ?it/s]"
      ]
     },
     "metadata": {},
     "output_type": "display_data"
    },
    {
     "data": {
      "application/vnd.jupyter.widget-view+json": {
       "model_id": "e0f28d97a00449519e40350149495c8d",
       "version_major": 2,
       "version_minor": 0
      },
      "text/plain": [
       "  0%|          | 0/2000 [00:00<?, ?it/s]"
      ]
     },
     "metadata": {},
     "output_type": "display_data"
    },
    {
     "data": {
      "application/vnd.jupyter.widget-view+json": {
       "model_id": "626ee79ae3284249bfa1ce75d3700938",
       "version_major": 2,
       "version_minor": 0
      },
      "text/plain": [
       "  0%|          | 0/2000 [00:00<?, ?it/s]"
      ]
     },
     "metadata": {},
     "output_type": "display_data"
    },
    {
     "data": {
      "application/vnd.jupyter.widget-view+json": {
       "model_id": "9e83b95cdf4f45768bb4cb1e1dc74d18",
       "version_major": 2,
       "version_minor": 0
      },
      "text/plain": [
       "  0%|          | 0/2000 [00:00<?, ?it/s]"
      ]
     },
     "metadata": {},
     "output_type": "display_data"
    },
    {
     "data": {
      "application/vnd.jupyter.widget-view+json": {
       "model_id": "0f0f34613ee64e29bfccc23255ca675e",
       "version_major": 2,
       "version_minor": 0
      },
      "text/plain": [
       "  0%|          | 0/2000 [00:00<?, ?it/s]"
      ]
     },
     "metadata": {},
     "output_type": "display_data"
    },
    {
     "data": {
      "application/vnd.jupyter.widget-view+json": {
       "model_id": "6bac2c17feeb4b6f889807e8585dba33",
       "version_major": 2,
       "version_minor": 0
      },
      "text/plain": [
       "  0%|          | 0/2000 [00:00<?, ?it/s]"
      ]
     },
     "metadata": {},
     "output_type": "display_data"
    },
    {
     "data": {
      "application/vnd.jupyter.widget-view+json": {
       "model_id": "c4aed1c66585444ca1c508a8f40015ec",
       "version_major": 2,
       "version_minor": 0
      },
      "text/plain": [
       "  0%|          | 0/2000 [00:00<?, ?it/s]"
      ]
     },
     "metadata": {},
     "output_type": "display_data"
    },
    {
     "data": {
      "application/vnd.jupyter.widget-view+json": {
       "model_id": "cdd0d61f477d42748d62becfdb58c777",
       "version_major": 2,
       "version_minor": 0
      },
      "text/plain": [
       "  0%|          | 0/2000 [00:00<?, ?it/s]"
      ]
     },
     "metadata": {},
     "output_type": "display_data"
    },
    {
     "data": {
      "application/vnd.jupyter.widget-view+json": {
       "model_id": "420db654de0a4eadb42cb27517707802",
       "version_major": 2,
       "version_minor": 0
      },
      "text/plain": [
       "  0%|          | 0/2000 [00:00<?, ?it/s]"
      ]
     },
     "metadata": {},
     "output_type": "display_data"
    },
    {
     "data": {
      "application/vnd.jupyter.widget-view+json": {
       "model_id": "74469bc238e44a3fa6d131ae4bd6e62b",
       "version_major": 2,
       "version_minor": 0
      },
      "text/plain": [
       "  0%|          | 0/2000 [00:00<?, ?it/s]"
      ]
     },
     "metadata": {},
     "output_type": "display_data"
    },
    {
     "data": {
      "application/vnd.jupyter.widget-view+json": {
       "model_id": "8cc77810fd814c3c99e39ea0f2ec05c9",
       "version_major": 2,
       "version_minor": 0
      },
      "text/plain": [
       "  0%|          | 0/2000 [00:00<?, ?it/s]"
      ]
     },
     "metadata": {},
     "output_type": "display_data"
    },
    {
     "data": {
      "application/vnd.jupyter.widget-view+json": {
       "model_id": "bd78a10fde924b1d8c322fb1d76ff738",
       "version_major": 2,
       "version_minor": 0
      },
      "text/plain": [
       "  0%|          | 0/2000 [00:00<?, ?it/s]"
      ]
     },
     "metadata": {},
     "output_type": "display_data"
    },
    {
     "data": {
      "application/vnd.jupyter.widget-view+json": {
       "model_id": "b9bc6362ea394e51b2135562dfcbef22",
       "version_major": 2,
       "version_minor": 0
      },
      "text/plain": [
       "  0%|          | 0/2000 [00:00<?, ?it/s]"
      ]
     },
     "metadata": {},
     "output_type": "display_data"
    },
    {
     "data": {
      "application/vnd.jupyter.widget-view+json": {
       "model_id": "7bff9f505b984b85a9549dc6590eec13",
       "version_major": 2,
       "version_minor": 0
      },
      "text/plain": [
       "  0%|          | 0/2000 [00:00<?, ?it/s]"
      ]
     },
     "metadata": {},
     "output_type": "display_data"
    },
    {
     "data": {
      "application/vnd.jupyter.widget-view+json": {
       "model_id": "dba46892b2054a2b98eb80629136c9a3",
       "version_major": 2,
       "version_minor": 0
      },
      "text/plain": [
       "  0%|          | 0/2000 [00:00<?, ?it/s]"
      ]
     },
     "metadata": {},
     "output_type": "display_data"
    }
   ],
   "source": [
    "def test_config_adj_noun(co_occurances, directed, max_keywords, max_keyword_length):\n",
    "    tp = 0\n",
    "    fp = 0\n",
    "    fn = 0\n",
    "    file_names = [file_path.split('.')[0] for file_path in os.listdir(keywords_dir)]\n",
    "    for file_name in tqdm(file_names):\n",
    "        abstract_path = os.path.join(abstracts_dir, file_name + '.txt')\n",
    "        keywords_path = os.path.join(keywords_dir, file_name + '.key')\n",
    "\n",
    "        predicted_keywords, labeled_keywords = run_config_single(abstract_path, keywords_path, co_occurances, directed, max_keywords, max_keyword_length)\n",
    "        tagged_keywords = tokenizer.tag_keywords(predicted_keywords)\n",
    "        predicted_keywords = list(set([tagged_keyword[0] for tagged_keyword in tagged_keywords if (tagged_keyword[1][0] == 'N' or tagged_keyword[1][0] == 'J') and len(tagged_keyword[0]) > 1]))\n",
    "        \n",
    "        local_tp, local_fp, local_fn = evaluate_keywords(predicted_keywords, labeled_keywords)\n",
    "\n",
    "        tp += local_tp\n",
    "        fp += local_fp\n",
    "        fn += local_fn\n",
    "    return tp, fp, fn\n",
    "\n",
    "results = generate_results_list(tunable_params, 0)\n",
    "for i, co_occurances in enumerate(tunable_params['co_occurances']):\n",
    "    for j, directed in enumerate(tunable_params['directed']):\n",
    "        for k, max_keywords in enumerate(tunable_params['max_keywords']):\n",
    "            for l, max_keyword_length in enumerate(tunable_params['max_keyword_length']):\n",
    "                tp, fp, fn = test_config_adj_noun(co_occurances, directed, max_keywords, max_keyword_length)\n",
    "                results[i][j][k].append({\n",
    "                    'co_occurances': co_occurances,\n",
    "                    'directed': directed,\n",
    "                    'max_keywords': max_keywords,\n",
    "                    'max_keyword_length': max_keyword_length,\n",
    "                    'results': {\n",
    "                        'TP': tp,\n",
    "                        'FP': fp,\n",
    "                        'FN': fn\n",
    "                    }\n",
    "                })"
   ]
  },
  {
   "cell_type": "code",
   "execution_count": 91,
   "id": "8488ada0-ced4-4758-8b1a-1e5899848037",
   "metadata": {},
   "outputs": [
    {
     "data": {
      "text/plain": [
       "array([{'co_occurances': 2, 'directed': 0, 'max_keywords': 2, 'max_keyword_length': 3, 'results': {'TP': 1151, 'FP': 6023, 'FN': 27149}},\n",
       "       {'co_occurances': 2, 'directed': 0, 'max_keywords': 3, 'max_keyword_length': 3, 'results': {'TP': 1450, 'FP': 7847, 'FN': 26882}},\n",
       "       {'co_occurances': 2, 'directed': 0, 'max_keywords': 4, 'max_keyword_length': 3, 'results': {'TP': 1710, 'FP': 9368, 'FN': 26651}},\n",
       "       {'co_occurances': 2, 'directed': 0, 'max_keywords': 5, 'max_keyword_length': 3, 'results': {'TP': 1897, 'FP': 10720, 'FN': 26484}},\n",
       "       {'co_occurances': 2, 'directed': 0, 'max_keywords': 10, 'max_keyword_length': 3, 'results': {'TP': 2726, 'FP': 15747, 'FN': 25703}},\n",
       "       {'co_occurances': 2, 'directed': 0, 'max_keywords': 15, 'max_keyword_length': 3, 'results': {'TP': 3361, 'FP': 19264, 'FN': 25137}},\n",
       "       {'co_occurances': 2, 'directed': 0, 'max_keywords': 20, 'max_keyword_length': 3, 'results': {'TP': 3970, 'FP': 22348, 'FN': 24572}},\n",
       "       {'co_occurances': 2, 'directed': 1, 'max_keywords': 2, 'max_keyword_length': 3, 'results': {'TP': 1061, 'FP': 4694, 'FN': 27269}},\n",
       "       {'co_occurances': 2, 'directed': 1, 'max_keywords': 3, 'max_keyword_length': 3, 'results': {'TP': 1440, 'FP': 6104, 'FN': 26928}},\n",
       "       {'co_occurances': 2, 'directed': 1, 'max_keywords': 4, 'max_keyword_length': 3, 'results': {'TP': 1736, 'FP': 7434, 'FN': 26681}},\n",
       "       {'co_occurances': 2, 'directed': 1, 'max_keywords': 5, 'max_keyword_length': 3, 'results': {'TP': 2012, 'FP': 8585, 'FN': 26427}},\n",
       "       {'co_occurances': 2, 'directed': 1, 'max_keywords': 10, 'max_keyword_length': 3, 'results': {'TP': 3128, 'FP': 13828, 'FN': 25410}},\n",
       "       {'co_occurances': 2, 'directed': 1, 'max_keywords': 15, 'max_keyword_length': 3, 'results': {'TP': 4016, 'FP': 18252, 'FN': 24593}},\n",
       "       {'co_occurances': 2, 'directed': 1, 'max_keywords': 20, 'max_keyword_length': 3, 'results': {'TP': 4661, 'FP': 22161, 'FN': 23993}},\n",
       "       {'co_occurances': 3, 'directed': 0, 'max_keywords': 2, 'max_keyword_length': 3, 'results': {'TP': 1238, 'FP': 5803, 'FN': 27120}},\n",
       "       {'co_occurances': 3, 'directed': 0, 'max_keywords': 3, 'max_keyword_length': 3, 'results': {'TP': 1588, 'FP': 7675, 'FN': 26795}},\n",
       "       {'co_occurances': 3, 'directed': 0, 'max_keywords': 4, 'max_keyword_length': 3, 'results': {'TP': 1877, 'FP': 9324, 'FN': 26535}},\n",
       "       {'co_occurances': 3, 'directed': 0, 'max_keywords': 5, 'max_keyword_length': 3, 'results': {'TP': 2128, 'FP': 10781, 'FN': 26290}},\n",
       "       {'co_occurances': 3, 'directed': 0, 'max_keywords': 10, 'max_keyword_length': 3, 'results': {'TP': 3000, 'FP': 16503, 'FN': 25481}},\n",
       "       {'co_occurances': 3, 'directed': 0, 'max_keywords': 15, 'max_keyword_length': 3, 'results': {'TP': 3629, 'FP': 20846, 'FN': 24923}},\n",
       "       {'co_occurances': 3, 'directed': 0, 'max_keywords': 20, 'max_keyword_length': 3, 'results': {'TP': 4173, 'FP': 24371, 'FN': 24422}},\n",
       "       {'co_occurances': 3, 'directed': 1, 'max_keywords': 2, 'max_keyword_length': 3, 'results': {'TP': 1063, 'FP': 4982, 'FN': 27300}},\n",
       "       {'co_occurances': 3, 'directed': 1, 'max_keywords': 3, 'max_keyword_length': 3, 'results': {'TP': 1373, 'FP': 6483, 'FN': 27029}},\n",
       "       {'co_occurances': 3, 'directed': 1, 'max_keywords': 4, 'max_keyword_length': 3, 'results': {'TP': 1639, 'FP': 7917, 'FN': 26780}},\n",
       "       {'co_occurances': 3, 'directed': 1, 'max_keywords': 5, 'max_keyword_length': 3, 'results': {'TP': 1860, 'FP': 9197, 'FN': 26579}},\n",
       "       {'co_occurances': 3, 'directed': 1, 'max_keywords': 10, 'max_keyword_length': 3, 'results': {'TP': 2791, 'FP': 14765, 'FN': 25735}},\n",
       "       {'co_occurances': 3, 'directed': 1, 'max_keywords': 15, 'max_keyword_length': 3, 'results': {'TP': 3463, 'FP': 19337, 'FN': 25113}},\n",
       "       {'co_occurances': 3, 'directed': 1, 'max_keywords': 20, 'max_keyword_length': 3, 'results': {'TP': 4041, 'FP': 23504, 'FN': 24585}},\n",
       "       {'co_occurances': 5, 'directed': 0, 'max_keywords': 2, 'max_keyword_length': 3, 'results': {'TP': 1192, 'FP': 5830, 'FN': 27163}},\n",
       "       {'co_occurances': 5, 'directed': 0, 'max_keywords': 3, 'max_keyword_length': 3, 'results': {'TP': 1589, 'FP': 7575, 'FN': 26822}},\n",
       "       {'co_occurances': 5, 'directed': 0, 'max_keywords': 4, 'max_keyword_length': 3, 'results': {'TP': 1914, 'FP': 9222, 'FN': 26532}},\n",
       "       {'co_occurances': 5, 'directed': 0, 'max_keywords': 5, 'max_keyword_length': 3, 'results': {'TP': 2174, 'FP': 10721, 'FN': 26300}},\n",
       "       {'co_occurances': 5, 'directed': 0, 'max_keywords': 10, 'max_keyword_length': 3, 'results': {'TP': 3182, 'FP': 16623, 'FN': 25386}},\n",
       "       {'co_occurances': 5, 'directed': 0, 'max_keywords': 15, 'max_keyword_length': 3, 'results': {'TP': 3797, 'FP': 21135, 'FN': 24819}},\n",
       "       {'co_occurances': 5, 'directed': 0, 'max_keywords': 20, 'max_keyword_length': 3, 'results': {'TP': 4302, 'FP': 24801, 'FN': 24353}},\n",
       "       {'co_occurances': 5, 'directed': 1, 'max_keywords': 2, 'max_keyword_length': 3, 'results': {'TP': 1082, 'FP': 5494, 'FN': 27283}},\n",
       "       {'co_occurances': 5, 'directed': 1, 'max_keywords': 3, 'max_keyword_length': 3, 'results': {'TP': 1465, 'FP': 7396, 'FN': 26948}},\n",
       "       {'co_occurances': 5, 'directed': 1, 'max_keywords': 4, 'max_keyword_length': 3, 'results': {'TP': 1803, 'FP': 9017, 'FN': 26656}},\n",
       "       {'co_occurances': 5, 'directed': 1, 'max_keywords': 5, 'max_keyword_length': 3, 'results': {'TP': 2087, 'FP': 10528, 'FN': 26408}},\n",
       "       {'co_occurances': 5, 'directed': 1, 'max_keywords': 10, 'max_keyword_length': 3, 'results': {'TP': 2974, 'FP': 16832, 'FN': 25593}},\n",
       "       {'co_occurances': 5, 'directed': 1, 'max_keywords': 15, 'max_keyword_length': 3, 'results': {'TP': 3653, 'FP': 22106, 'FN': 24976}},\n",
       "       {'co_occurances': 5, 'directed': 1, 'max_keywords': 20, 'max_keyword_length': 3, 'results': {'TP': 4187, 'FP': 26428, 'FN': 24475}},\n",
       "       {'co_occurances': 10, 'directed': 0, 'max_keywords': 2, 'max_keyword_length': 3, 'results': {'TP': 1152, 'FP': 5572, 'FN': 27217}},\n",
       "       {'co_occurances': 10, 'directed': 0, 'max_keywords': 3, 'max_keyword_length': 3, 'results': {'TP': 1556, 'FP': 7334, 'FN': 26865}},\n",
       "       {'co_occurances': 10, 'directed': 0, 'max_keywords': 4, 'max_keyword_length': 3, 'results': {'TP': 1877, 'FP': 8972, 'FN': 26578}},\n",
       "       {'co_occurances': 10, 'directed': 0, 'max_keywords': 5, 'max_keyword_length': 3, 'results': {'TP': 2174, 'FP': 10472, 'FN': 26304}},\n",
       "       {'co_occurances': 10, 'directed': 0, 'max_keywords': 10, 'max_keyword_length': 3, 'results': {'TP': 3203, 'FP': 16363, 'FN': 25364}},\n",
       "       {'co_occurances': 10, 'directed': 0, 'max_keywords': 15, 'max_keyword_length': 3, 'results': {'TP': 3848, 'FP': 20937, 'FN': 24785}},\n",
       "       {'co_occurances': 10, 'directed': 0, 'max_keywords': 20, 'max_keyword_length': 3, 'results': {'TP': 4275, 'FP': 24718, 'FN': 24378}},\n",
       "       {'co_occurances': 10, 'directed': 1, 'max_keywords': 2, 'max_keyword_length': 3, 'results': {'TP': 1231, 'FP': 5412, 'FN': 27173}},\n",
       "       {'co_occurances': 10, 'directed': 1, 'max_keywords': 3, 'max_keyword_length': 3, 'results': {'TP': 1653, 'FP': 7240, 'FN': 26811}},\n",
       "       {'co_occurances': 10, 'directed': 1, 'max_keywords': 4, 'max_keyword_length': 3, 'results': {'TP': 1976, 'FP': 8828, 'FN': 26519}},\n",
       "       {'co_occurances': 10, 'directed': 1, 'max_keywords': 5, 'max_keyword_length': 3, 'results': {'TP': 2272, 'FP': 10253, 'FN': 26260}},\n",
       "       {'co_occurances': 10, 'directed': 1, 'max_keywords': 10, 'max_keyword_length': 3, 'results': {'TP': 3268, 'FP': 16384, 'FN': 25315}},\n",
       "       {'co_occurances': 10, 'directed': 1, 'max_keywords': 15, 'max_keyword_length': 3, 'results': {'TP': 3909, 'FP': 21547, 'FN': 24721}},\n",
       "       {'co_occurances': 10, 'directed': 1, 'max_keywords': 20, 'max_keyword_length': 3, 'results': {'TP': 4429, 'FP': 25906, 'FN': 24224}}],\n",
       "      dtype=object)"
      ]
     },
     "execution_count": 91,
     "metadata": {},
     "output_type": "execute_result"
    }
   ],
   "source": [
    "results_array = np.array(results).flatten()\n",
    "results_array"
   ]
  },
  {
   "cell_type": "code",
   "execution_count": 92,
   "id": "ef08756a-669f-4616-80ac-d09c6a8953b1",
   "metadata": {},
   "outputs": [
    {
     "data": {
      "text/html": [
       "<div>\n",
       "<style scoped>\n",
       "    .dataframe tbody tr th:only-of-type {\n",
       "        vertical-align: middle;\n",
       "    }\n",
       "\n",
       "    .dataframe tbody tr th {\n",
       "        vertical-align: top;\n",
       "    }\n",
       "\n",
       "    .dataframe thead th {\n",
       "        text-align: right;\n",
       "    }\n",
       "</style>\n",
       "<table border=\"1\" class=\"dataframe\">\n",
       "  <thead>\n",
       "    <tr style=\"text-align: right;\">\n",
       "      <th></th>\n",
       "      <th>Co-Occurances</th>\n",
       "      <th>Directed Graph</th>\n",
       "      <th>Top N Keywords</th>\n",
       "      <th>Max Keyword Phrase Length</th>\n",
       "      <th>True Positives</th>\n",
       "      <th>False Positives</th>\n",
       "      <th>False Negatives</th>\n",
       "      <th>Precision</th>\n",
       "      <th>Recall</th>\n",
       "      <th>F-Score</th>\n",
       "    </tr>\n",
       "  </thead>\n",
       "  <tbody>\n",
       "    <tr>\n",
       "      <th>0</th>\n",
       "      <td>2</td>\n",
       "      <td>No</td>\n",
       "      <td>2</td>\n",
       "      <td>3</td>\n",
       "      <td>1151</td>\n",
       "      <td>6023</td>\n",
       "      <td>27149</td>\n",
       "      <td>16.044048</td>\n",
       "      <td>4.067138</td>\n",
       "      <td>0.064893</td>\n",
       "    </tr>\n",
       "    <tr>\n",
       "      <th>1</th>\n",
       "      <td>2</td>\n",
       "      <td>No</td>\n",
       "      <td>3</td>\n",
       "      <td>3</td>\n",
       "      <td>1450</td>\n",
       "      <td>7847</td>\n",
       "      <td>26882</td>\n",
       "      <td>15.596429</td>\n",
       "      <td>5.117888</td>\n",
       "      <td>0.077068</td>\n",
       "    </tr>\n",
       "    <tr>\n",
       "      <th>2</th>\n",
       "      <td>2</td>\n",
       "      <td>No</td>\n",
       "      <td>4</td>\n",
       "      <td>3</td>\n",
       "      <td>1710</td>\n",
       "      <td>9368</td>\n",
       "      <td>26651</td>\n",
       "      <td>15.435999</td>\n",
       "      <td>6.029407</td>\n",
       "      <td>0.086716</td>\n",
       "    </tr>\n",
       "    <tr>\n",
       "      <th>3</th>\n",
       "      <td>2</td>\n",
       "      <td>No</td>\n",
       "      <td>5</td>\n",
       "      <td>3</td>\n",
       "      <td>1897</td>\n",
       "      <td>10720</td>\n",
       "      <td>26484</td>\n",
       "      <td>15.035270</td>\n",
       "      <td>6.684049</td>\n",
       "      <td>0.092541</td>\n",
       "    </tr>\n",
       "    <tr>\n",
       "      <th>4</th>\n",
       "      <td>2</td>\n",
       "      <td>No</td>\n",
       "      <td>10</td>\n",
       "      <td>3</td>\n",
       "      <td>2726</td>\n",
       "      <td>15747</td>\n",
       "      <td>25703</td>\n",
       "      <td>14.756672</td>\n",
       "      <td>9.588800</td>\n",
       "      <td>0.116242</td>\n",
       "    </tr>\n",
       "    <tr>\n",
       "      <th>5</th>\n",
       "      <td>2</td>\n",
       "      <td>No</td>\n",
       "      <td>15</td>\n",
       "      <td>3</td>\n",
       "      <td>3361</td>\n",
       "      <td>19264</td>\n",
       "      <td>25137</td>\n",
       "      <td>14.855249</td>\n",
       "      <td>11.793810</td>\n",
       "      <td>0.131487</td>\n",
       "    </tr>\n",
       "    <tr>\n",
       "      <th>6</th>\n",
       "      <td>2</td>\n",
       "      <td>No</td>\n",
       "      <td>20</td>\n",
       "      <td>3</td>\n",
       "      <td>3970</td>\n",
       "      <td>22348</td>\n",
       "      <td>24572</td>\n",
       "      <td>15.084733</td>\n",
       "      <td>13.909327</td>\n",
       "      <td>0.144732</td>\n",
       "    </tr>\n",
       "    <tr>\n",
       "      <th>7</th>\n",
       "      <td>2</td>\n",
       "      <td>Yes</td>\n",
       "      <td>2</td>\n",
       "      <td>3</td>\n",
       "      <td>1061</td>\n",
       "      <td>4694</td>\n",
       "      <td>27269</td>\n",
       "      <td>18.436142</td>\n",
       "      <td>3.745146</td>\n",
       "      <td>0.062256</td>\n",
       "    </tr>\n",
       "    <tr>\n",
       "      <th>8</th>\n",
       "      <td>2</td>\n",
       "      <td>Yes</td>\n",
       "      <td>3</td>\n",
       "      <td>3</td>\n",
       "      <td>1440</td>\n",
       "      <td>6104</td>\n",
       "      <td>26928</td>\n",
       "      <td>19.088017</td>\n",
       "      <td>5.076142</td>\n",
       "      <td>0.080196</td>\n",
       "    </tr>\n",
       "    <tr>\n",
       "      <th>9</th>\n",
       "      <td>2</td>\n",
       "      <td>Yes</td>\n",
       "      <td>4</td>\n",
       "      <td>3</td>\n",
       "      <td>1736</td>\n",
       "      <td>7434</td>\n",
       "      <td>26681</td>\n",
       "      <td>18.931298</td>\n",
       "      <td>6.109019</td>\n",
       "      <td>0.092372</td>\n",
       "    </tr>\n",
       "    <tr>\n",
       "      <th>10</th>\n",
       "      <td>2</td>\n",
       "      <td>Yes</td>\n",
       "      <td>5</td>\n",
       "      <td>3</td>\n",
       "      <td>2012</td>\n",
       "      <td>8585</td>\n",
       "      <td>26427</td>\n",
       "      <td>18.986506</td>\n",
       "      <td>7.074792</td>\n",
       "      <td>0.103084</td>\n",
       "    </tr>\n",
       "    <tr>\n",
       "      <th>11</th>\n",
       "      <td>2</td>\n",
       "      <td>Yes</td>\n",
       "      <td>10</td>\n",
       "      <td>3</td>\n",
       "      <td>3128</td>\n",
       "      <td>13828</td>\n",
       "      <td>25410</td>\n",
       "      <td>18.447747</td>\n",
       "      <td>10.960824</td>\n",
       "      <td>0.137513</td>\n",
       "    </tr>\n",
       "    <tr>\n",
       "      <th>12</th>\n",
       "      <td>2</td>\n",
       "      <td>Yes</td>\n",
       "      <td>15</td>\n",
       "      <td>3</td>\n",
       "      <td>4016</td>\n",
       "      <td>18252</td>\n",
       "      <td>24593</td>\n",
       "      <td>18.034848</td>\n",
       "      <td>14.037541</td>\n",
       "      <td>0.157871</td>\n",
       "    </tr>\n",
       "    <tr>\n",
       "      <th>13</th>\n",
       "      <td>2</td>\n",
       "      <td>Yes</td>\n",
       "      <td>20</td>\n",
       "      <td>3</td>\n",
       "      <td>4661</td>\n",
       "      <td>22161</td>\n",
       "      <td>23993</td>\n",
       "      <td>17.377526</td>\n",
       "      <td>16.266490</td>\n",
       "      <td>0.168037</td>\n",
       "    </tr>\n",
       "    <tr>\n",
       "      <th>14</th>\n",
       "      <td>3</td>\n",
       "      <td>No</td>\n",
       "      <td>2</td>\n",
       "      <td>3</td>\n",
       "      <td>1238</td>\n",
       "      <td>5803</td>\n",
       "      <td>27120</td>\n",
       "      <td>17.582730</td>\n",
       "      <td>4.365611</td>\n",
       "      <td>0.069945</td>\n",
       "    </tr>\n",
       "    <tr>\n",
       "      <th>15</th>\n",
       "      <td>3</td>\n",
       "      <td>No</td>\n",
       "      <td>3</td>\n",
       "      <td>3</td>\n",
       "      <td>1588</td>\n",
       "      <td>7675</td>\n",
       "      <td>26795</td>\n",
       "      <td>17.143474</td>\n",
       "      <td>5.594898</td>\n",
       "      <td>0.084365</td>\n",
       "    </tr>\n",
       "    <tr>\n",
       "      <th>16</th>\n",
       "      <td>3</td>\n",
       "      <td>No</td>\n",
       "      <td>4</td>\n",
       "      <td>3</td>\n",
       "      <td>1877</td>\n",
       "      <td>9324</td>\n",
       "      <td>26535</td>\n",
       "      <td>16.757432</td>\n",
       "      <td>6.606364</td>\n",
       "      <td>0.094767</td>\n",
       "    </tr>\n",
       "    <tr>\n",
       "      <th>17</th>\n",
       "      <td>3</td>\n",
       "      <td>No</td>\n",
       "      <td>5</td>\n",
       "      <td>3</td>\n",
       "      <td>2128</td>\n",
       "      <td>10781</td>\n",
       "      <td>26290</td>\n",
       "      <td>16.484623</td>\n",
       "      <td>7.488212</td>\n",
       "      <td>0.102984</td>\n",
       "    </tr>\n",
       "    <tr>\n",
       "      <th>18</th>\n",
       "      <td>3</td>\n",
       "      <td>No</td>\n",
       "      <td>10</td>\n",
       "      <td>3</td>\n",
       "      <td>3000</td>\n",
       "      <td>16503</td>\n",
       "      <td>25481</td>\n",
       "      <td>15.382249</td>\n",
       "      <td>10.533338</td>\n",
       "      <td>0.125042</td>\n",
       "    </tr>\n",
       "    <tr>\n",
       "      <th>19</th>\n",
       "      <td>3</td>\n",
       "      <td>No</td>\n",
       "      <td>15</td>\n",
       "      <td>3</td>\n",
       "      <td>3629</td>\n",
       "      <td>20846</td>\n",
       "      <td>24923</td>\n",
       "      <td>14.827375</td>\n",
       "      <td>12.710143</td>\n",
       "      <td>0.136874</td>\n",
       "    </tr>\n",
       "    <tr>\n",
       "      <th>20</th>\n",
       "      <td>3</td>\n",
       "      <td>No</td>\n",
       "      <td>20</td>\n",
       "      <td>3</td>\n",
       "      <td>4173</td>\n",
       "      <td>24371</td>\n",
       "      <td>24422</td>\n",
       "      <td>14.619535</td>\n",
       "      <td>14.593460</td>\n",
       "      <td>0.146065</td>\n",
       "    </tr>\n",
       "    <tr>\n",
       "      <th>21</th>\n",
       "      <td>3</td>\n",
       "      <td>Yes</td>\n",
       "      <td>2</td>\n",
       "      <td>3</td>\n",
       "      <td>1063</td>\n",
       "      <td>4982</td>\n",
       "      <td>27300</td>\n",
       "      <td>17.584781</td>\n",
       "      <td>3.747840</td>\n",
       "      <td>0.061788</td>\n",
       "    </tr>\n",
       "    <tr>\n",
       "      <th>22</th>\n",
       "      <td>3</td>\n",
       "      <td>Yes</td>\n",
       "      <td>3</td>\n",
       "      <td>3</td>\n",
       "      <td>1373</td>\n",
       "      <td>6483</td>\n",
       "      <td>27029</td>\n",
       "      <td>17.477088</td>\n",
       "      <td>4.834167</td>\n",
       "      <td>0.075735</td>\n",
       "    </tr>\n",
       "    <tr>\n",
       "      <th>23</th>\n",
       "      <td>3</td>\n",
       "      <td>Yes</td>\n",
       "      <td>4</td>\n",
       "      <td>3</td>\n",
       "      <td>1639</td>\n",
       "      <td>7917</td>\n",
       "      <td>26780</td>\n",
       "      <td>17.151528</td>\n",
       "      <td>5.767268</td>\n",
       "      <td>0.086320</td>\n",
       "    </tr>\n",
       "    <tr>\n",
       "      <th>24</th>\n",
       "      <td>3</td>\n",
       "      <td>Yes</td>\n",
       "      <td>5</td>\n",
       "      <td>3</td>\n",
       "      <td>1860</td>\n",
       "      <td>9197</td>\n",
       "      <td>26579</td>\n",
       "      <td>16.821923</td>\n",
       "      <td>6.540314</td>\n",
       "      <td>0.094187</td>\n",
       "    </tr>\n",
       "    <tr>\n",
       "      <th>25</th>\n",
       "      <td>3</td>\n",
       "      <td>Yes</td>\n",
       "      <td>10</td>\n",
       "      <td>3</td>\n",
       "      <td>2791</td>\n",
       "      <td>14765</td>\n",
       "      <td>25735</td>\n",
       "      <td>15.897699</td>\n",
       "      <td>9.784057</td>\n",
       "      <td>0.121132</td>\n",
       "    </tr>\n",
       "    <tr>\n",
       "      <th>26</th>\n",
       "      <td>3</td>\n",
       "      <td>Yes</td>\n",
       "      <td>15</td>\n",
       "      <td>3</td>\n",
       "      <td>3463</td>\n",
       "      <td>19337</td>\n",
       "      <td>25113</td>\n",
       "      <td>15.188596</td>\n",
       "      <td>12.118561</td>\n",
       "      <td>0.134810</td>\n",
       "    </tr>\n",
       "    <tr>\n",
       "      <th>27</th>\n",
       "      <td>3</td>\n",
       "      <td>Yes</td>\n",
       "      <td>20</td>\n",
       "      <td>3</td>\n",
       "      <td>4041</td>\n",
       "      <td>23504</td>\n",
       "      <td>24585</td>\n",
       "      <td>14.670539</td>\n",
       "      <td>14.116537</td>\n",
       "      <td>0.143882</td>\n",
       "    </tr>\n",
       "    <tr>\n",
       "      <th>28</th>\n",
       "      <td>5</td>\n",
       "      <td>No</td>\n",
       "      <td>2</td>\n",
       "      <td>3</td>\n",
       "      <td>1192</td>\n",
       "      <td>5830</td>\n",
       "      <td>27163</td>\n",
       "      <td>16.975221</td>\n",
       "      <td>4.203844</td>\n",
       "      <td>0.067388</td>\n",
       "    </tr>\n",
       "    <tr>\n",
       "      <th>29</th>\n",
       "      <td>5</td>\n",
       "      <td>No</td>\n",
       "      <td>3</td>\n",
       "      <td>3</td>\n",
       "      <td>1589</td>\n",
       "      <td>7575</td>\n",
       "      <td>26822</td>\n",
       "      <td>17.339590</td>\n",
       "      <td>5.592904</td>\n",
       "      <td>0.084578</td>\n",
       "    </tr>\n",
       "    <tr>\n",
       "      <th>30</th>\n",
       "      <td>5</td>\n",
       "      <td>No</td>\n",
       "      <td>4</td>\n",
       "      <td>3</td>\n",
       "      <td>1914</td>\n",
       "      <td>9222</td>\n",
       "      <td>26532</td>\n",
       "      <td>17.187500</td>\n",
       "      <td>6.728538</td>\n",
       "      <td>0.096711</td>\n",
       "    </tr>\n",
       "    <tr>\n",
       "      <th>31</th>\n",
       "      <td>5</td>\n",
       "      <td>No</td>\n",
       "      <td>5</td>\n",
       "      <td>3</td>\n",
       "      <td>2174</td>\n",
       "      <td>10721</td>\n",
       "      <td>26300</td>\n",
       "      <td>16.859248</td>\n",
       "      <td>7.635035</td>\n",
       "      <td>0.105103</td>\n",
       "    </tr>\n",
       "    <tr>\n",
       "      <th>32</th>\n",
       "      <td>5</td>\n",
       "      <td>No</td>\n",
       "      <td>10</td>\n",
       "      <td>3</td>\n",
       "      <td>3182</td>\n",
       "      <td>16623</td>\n",
       "      <td>25386</td>\n",
       "      <td>16.066650</td>\n",
       "      <td>11.138337</td>\n",
       "      <td>0.131561</td>\n",
       "    </tr>\n",
       "    <tr>\n",
       "      <th>33</th>\n",
       "      <td>5</td>\n",
       "      <td>No</td>\n",
       "      <td>15</td>\n",
       "      <td>3</td>\n",
       "      <td>3797</td>\n",
       "      <td>21135</td>\n",
       "      <td>24819</td>\n",
       "      <td>15.229424</td>\n",
       "      <td>13.268801</td>\n",
       "      <td>0.141817</td>\n",
       "    </tr>\n",
       "    <tr>\n",
       "      <th>34</th>\n",
       "      <td>5</td>\n",
       "      <td>No</td>\n",
       "      <td>20</td>\n",
       "      <td>3</td>\n",
       "      <td>4302</td>\n",
       "      <td>24801</td>\n",
       "      <td>24353</td>\n",
       "      <td>14.781981</td>\n",
       "      <td>15.013087</td>\n",
       "      <td>0.148966</td>\n",
       "    </tr>\n",
       "    <tr>\n",
       "      <th>35</th>\n",
       "      <td>5</td>\n",
       "      <td>Yes</td>\n",
       "      <td>2</td>\n",
       "      <td>3</td>\n",
       "      <td>1082</td>\n",
       "      <td>5494</td>\n",
       "      <td>27283</td>\n",
       "      <td>16.453771</td>\n",
       "      <td>3.814560</td>\n",
       "      <td>0.061933</td>\n",
       "    </tr>\n",
       "    <tr>\n",
       "      <th>36</th>\n",
       "      <td>5</td>\n",
       "      <td>Yes</td>\n",
       "      <td>3</td>\n",
       "      <td>3</td>\n",
       "      <td>1465</td>\n",
       "      <td>7396</td>\n",
       "      <td>26948</td>\n",
       "      <td>16.533123</td>\n",
       "      <td>5.156091</td>\n",
       "      <td>0.078607</td>\n",
       "    </tr>\n",
       "    <tr>\n",
       "      <th>37</th>\n",
       "      <td>5</td>\n",
       "      <td>Yes</td>\n",
       "      <td>4</td>\n",
       "      <td>3</td>\n",
       "      <td>1803</td>\n",
       "      <td>9017</td>\n",
       "      <td>26656</td>\n",
       "      <td>16.663586</td>\n",
       "      <td>6.335430</td>\n",
       "      <td>0.091805</td>\n",
       "    </tr>\n",
       "    <tr>\n",
       "      <th>38</th>\n",
       "      <td>5</td>\n",
       "      <td>Yes</td>\n",
       "      <td>5</td>\n",
       "      <td>3</td>\n",
       "      <td>2087</td>\n",
       "      <td>10528</td>\n",
       "      <td>26408</td>\n",
       "      <td>16.543797</td>\n",
       "      <td>7.324092</td>\n",
       "      <td>0.101532</td>\n",
       "    </tr>\n",
       "    <tr>\n",
       "      <th>39</th>\n",
       "      <td>5</td>\n",
       "      <td>Yes</td>\n",
       "      <td>10</td>\n",
       "      <td>3</td>\n",
       "      <td>2974</td>\n",
       "      <td>16832</td>\n",
       "      <td>25593</td>\n",
       "      <td>15.015652</td>\n",
       "      <td>10.410614</td>\n",
       "      <td>0.122961</td>\n",
       "    </tr>\n",
       "    <tr>\n",
       "      <th>40</th>\n",
       "      <td>5</td>\n",
       "      <td>Yes</td>\n",
       "      <td>15</td>\n",
       "      <td>3</td>\n",
       "      <td>3653</td>\n",
       "      <td>22106</td>\n",
       "      <td>24976</td>\n",
       "      <td>14.181451</td>\n",
       "      <td>12.759789</td>\n",
       "      <td>0.134331</td>\n",
       "    </tr>\n",
       "    <tr>\n",
       "      <th>41</th>\n",
       "      <td>5</td>\n",
       "      <td>Yes</td>\n",
       "      <td>20</td>\n",
       "      <td>3</td>\n",
       "      <td>4187</td>\n",
       "      <td>26428</td>\n",
       "      <td>24475</td>\n",
       "      <td>13.676302</td>\n",
       "      <td>14.608192</td>\n",
       "      <td>0.141269</td>\n",
       "    </tr>\n",
       "    <tr>\n",
       "      <th>42</th>\n",
       "      <td>10</td>\n",
       "      <td>No</td>\n",
       "      <td>2</td>\n",
       "      <td>3</td>\n",
       "      <td>1152</td>\n",
       "      <td>5572</td>\n",
       "      <td>27217</td>\n",
       "      <td>17.132659</td>\n",
       "      <td>4.060771</td>\n",
       "      <td>0.065654</td>\n",
       "    </tr>\n",
       "    <tr>\n",
       "      <th>43</th>\n",
       "      <td>10</td>\n",
       "      <td>No</td>\n",
       "      <td>3</td>\n",
       "      <td>3</td>\n",
       "      <td>1556</td>\n",
       "      <td>7334</td>\n",
       "      <td>26865</td>\n",
       "      <td>17.502812</td>\n",
       "      <td>5.474825</td>\n",
       "      <td>0.083407</td>\n",
       "    </tr>\n",
       "    <tr>\n",
       "      <th>44</th>\n",
       "      <td>10</td>\n",
       "      <td>No</td>\n",
       "      <td>4</td>\n",
       "      <td>3</td>\n",
       "      <td>1877</td>\n",
       "      <td>8972</td>\n",
       "      <td>26578</td>\n",
       "      <td>17.301134</td>\n",
       "      <td>6.596380</td>\n",
       "      <td>0.095512</td>\n",
       "    </tr>\n",
       "    <tr>\n",
       "      <th>45</th>\n",
       "      <td>10</td>\n",
       "      <td>No</td>\n",
       "      <td>5</td>\n",
       "      <td>3</td>\n",
       "      <td>2174</td>\n",
       "      <td>10472</td>\n",
       "      <td>26304</td>\n",
       "      <td>17.191207</td>\n",
       "      <td>7.633963</td>\n",
       "      <td>0.105729</td>\n",
       "    </tr>\n",
       "    <tr>\n",
       "      <th>46</th>\n",
       "      <td>10</td>\n",
       "      <td>No</td>\n",
       "      <td>10</td>\n",
       "      <td>3</td>\n",
       "      <td>3203</td>\n",
       "      <td>16363</td>\n",
       "      <td>25364</td>\n",
       "      <td>16.370234</td>\n",
       "      <td>11.212238</td>\n",
       "      <td>0.133090</td>\n",
       "    </tr>\n",
       "    <tr>\n",
       "      <th>47</th>\n",
       "      <td>10</td>\n",
       "      <td>No</td>\n",
       "      <td>15</td>\n",
       "      <td>3</td>\n",
       "      <td>3848</td>\n",
       "      <td>20937</td>\n",
       "      <td>24785</td>\n",
       "      <td>15.525519</td>\n",
       "      <td>13.439039</td>\n",
       "      <td>0.144071</td>\n",
       "    </tr>\n",
       "    <tr>\n",
       "      <th>48</th>\n",
       "      <td>10</td>\n",
       "      <td>No</td>\n",
       "      <td>20</td>\n",
       "      <td>3</td>\n",
       "      <td>4275</td>\n",
       "      <td>24718</td>\n",
       "      <td>24378</td>\n",
       "      <td>14.744938</td>\n",
       "      <td>14.919904</td>\n",
       "      <td>0.148319</td>\n",
       "    </tr>\n",
       "    <tr>\n",
       "      <th>49</th>\n",
       "      <td>10</td>\n",
       "      <td>Yes</td>\n",
       "      <td>2</td>\n",
       "      <td>3</td>\n",
       "      <td>1231</td>\n",
       "      <td>5412</td>\n",
       "      <td>27173</td>\n",
       "      <td>18.530784</td>\n",
       "      <td>4.333897</td>\n",
       "      <td>0.070249</td>\n",
       "    </tr>\n",
       "    <tr>\n",
       "      <th>50</th>\n",
       "      <td>10</td>\n",
       "      <td>Yes</td>\n",
       "      <td>3</td>\n",
       "      <td>3</td>\n",
       "      <td>1653</td>\n",
       "      <td>7240</td>\n",
       "      <td>26811</td>\n",
       "      <td>18.587653</td>\n",
       "      <td>5.807336</td>\n",
       "      <td>0.088497</td>\n",
       "    </tr>\n",
       "    <tr>\n",
       "      <th>51</th>\n",
       "      <td>10</td>\n",
       "      <td>Yes</td>\n",
       "      <td>4</td>\n",
       "      <td>3</td>\n",
       "      <td>1976</td>\n",
       "      <td>8828</td>\n",
       "      <td>26519</td>\n",
       "      <td>18.289522</td>\n",
       "      <td>6.934550</td>\n",
       "      <td>0.100562</td>\n",
       "    </tr>\n",
       "    <tr>\n",
       "      <th>52</th>\n",
       "      <td>10</td>\n",
       "      <td>Yes</td>\n",
       "      <td>5</td>\n",
       "      <td>3</td>\n",
       "      <td>2272</td>\n",
       "      <td>10253</td>\n",
       "      <td>26260</td>\n",
       "      <td>18.139721</td>\n",
       "      <td>7.962989</td>\n",
       "      <td>0.110675</td>\n",
       "    </tr>\n",
       "    <tr>\n",
       "      <th>53</th>\n",
       "      <td>10</td>\n",
       "      <td>Yes</td>\n",
       "      <td>10</td>\n",
       "      <td>3</td>\n",
       "      <td>3268</td>\n",
       "      <td>16384</td>\n",
       "      <td>25315</td>\n",
       "      <td>16.629351</td>\n",
       "      <td>11.433369</td>\n",
       "      <td>0.135503</td>\n",
       "    </tr>\n",
       "    <tr>\n",
       "      <th>54</th>\n",
       "      <td>10</td>\n",
       "      <td>Yes</td>\n",
       "      <td>15</td>\n",
       "      <td>3</td>\n",
       "      <td>3909</td>\n",
       "      <td>21547</td>\n",
       "      <td>24721</td>\n",
       "      <td>15.355908</td>\n",
       "      <td>13.653510</td>\n",
       "      <td>0.144548</td>\n",
       "    </tr>\n",
       "    <tr>\n",
       "      <th>55</th>\n",
       "      <td>10</td>\n",
       "      <td>Yes</td>\n",
       "      <td>20</td>\n",
       "      <td>3</td>\n",
       "      <td>4429</td>\n",
       "      <td>25906</td>\n",
       "      <td>24224</td>\n",
       "      <td>14.600297</td>\n",
       "      <td>15.457369</td>\n",
       "      <td>0.150166</td>\n",
       "    </tr>\n",
       "  </tbody>\n",
       "</table>\n",
       "</div>"
      ],
      "text/plain": [
       "    Co-Occurances Directed Graph  Top N Keywords  Max Keyword Phrase Length  \\\n",
       "0               2             No               2                          3   \n",
       "1               2             No               3                          3   \n",
       "2               2             No               4                          3   \n",
       "3               2             No               5                          3   \n",
       "4               2             No              10                          3   \n",
       "5               2             No              15                          3   \n",
       "6               2             No              20                          3   \n",
       "7               2            Yes               2                          3   \n",
       "8               2            Yes               3                          3   \n",
       "9               2            Yes               4                          3   \n",
       "10              2            Yes               5                          3   \n",
       "11              2            Yes              10                          3   \n",
       "12              2            Yes              15                          3   \n",
       "13              2            Yes              20                          3   \n",
       "14              3             No               2                          3   \n",
       "15              3             No               3                          3   \n",
       "16              3             No               4                          3   \n",
       "17              3             No               5                          3   \n",
       "18              3             No              10                          3   \n",
       "19              3             No              15                          3   \n",
       "20              3             No              20                          3   \n",
       "21              3            Yes               2                          3   \n",
       "22              3            Yes               3                          3   \n",
       "23              3            Yes               4                          3   \n",
       "24              3            Yes               5                          3   \n",
       "25              3            Yes              10                          3   \n",
       "26              3            Yes              15                          3   \n",
       "27              3            Yes              20                          3   \n",
       "28              5             No               2                          3   \n",
       "29              5             No               3                          3   \n",
       "30              5             No               4                          3   \n",
       "31              5             No               5                          3   \n",
       "32              5             No              10                          3   \n",
       "33              5             No              15                          3   \n",
       "34              5             No              20                          3   \n",
       "35              5            Yes               2                          3   \n",
       "36              5            Yes               3                          3   \n",
       "37              5            Yes               4                          3   \n",
       "38              5            Yes               5                          3   \n",
       "39              5            Yes              10                          3   \n",
       "40              5            Yes              15                          3   \n",
       "41              5            Yes              20                          3   \n",
       "42             10             No               2                          3   \n",
       "43             10             No               3                          3   \n",
       "44             10             No               4                          3   \n",
       "45             10             No               5                          3   \n",
       "46             10             No              10                          3   \n",
       "47             10             No              15                          3   \n",
       "48             10             No              20                          3   \n",
       "49             10            Yes               2                          3   \n",
       "50             10            Yes               3                          3   \n",
       "51             10            Yes               4                          3   \n",
       "52             10            Yes               5                          3   \n",
       "53             10            Yes              10                          3   \n",
       "54             10            Yes              15                          3   \n",
       "55             10            Yes              20                          3   \n",
       "\n",
       "    True Positives  False Positives  False Negatives  Precision     Recall  \\\n",
       "0             1151             6023            27149  16.044048   4.067138   \n",
       "1             1450             7847            26882  15.596429   5.117888   \n",
       "2             1710             9368            26651  15.435999   6.029407   \n",
       "3             1897            10720            26484  15.035270   6.684049   \n",
       "4             2726            15747            25703  14.756672   9.588800   \n",
       "5             3361            19264            25137  14.855249  11.793810   \n",
       "6             3970            22348            24572  15.084733  13.909327   \n",
       "7             1061             4694            27269  18.436142   3.745146   \n",
       "8             1440             6104            26928  19.088017   5.076142   \n",
       "9             1736             7434            26681  18.931298   6.109019   \n",
       "10            2012             8585            26427  18.986506   7.074792   \n",
       "11            3128            13828            25410  18.447747  10.960824   \n",
       "12            4016            18252            24593  18.034848  14.037541   \n",
       "13            4661            22161            23993  17.377526  16.266490   \n",
       "14            1238             5803            27120  17.582730   4.365611   \n",
       "15            1588             7675            26795  17.143474   5.594898   \n",
       "16            1877             9324            26535  16.757432   6.606364   \n",
       "17            2128            10781            26290  16.484623   7.488212   \n",
       "18            3000            16503            25481  15.382249  10.533338   \n",
       "19            3629            20846            24923  14.827375  12.710143   \n",
       "20            4173            24371            24422  14.619535  14.593460   \n",
       "21            1063             4982            27300  17.584781   3.747840   \n",
       "22            1373             6483            27029  17.477088   4.834167   \n",
       "23            1639             7917            26780  17.151528   5.767268   \n",
       "24            1860             9197            26579  16.821923   6.540314   \n",
       "25            2791            14765            25735  15.897699   9.784057   \n",
       "26            3463            19337            25113  15.188596  12.118561   \n",
       "27            4041            23504            24585  14.670539  14.116537   \n",
       "28            1192             5830            27163  16.975221   4.203844   \n",
       "29            1589             7575            26822  17.339590   5.592904   \n",
       "30            1914             9222            26532  17.187500   6.728538   \n",
       "31            2174            10721            26300  16.859248   7.635035   \n",
       "32            3182            16623            25386  16.066650  11.138337   \n",
       "33            3797            21135            24819  15.229424  13.268801   \n",
       "34            4302            24801            24353  14.781981  15.013087   \n",
       "35            1082             5494            27283  16.453771   3.814560   \n",
       "36            1465             7396            26948  16.533123   5.156091   \n",
       "37            1803             9017            26656  16.663586   6.335430   \n",
       "38            2087            10528            26408  16.543797   7.324092   \n",
       "39            2974            16832            25593  15.015652  10.410614   \n",
       "40            3653            22106            24976  14.181451  12.759789   \n",
       "41            4187            26428            24475  13.676302  14.608192   \n",
       "42            1152             5572            27217  17.132659   4.060771   \n",
       "43            1556             7334            26865  17.502812   5.474825   \n",
       "44            1877             8972            26578  17.301134   6.596380   \n",
       "45            2174            10472            26304  17.191207   7.633963   \n",
       "46            3203            16363            25364  16.370234  11.212238   \n",
       "47            3848            20937            24785  15.525519  13.439039   \n",
       "48            4275            24718            24378  14.744938  14.919904   \n",
       "49            1231             5412            27173  18.530784   4.333897   \n",
       "50            1653             7240            26811  18.587653   5.807336   \n",
       "51            1976             8828            26519  18.289522   6.934550   \n",
       "52            2272            10253            26260  18.139721   7.962989   \n",
       "53            3268            16384            25315  16.629351  11.433369   \n",
       "54            3909            21547            24721  15.355908  13.653510   \n",
       "55            4429            25906            24224  14.600297  15.457369   \n",
       "\n",
       "     F-Score  \n",
       "0   0.064893  \n",
       "1   0.077068  \n",
       "2   0.086716  \n",
       "3   0.092541  \n",
       "4   0.116242  \n",
       "5   0.131487  \n",
       "6   0.144732  \n",
       "7   0.062256  \n",
       "8   0.080196  \n",
       "9   0.092372  \n",
       "10  0.103084  \n",
       "11  0.137513  \n",
       "12  0.157871  \n",
       "13  0.168037  \n",
       "14  0.069945  \n",
       "15  0.084365  \n",
       "16  0.094767  \n",
       "17  0.102984  \n",
       "18  0.125042  \n",
       "19  0.136874  \n",
       "20  0.146065  \n",
       "21  0.061788  \n",
       "22  0.075735  \n",
       "23  0.086320  \n",
       "24  0.094187  \n",
       "25  0.121132  \n",
       "26  0.134810  \n",
       "27  0.143882  \n",
       "28  0.067388  \n",
       "29  0.084578  \n",
       "30  0.096711  \n",
       "31  0.105103  \n",
       "32  0.131561  \n",
       "33  0.141817  \n",
       "34  0.148966  \n",
       "35  0.061933  \n",
       "36  0.078607  \n",
       "37  0.091805  \n",
       "38  0.101532  \n",
       "39  0.122961  \n",
       "40  0.134331  \n",
       "41  0.141269  \n",
       "42  0.065654  \n",
       "43  0.083407  \n",
       "44  0.095512  \n",
       "45  0.105729  \n",
       "46  0.133090  \n",
       "47  0.144071  \n",
       "48  0.148319  \n",
       "49  0.070249  \n",
       "50  0.088497  \n",
       "51  0.100562  \n",
       "52  0.110675  \n",
       "53  0.135503  \n",
       "54  0.144548  \n",
       "55  0.150166  "
      ]
     },
     "execution_count": 92,
     "metadata": {},
     "output_type": "execute_result"
    }
   ],
   "source": [
    "df = pd.DataFrame(columns=['Co-Occurances', 'Directed Graph', 'Top N Keywords', 'Max Keyword Phrase Length', 'True Positives', 'False Positives', 'False Negatives', 'Precision', 'Recall', 'F-Score'])\n",
    "for i, result in enumerate(results_array):\n",
    "    if result['directed']:\n",
    "        directed = 'Yes'\n",
    "    else:\n",
    "        directed = 'No'\n",
    "    precision = result['results']['TP'] / (result['results']['TP'] + result['results']['FP'])\n",
    "    recall = result['results']['TP'] / (result['results']['TP'] + result['results']['FN'])\n",
    "    f_score = 2 * precision * recall / (precision + recall)\n",
    "    df.loc[i] = [\n",
    "        result['co_occurances'],\n",
    "        directed,\n",
    "        result['max_keywords'],\n",
    "        result['max_keyword_length'],\n",
    "        result['results']['TP'],\n",
    "        result['results']['FP'],\n",
    "        result['results']['FN'],\n",
    "        precision * 100,\n",
    "        recall * 100,\n",
    "        f_score\n",
    "    ]\n",
    "df"
   ]
  },
  {
   "cell_type": "code",
   "execution_count": 93,
   "id": "df8e0fab-5900-44d4-8252-e9958d8d5f8b",
   "metadata": {},
   "outputs": [],
   "source": [
    "df.to_excel(\"filter.xlsx\") "
   ]
  },
  {
   "cell_type": "code",
   "execution_count": 12,
   "id": "d6a36d33-d66e-4c0d-ba24-ef98e04a8d1c",
   "metadata": {},
   "outputs": [
    {
     "data": {
      "application/vnd.jupyter.widget-view+json": {
       "model_id": "b13b6436bf37439885945bbfcfd93425",
       "version_major": 2,
       "version_minor": 0
      },
      "text/plain": [
       "  0%|          | 0/11 [00:00<?, ?it/s]"
      ]
     },
     "metadata": {},
     "output_type": "display_data"
    },
    {
     "data": {
      "application/vnd.jupyter.widget-view+json": {
       "model_id": "c6301ebc1c71497292b476259afc9eab",
       "version_major": 2,
       "version_minor": 0
      },
      "text/plain": [
       "  0%|          | 0/2000 [00:00<?, ?it/s]"
      ]
     },
     "metadata": {},
     "output_type": "display_data"
    },
    {
     "data": {
      "application/vnd.jupyter.widget-view+json": {
       "model_id": "c443c7f501214c16ae90d5b84c3ed029",
       "version_major": 2,
       "version_minor": 0
      },
      "text/plain": [
       "  0%|          | 0/2000 [00:00<?, ?it/s]"
      ]
     },
     "metadata": {},
     "output_type": "display_data"
    },
    {
     "data": {
      "application/vnd.jupyter.widget-view+json": {
       "model_id": "a7e4029e5237451aaf0eebe4fbec32c7",
       "version_major": 2,
       "version_minor": 0
      },
      "text/plain": [
       "  0%|          | 0/2000 [00:00<?, ?it/s]"
      ]
     },
     "metadata": {},
     "output_type": "display_data"
    },
    {
     "data": {
      "application/vnd.jupyter.widget-view+json": {
       "model_id": "e8cac4be8a964253bb508c84863f0301",
       "version_major": 2,
       "version_minor": 0
      },
      "text/plain": [
       "  0%|          | 0/2000 [00:00<?, ?it/s]"
      ]
     },
     "metadata": {},
     "output_type": "display_data"
    },
    {
     "data": {
      "application/vnd.jupyter.widget-view+json": {
       "model_id": "afb03f20ed3d48a0af570684691b3bbf",
       "version_major": 2,
       "version_minor": 0
      },
      "text/plain": [
       "  0%|          | 0/2000 [00:00<?, ?it/s]"
      ]
     },
     "metadata": {},
     "output_type": "display_data"
    },
    {
     "data": {
      "application/vnd.jupyter.widget-view+json": {
       "model_id": "768ce5c9b0c04965bce944dceff98ced",
       "version_major": 2,
       "version_minor": 0
      },
      "text/plain": [
       "  0%|          | 0/2000 [00:00<?, ?it/s]"
      ]
     },
     "metadata": {},
     "output_type": "display_data"
    },
    {
     "data": {
      "application/vnd.jupyter.widget-view+json": {
       "model_id": "409fead0268b4b14a5c31b728ccfa77f",
       "version_major": 2,
       "version_minor": 0
      },
      "text/plain": [
       "  0%|          | 0/2000 [00:00<?, ?it/s]"
      ]
     },
     "metadata": {},
     "output_type": "display_data"
    },
    {
     "data": {
      "application/vnd.jupyter.widget-view+json": {
       "model_id": "89f235842a4241e9be036051e9c5040c",
       "version_major": 2,
       "version_minor": 0
      },
      "text/plain": [
       "  0%|          | 0/2000 [00:00<?, ?it/s]"
      ]
     },
     "metadata": {},
     "output_type": "display_data"
    },
    {
     "data": {
      "application/vnd.jupyter.widget-view+json": {
       "model_id": "9e6ce160dbd8432bb0a502c3fc7dcb6c",
       "version_major": 2,
       "version_minor": 0
      },
      "text/plain": [
       "  0%|          | 0/2000 [00:00<?, ?it/s]"
      ]
     },
     "metadata": {},
     "output_type": "display_data"
    },
    {
     "data": {
      "application/vnd.jupyter.widget-view+json": {
       "model_id": "3282511495b341c9b3fc98d93acd4927",
       "version_major": 2,
       "version_minor": 0
      },
      "text/plain": [
       "  0%|          | 0/2000 [00:00<?, ?it/s]"
      ]
     },
     "metadata": {},
     "output_type": "display_data"
    },
    {
     "data": {
      "application/vnd.jupyter.widget-view+json": {
       "model_id": "d01f93230bed48828af666ea2b188ab5",
       "version_major": 2,
       "version_minor": 0
      },
      "text/plain": [
       "  0%|          | 0/2000 [00:00<?, ?it/s]"
      ]
     },
     "metadata": {},
     "output_type": "display_data"
    }
   ],
   "source": [
    "def run_config_single_damp(abstract_path, keywords_path, co_occurances, directed, max_keywords, max_keyword_length, damp_factor):\n",
    "    abstract = read_file(abstract_path)\n",
    "    labeled_keywords_raw = read_file(keywords_path)\n",
    "    labeled_keywords = [keyword.strip() for keyword in labeled_keywords_raw.split('\\n') if bool(keyword.strip())]\n",
    "\n",
    "    \n",
    "    candidate_keywords = tokenizer.extract_keywords(abstract, 1)\n",
    "    tagged_candidate_keywords = tokenizer.tag_keywords(candidate_keywords)\n",
    "    words_list = tokenizer.extract_words(abstract)\n",
    "\n",
    "    word_graph = text_rank.WordGraph(candidate_keywords, words_list, max_distance=co_occurances, directed=directed)\n",
    "    word_graph.calculate_pagerank(damp_factor=damp_factor)\n",
    "\n",
    "    predicted_keywords = word_graph.postprocess_keywords_chronological(max_keywords, max_keyword_length)\n",
    "\n",
    "    return predicted_keywords, labeled_keywords\n",
    "\n",
    "def test_config_adj_noun(co_occurances, directed, max_keywords, max_keyword_length, damp_factor):\n",
    "    tp = 0\n",
    "    fp = 0\n",
    "    fn = 0\n",
    "    file_names = [file_path.split('.')[0] for file_path in os.listdir(keywords_dir)]\n",
    "    for file_name in tqdm(file_names):\n",
    "        abstract_path = os.path.join(abstracts_dir, file_name + '.txt')\n",
    "        keywords_path = os.path.join(keywords_dir, file_name + '.key')\n",
    "\n",
    "        predicted_keywords, labeled_keywords = run_config_single_damp(abstract_path, keywords_path, co_occurances, directed, max_keywords, max_keyword_length, damp_factor)\n",
    "        tagged_keywords = tokenizer.tag_keywords(predicted_keywords)\n",
    "        predicted_keywords = list(set([tagged_keyword[0] for tagged_keyword in tagged_keywords if (tagged_keyword[1][0] == 'N' or tagged_keyword[1][0] == 'J') and len(tagged_keyword[0]) > 1]))\n",
    "        \n",
    "        local_tp, local_fp, local_fn = evaluate_keywords(predicted_keywords, labeled_keywords)\n",
    "\n",
    "        tp += local_tp\n",
    "        fp += local_fp\n",
    "        fn += local_fn\n",
    "    return tp, fp, fn\n",
    "\n",
    "results = []\n",
    "for i in tqdm(range(0, 11)):\n",
    "    tp, fp, fn = test_config_adj_noun(2, 1, 3, 3, float(i)/100 + 0.8)\n",
    "    results.append({\n",
    "        'co_occurances': 2,\n",
    "        'directed': 'Yes',\n",
    "        'max_keywords': 3,\n",
    "        'max_keyword_length': 3,\n",
    "        'damp_factor': float(i)/100 + 0.8,\n",
    "        'results': {\n",
    "            'TP': tp,\n",
    "            'FP': fp,\n",
    "            'FN': fn\n",
    "        }\n",
    "    })"
   ]
  },
  {
   "cell_type": "code",
   "execution_count": 13,
   "id": "b7bb54fe-d154-455f-a9f0-3c3e636c8d52",
   "metadata": {},
   "outputs": [
    {
     "data": {
      "text/plain": [
       "[{'co_occurances': 2,\n",
       "  'directed': 'Yes',\n",
       "  'max_keywords': 3,\n",
       "  'max_keyword_length': 3,\n",
       "  'damp_factor': 0.8,\n",
       "  'results': {'TP': 1442, 'FP': 6199, 'FN': 26921}},\n",
       " {'co_occurances': 2,\n",
       "  'directed': 'Yes',\n",
       "  'max_keywords': 3,\n",
       "  'max_keyword_length': 3,\n",
       "  'damp_factor': 0.9,\n",
       "  'results': {'TP': 1444, 'FP': 6168, 'FN': 26921}},\n",
       " {'co_occurances': 2,\n",
       "  'directed': 'Yes',\n",
       "  'max_keywords': 3,\n",
       "  'max_keyword_length': 3,\n",
       "  'damp_factor': 1.0,\n",
       "  'results': {'TP': 1443, 'FP': 6152, 'FN': 26928}},\n",
       " {'co_occurances': 2,\n",
       "  'directed': 'Yes',\n",
       "  'max_keywords': 3,\n",
       "  'max_keyword_length': 3,\n",
       "  'damp_factor': 1.1,\n",
       "  'results': {'TP': 1433, 'FP': 6137, 'FN': 26934}},\n",
       " {'co_occurances': 2,\n",
       "  'directed': 'Yes',\n",
       "  'max_keywords': 3,\n",
       "  'max_keyword_length': 3,\n",
       "  'damp_factor': 1.2000000000000002,\n",
       "  'results': {'TP': 1437, 'FP': 6132, 'FN': 26932}},\n",
       " {'co_occurances': 2,\n",
       "  'directed': 'Yes',\n",
       "  'max_keywords': 3,\n",
       "  'max_keyword_length': 3,\n",
       "  'damp_factor': 1.3,\n",
       "  'results': {'TP': 1433, 'FP': 6108, 'FN': 26937}},\n",
       " {'co_occurances': 2,\n",
       "  'directed': 'Yes',\n",
       "  'max_keywords': 3,\n",
       "  'max_keyword_length': 3,\n",
       "  'damp_factor': 1.4,\n",
       "  'results': {'TP': 1421, 'FP': 6103, 'FN': 26941}},\n",
       " {'co_occurances': 2,\n",
       "  'directed': 'Yes',\n",
       "  'max_keywords': 3,\n",
       "  'max_keyword_length': 3,\n",
       "  'damp_factor': 1.5,\n",
       "  'results': {'TP': 1430, 'FP': 6093, 'FN': 26938}},\n",
       " {'co_occurances': 2,\n",
       "  'directed': 'Yes',\n",
       "  'max_keywords': 3,\n",
       "  'max_keyword_length': 3,\n",
       "  'damp_factor': 1.6,\n",
       "  'results': {'TP': 1421, 'FP': 6063, 'FN': 26943}},\n",
       " {'co_occurances': 2,\n",
       "  'directed': 'Yes',\n",
       "  'max_keywords': 3,\n",
       "  'max_keyword_length': 3,\n",
       "  'damp_factor': 1.7000000000000002,\n",
       "  'results': {'TP': 1429, 'FP': 6044, 'FN': 26942}},\n",
       " {'co_occurances': 2,\n",
       "  'directed': 'Yes',\n",
       "  'max_keywords': 3,\n",
       "  'max_keyword_length': 3,\n",
       "  'damp_factor': 1.8,\n",
       "  'results': {'TP': 1424, 'FP': 6047, 'FN': 26951}}]"
      ]
     },
     "execution_count": 13,
     "metadata": {},
     "output_type": "execute_result"
    }
   ],
   "source": [
    "results"
   ]
  },
  {
   "cell_type": "code",
   "execution_count": 17,
   "id": "85af841b-448f-45fa-974a-8772f015bf56",
   "metadata": {},
   "outputs": [
    {
     "data": {
      "text/html": [
       "<div>\n",
       "<style scoped>\n",
       "    .dataframe tbody tr th:only-of-type {\n",
       "        vertical-align: middle;\n",
       "    }\n",
       "\n",
       "    .dataframe tbody tr th {\n",
       "        vertical-align: top;\n",
       "    }\n",
       "\n",
       "    .dataframe thead th {\n",
       "        text-align: right;\n",
       "    }\n",
       "</style>\n",
       "<table border=\"1\" class=\"dataframe\">\n",
       "  <thead>\n",
       "    <tr style=\"text-align: right;\">\n",
       "      <th></th>\n",
       "      <th>Co-Occurances</th>\n",
       "      <th>Directed Graph</th>\n",
       "      <th>Top N Keywords</th>\n",
       "      <th>Max Keyword Phrase Length</th>\n",
       "      <th>Damp Factor</th>\n",
       "      <th>True Positives</th>\n",
       "      <th>False Positives</th>\n",
       "      <th>False Negatives</th>\n",
       "      <th>Precision</th>\n",
       "      <th>Recall</th>\n",
       "      <th>F-Score</th>\n",
       "    </tr>\n",
       "  </thead>\n",
       "  <tbody>\n",
       "    <tr>\n",
       "      <th>0</th>\n",
       "      <td>2</td>\n",
       "      <td>Yes</td>\n",
       "      <td>3</td>\n",
       "      <td>3</td>\n",
       "      <td>0.8</td>\n",
       "      <td>1442</td>\n",
       "      <td>6199</td>\n",
       "      <td>26921</td>\n",
       "      <td>18.871875</td>\n",
       "      <td>5.084088</td>\n",
       "      <td>0.080102</td>\n",
       "    </tr>\n",
       "    <tr>\n",
       "      <th>1</th>\n",
       "      <td>2</td>\n",
       "      <td>Yes</td>\n",
       "      <td>3</td>\n",
       "      <td>3</td>\n",
       "      <td>0.9</td>\n",
       "      <td>1444</td>\n",
       "      <td>6168</td>\n",
       "      <td>26921</td>\n",
       "      <td>18.970047</td>\n",
       "      <td>5.090781</td>\n",
       "      <td>0.080274</td>\n",
       "    </tr>\n",
       "    <tr>\n",
       "      <th>2</th>\n",
       "      <td>2</td>\n",
       "      <td>Yes</td>\n",
       "      <td>3</td>\n",
       "      <td>3</td>\n",
       "      <td>1.0</td>\n",
       "      <td>1443</td>\n",
       "      <td>6152</td>\n",
       "      <td>26928</td>\n",
       "      <td>18.999342</td>\n",
       "      <td>5.086180</td>\n",
       "      <td>0.080242</td>\n",
       "    </tr>\n",
       "    <tr>\n",
       "      <th>3</th>\n",
       "      <td>2</td>\n",
       "      <td>Yes</td>\n",
       "      <td>3</td>\n",
       "      <td>3</td>\n",
       "      <td>1.1</td>\n",
       "      <td>1433</td>\n",
       "      <td>6137</td>\n",
       "      <td>26934</td>\n",
       "      <td>18.929987</td>\n",
       "      <td>5.051645</td>\n",
       "      <td>0.079751</td>\n",
       "    </tr>\n",
       "    <tr>\n",
       "      <th>4</th>\n",
       "      <td>2</td>\n",
       "      <td>Yes</td>\n",
       "      <td>3</td>\n",
       "      <td>3</td>\n",
       "      <td>1.2</td>\n",
       "      <td>1437</td>\n",
       "      <td>6132</td>\n",
       "      <td>26932</td>\n",
       "      <td>18.985335</td>\n",
       "      <td>5.065388</td>\n",
       "      <td>0.079971</td>\n",
       "    </tr>\n",
       "    <tr>\n",
       "      <th>5</th>\n",
       "      <td>2</td>\n",
       "      <td>Yes</td>\n",
       "      <td>3</td>\n",
       "      <td>3</td>\n",
       "      <td>1.3</td>\n",
       "      <td>1433</td>\n",
       "      <td>6108</td>\n",
       "      <td>26937</td>\n",
       "      <td>19.002785</td>\n",
       "      <td>5.051110</td>\n",
       "      <td>0.079808</td>\n",
       "    </tr>\n",
       "    <tr>\n",
       "      <th>6</th>\n",
       "      <td>2</td>\n",
       "      <td>Yes</td>\n",
       "      <td>3</td>\n",
       "      <td>3</td>\n",
       "      <td>1.4</td>\n",
       "      <td>1421</td>\n",
       "      <td>6103</td>\n",
       "      <td>26941</td>\n",
       "      <td>18.886231</td>\n",
       "      <td>5.010225</td>\n",
       "      <td>0.079195</td>\n",
       "    </tr>\n",
       "    <tr>\n",
       "      <th>7</th>\n",
       "      <td>2</td>\n",
       "      <td>Yes</td>\n",
       "      <td>3</td>\n",
       "      <td>3</td>\n",
       "      <td>1.5</td>\n",
       "      <td>1430</td>\n",
       "      <td>6093</td>\n",
       "      <td>26938</td>\n",
       "      <td>19.008374</td>\n",
       "      <td>5.040891</td>\n",
       "      <td>0.079686</td>\n",
       "    </tr>\n",
       "    <tr>\n",
       "      <th>8</th>\n",
       "      <td>2</td>\n",
       "      <td>Yes</td>\n",
       "      <td>3</td>\n",
       "      <td>3</td>\n",
       "      <td>1.6</td>\n",
       "      <td>1421</td>\n",
       "      <td>6063</td>\n",
       "      <td>26943</td>\n",
       "      <td>18.987173</td>\n",
       "      <td>5.009872</td>\n",
       "      <td>0.079279</td>\n",
       "    </tr>\n",
       "    <tr>\n",
       "      <th>9</th>\n",
       "      <td>2</td>\n",
       "      <td>Yes</td>\n",
       "      <td>3</td>\n",
       "      <td>3</td>\n",
       "      <td>1.7</td>\n",
       "      <td>1429</td>\n",
       "      <td>6044</td>\n",
       "      <td>26942</td>\n",
       "      <td>19.122173</td>\n",
       "      <td>5.036833</td>\n",
       "      <td>0.079734</td>\n",
       "    </tr>\n",
       "    <tr>\n",
       "      <th>10</th>\n",
       "      <td>2</td>\n",
       "      <td>Yes</td>\n",
       "      <td>3</td>\n",
       "      <td>3</td>\n",
       "      <td>1.8</td>\n",
       "      <td>1424</td>\n",
       "      <td>6047</td>\n",
       "      <td>26951</td>\n",
       "      <td>19.060367</td>\n",
       "      <td>5.018502</td>\n",
       "      <td>0.079451</td>\n",
       "    </tr>\n",
       "  </tbody>\n",
       "</table>\n",
       "</div>"
      ],
      "text/plain": [
       "    Co-Occurances Directed Graph  Top N Keywords  Max Keyword Phrase Length  \\\n",
       "0               2            Yes               3                          3   \n",
       "1               2            Yes               3                          3   \n",
       "2               2            Yes               3                          3   \n",
       "3               2            Yes               3                          3   \n",
       "4               2            Yes               3                          3   \n",
       "5               2            Yes               3                          3   \n",
       "6               2            Yes               3                          3   \n",
       "7               2            Yes               3                          3   \n",
       "8               2            Yes               3                          3   \n",
       "9               2            Yes               3                          3   \n",
       "10              2            Yes               3                          3   \n",
       "\n",
       "    Damp Factor  True Positives  False Positives  False Negatives  Precision  \\\n",
       "0           0.8            1442             6199            26921  18.871875   \n",
       "1           0.9            1444             6168            26921  18.970047   \n",
       "2           1.0            1443             6152            26928  18.999342   \n",
       "3           1.1            1433             6137            26934  18.929987   \n",
       "4           1.2            1437             6132            26932  18.985335   \n",
       "5           1.3            1433             6108            26937  19.002785   \n",
       "6           1.4            1421             6103            26941  18.886231   \n",
       "7           1.5            1430             6093            26938  19.008374   \n",
       "8           1.6            1421             6063            26943  18.987173   \n",
       "9           1.7            1429             6044            26942  19.122173   \n",
       "10          1.8            1424             6047            26951  19.060367   \n",
       "\n",
       "      Recall   F-Score  \n",
       "0   5.084088  0.080102  \n",
       "1   5.090781  0.080274  \n",
       "2   5.086180  0.080242  \n",
       "3   5.051645  0.079751  \n",
       "4   5.065388  0.079971  \n",
       "5   5.051110  0.079808  \n",
       "6   5.010225  0.079195  \n",
       "7   5.040891  0.079686  \n",
       "8   5.009872  0.079279  \n",
       "9   5.036833  0.079734  \n",
       "10  5.018502  0.079451  "
      ]
     },
     "execution_count": 17,
     "metadata": {},
     "output_type": "execute_result"
    }
   ],
   "source": [
    "df = pd.DataFrame(columns=['Co-Occurances', 'Directed Graph', 'Top N Keywords', 'Max Keyword Phrase Length', 'Damp Factor', 'True Positives', 'False Positives', 'False Negatives', 'Precision', 'Recall', 'F-Score'])\n",
    "results_array = np.array(results).flatten()\n",
    "for i, result in enumerate(results_array):\n",
    "    if result['directed']:\n",
    "        directed = 'Yes'\n",
    "    else:\n",
    "        directed = 'No'\n",
    "    precision = result['results']['TP'] / (result['results']['TP'] + result['results']['FP'])\n",
    "    recall = result['results']['TP'] / (result['results']['TP'] + result['results']['FN'])\n",
    "    f_score = 2 * precision * recall / (precision + recall)\n",
    "    df.loc[i] = [\n",
    "        result['co_occurances'],\n",
    "        directed,\n",
    "        result['max_keywords'],\n",
    "        result['max_keyword_length'],\n",
    "        result['damp_factor'],\n",
    "        result['results']['TP'],\n",
    "        result['results']['FP'],\n",
    "        result['results']['FN'],\n",
    "        precision * 100,\n",
    "        recall * 100,\n",
    "        f_score\n",
    "    ]\n",
    "df"
   ]
  },
  {
   "cell_type": "code",
   "execution_count": 18,
   "id": "00b346b8-2465-4b46-9b90-20475b2cd318",
   "metadata": {},
   "outputs": [],
   "source": [
    "df.to_excel(\"damp.xlsx\") "
   ]
  },
  {
   "cell_type": "code",
   "execution_count": null,
   "id": "aa86d282-52a2-4eb7-9c35-d35a38b1ece8",
   "metadata": {},
   "outputs": [],
   "source": []
  }
 ],
 "metadata": {
  "kernelspec": {
   "display_name": "Python 3 (ipykernel)",
   "language": "python",
   "name": "python3"
  },
  "language_info": {
   "codemirror_mode": {
    "name": "ipython",
    "version": 3
   },
   "file_extension": ".py",
   "mimetype": "text/x-python",
   "name": "python",
   "nbconvert_exporter": "python",
   "pygments_lexer": "ipython3",
   "version": "3.10.13"
  }
 },
 "nbformat": 4,
 "nbformat_minor": 5
}
